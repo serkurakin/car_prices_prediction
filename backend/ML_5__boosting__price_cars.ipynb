{
 "cells": [
  {
   "cell_type": "markdown",
   "metadata": {},
   "source": [
    "# Определение стоимости автомобилей"
   ]
  },
  {
   "cell_type": "markdown",
   "metadata": {},
   "source": [
    "# Цель:\n",
    "\n",
    "Построение модели машинного обучения для определения стоимости автомобилей сервиса продаж"
   ]
  },
  {
   "cell_type": "markdown",
   "metadata": {},
   "source": [
    "# Задачи:\n",
    "\n",
    "1) Обучение разных моделей машинного обучения. Для каждой модели нужно выбрать разные гиперпараметры.\n",
    "\n",
    "2) Анализ времени обучения моделей, времени предсказания и качества моделей.\n",
    "\n",
    "3) Выбор наилучшей модели по результатам проверки ее работы на тестовой выборке в соответствии с критериями заказчика, которому важны:\n",
    "- качество предсказания;\n",
    "- скорость предсказания;\n",
    "- время обучения."
   ]
  },
  {
   "cell_type": "markdown",
   "metadata": {},
   "source": [
    "# Описание данных\n",
    "\n",
    "Сервис по продаже автомобилей с пробегом «Не бит, не крашен» разрабатывает приложение для привлечения новых клиентов. В нём можно быстро узнать рыночную стоимость своего автомобиля. В распоряжении находятся исторические данные: технические характеристики, комплектации и цены автомобилей.\n",
    "\n",
    "Признаки датасета:\n",
    "* DateCrawled — дата скачивания анкеты из базы\n",
    "* VehicleType — тип автомобильного кузова\n",
    "* RegistrationYear — год регистрации автомобиля\n",
    "* Gearbox — тип коробки передач\n",
    "* Power — мощность (л. с.)\n",
    "* Model — модель автомобиля\n",
    "* Kilometer — пробег (км)\n",
    "* RegistrationMonth — месяц регистрации автомобиля\n",
    "* FuelType — тип топлива\n",
    "* Brand — марка автомобиля\n",
    "* Repaired — была машина в ремонте или нет\n",
    "* DateCreated — дата создания анкеты\n",
    "* NumberOfPictures — количество фотографий автомобиля\n",
    "* PostalCode — почтовый индекс владельца анкеты (пользователя)\n",
    "* LastSeen — дата последней активности пользователя\n",
    "\n",
    "Целевой признак:\n",
    "* Price — цена (евро)"
   ]
  },
  {
   "cell_type": "markdown",
   "metadata": {},
   "source": [
    "# Ход работы\n",
    "\n",
    "В ходе работы сначала будет проведен общий обзор данных, содержащихся в датасете. Далее будет проведена предобработка данных и их анализ для выявления ошибок, аномалий, пропусков. Пропущенные значения будут заполнены, также будут обработаны аномалии и выбросы в признаках. Неинформативные признаки будут удалены. Таким образом, данные будут подготовлены для машинного обучения.\n",
    "\n",
    "Следующий этап работы - выбор моделей, в частности, будут использованы модели бустинга. Для настройки гиперпараметров моделей будут использоваться пайплайны. Каждая модель с наилучшими гиперпараметрами будет оценена по времени обучения и метрикам качества на кросс-валидации. Затем наилучшие модели будут применены к тестовой выборке, проанализированы результаты, а также определена лучшая модель в соответствии с требованиям заказчика."
   ]
  },
  {
   "cell_type": "markdown",
   "metadata": {},
   "source": [
    "<h1>Содержание<span class=\"tocSkip\"></span></h1>\n",
    "<div class=\"toc\">\n",
    "    <ul class=\"toc-item\">\n",
    "        <li><span><a href=\"#Загрузка-и-обзор-данных\" data-toc-modified-id=\"Загрузка-и-обзор-данных-1\"><span class=\"toc-item-num\">1&nbsp;&nbsp;</span>Загрузка и обзор данных</a></span></li>\n",
    "        <li><span><a href=\"#Предобработка-данных\" data-toc-modified-id=\"Предобработка-данных-2\"><span class=\"toc-item-num\">2&nbsp;&nbsp;</span>Предобработка данных</a></span></li>\n",
    "        <li><span><a href=\"#Анализ-данных\" data-toc-modified-id=\"Анализ-данных-3\"><span class=\"toc-item-num\">3&nbsp;&nbsp;</span>Анализ данных</a></span></li>\n",
    "        <li><span><a href=\"#Обучение-моделей\" data-toc-modified-id=\"Обучение-моделей-4\"><span class=\"toc-item-num\">4&nbsp;&nbsp;</span>Обучение моделей</a></span></li>\n",
    "        <li><span><a href=\"#Анализ-моделей\" data-toc-modified-id=\"Анализ-моделей-5\"><span class=\"toc-item-num\">5&nbsp;&nbsp;</span>Анализ моделей</a></span></li>\n",
    "        <li><span><a href=\"#Общий-вывод\" data-toc-modified-id=\"Общий-вывод-6\"><span class=\"toc-item-num\">6&nbsp;&nbsp;</span>Общий вывод</a></span></li>\n",
    "    </ul>\n",
    "</div>"
   ]
  },
  {
   "cell_type": "markdown",
   "metadata": {},
   "source": [
    "## Загрузка и обзор данных"
   ]
  },
  {
   "cell_type": "code",
   "execution_count": 1,
   "metadata": {},
   "outputs": [],
   "source": [
    "# Импортируем нужные библиотеки и модули\n",
    "\n",
    "import pandas as pd\n",
    "import numpy as np\n",
    "import matplotlib.pyplot as plt\n",
    "import seaborn as sns\n",
    "from catboost import CatBoostRegressor\n",
    "import lightgbm as lgb\n",
    "from sklearn.model_selection import train_test_split, GridSearchCV\n",
    "from sklearn.metrics import mean_squared_error\n",
    "from sklearn.ensemble import RandomForestRegressor\n",
    "import lightgbm as lgb\n",
    "import os\n",
    "import phik\n",
    "from time import time\n",
    "from sklearn.linear_model import Ridge\n",
    "from sklearn.pipeline import Pipeline\n",
    "from xgboost import XGBRegressor\n",
    "from sklearn.impute import SimpleImputer\n",
    "from sklearn.preprocessing import StandardScaler, OneHotEncoder, TargetEncoder\n",
    "\n",
    "from sklearn.compose import ColumnTransformer\n",
    "from catboost import CatBoostRegressor\n",
    "from sklearn.inspection import permutation_importance\n",
    "import warnings\n",
    "warnings.filterwarnings('ignore')\n",
    "pd.set_option('display.max_colwidth', 180)"
   ]
  },
  {
   "cell_type": "code",
   "execution_count": 2,
   "metadata": {},
   "outputs": [],
   "source": [
    "# Загрузка данных\n",
    "\n",
    "pth1 = r'C:\\Users\\ksa18\\Dropbox\\My files\\ML_models\\car_prices_api\\autos.csv'\n",
    "pth2 = r'C:\\Users\\ksa18\\Downloads\\autos.csv'\n",
    "\n",
    "if os.path.exists(pth1):\n",
    "    df = pd.read_csv(pth1)\n",
    "elif os.path.exists(pth2):\n",
    "    df = pd.read_csv(pth2)\n",
    "else:\n",
    "    print('Ошибка')"
   ]
  },
  {
   "cell_type": "code",
   "execution_count": 3,
   "metadata": {},
   "outputs": [
    {
     "data": {
      "text/html": [
       "<div>\n",
       "<style scoped>\n",
       "    .dataframe tbody tr th:only-of-type {\n",
       "        vertical-align: middle;\n",
       "    }\n",
       "\n",
       "    .dataframe tbody tr th {\n",
       "        vertical-align: top;\n",
       "    }\n",
       "\n",
       "    .dataframe thead th {\n",
       "        text-align: right;\n",
       "    }\n",
       "</style>\n",
       "<table border=\"1\" class=\"dataframe\">\n",
       "  <thead>\n",
       "    <tr style=\"text-align: right;\">\n",
       "      <th></th>\n",
       "      <th>DateCrawled</th>\n",
       "      <th>Price</th>\n",
       "      <th>VehicleType</th>\n",
       "      <th>RegistrationYear</th>\n",
       "      <th>Gearbox</th>\n",
       "      <th>Power</th>\n",
       "      <th>Model</th>\n",
       "      <th>Kilometer</th>\n",
       "      <th>RegistrationMonth</th>\n",
       "      <th>FuelType</th>\n",
       "      <th>Brand</th>\n",
       "      <th>Repaired</th>\n",
       "      <th>DateCreated</th>\n",
       "      <th>NumberOfPictures</th>\n",
       "      <th>PostalCode</th>\n",
       "      <th>LastSeen</th>\n",
       "    </tr>\n",
       "  </thead>\n",
       "  <tbody>\n",
       "    <tr>\n",
       "      <th>0</th>\n",
       "      <td>2016-03-24 11:52:17</td>\n",
       "      <td>480</td>\n",
       "      <td>NaN</td>\n",
       "      <td>1993</td>\n",
       "      <td>manual</td>\n",
       "      <td>0</td>\n",
       "      <td>golf</td>\n",
       "      <td>150000</td>\n",
       "      <td>0</td>\n",
       "      <td>petrol</td>\n",
       "      <td>volkswagen</td>\n",
       "      <td>NaN</td>\n",
       "      <td>2016-03-24 00:00:00</td>\n",
       "      <td>0</td>\n",
       "      <td>70435</td>\n",
       "      <td>2016-04-07 03:16:57</td>\n",
       "    </tr>\n",
       "    <tr>\n",
       "      <th>1</th>\n",
       "      <td>2016-03-24 10:58:45</td>\n",
       "      <td>18300</td>\n",
       "      <td>coupe</td>\n",
       "      <td>2011</td>\n",
       "      <td>manual</td>\n",
       "      <td>190</td>\n",
       "      <td>NaN</td>\n",
       "      <td>125000</td>\n",
       "      <td>5</td>\n",
       "      <td>gasoline</td>\n",
       "      <td>audi</td>\n",
       "      <td>yes</td>\n",
       "      <td>2016-03-24 00:00:00</td>\n",
       "      <td>0</td>\n",
       "      <td>66954</td>\n",
       "      <td>2016-04-07 01:46:50</td>\n",
       "    </tr>\n",
       "    <tr>\n",
       "      <th>2</th>\n",
       "      <td>2016-03-14 12:52:21</td>\n",
       "      <td>9800</td>\n",
       "      <td>suv</td>\n",
       "      <td>2004</td>\n",
       "      <td>auto</td>\n",
       "      <td>163</td>\n",
       "      <td>grand</td>\n",
       "      <td>125000</td>\n",
       "      <td>8</td>\n",
       "      <td>gasoline</td>\n",
       "      <td>jeep</td>\n",
       "      <td>NaN</td>\n",
       "      <td>2016-03-14 00:00:00</td>\n",
       "      <td>0</td>\n",
       "      <td>90480</td>\n",
       "      <td>2016-04-05 12:47:46</td>\n",
       "    </tr>\n",
       "    <tr>\n",
       "      <th>3</th>\n",
       "      <td>2016-03-17 16:54:04</td>\n",
       "      <td>1500</td>\n",
       "      <td>small</td>\n",
       "      <td>2001</td>\n",
       "      <td>manual</td>\n",
       "      <td>75</td>\n",
       "      <td>golf</td>\n",
       "      <td>150000</td>\n",
       "      <td>6</td>\n",
       "      <td>petrol</td>\n",
       "      <td>volkswagen</td>\n",
       "      <td>no</td>\n",
       "      <td>2016-03-17 00:00:00</td>\n",
       "      <td>0</td>\n",
       "      <td>91074</td>\n",
       "      <td>2016-03-17 17:40:17</td>\n",
       "    </tr>\n",
       "    <tr>\n",
       "      <th>4</th>\n",
       "      <td>2016-03-31 17:25:20</td>\n",
       "      <td>3600</td>\n",
       "      <td>small</td>\n",
       "      <td>2008</td>\n",
       "      <td>manual</td>\n",
       "      <td>69</td>\n",
       "      <td>fabia</td>\n",
       "      <td>90000</td>\n",
       "      <td>7</td>\n",
       "      <td>gasoline</td>\n",
       "      <td>skoda</td>\n",
       "      <td>no</td>\n",
       "      <td>2016-03-31 00:00:00</td>\n",
       "      <td>0</td>\n",
       "      <td>60437</td>\n",
       "      <td>2016-04-06 10:17:21</td>\n",
       "    </tr>\n",
       "  </tbody>\n",
       "</table>\n",
       "</div>"
      ],
      "text/plain": [
       "           DateCrawled  Price VehicleType  RegistrationYear Gearbox  Power  \\\n",
       "0  2016-03-24 11:52:17    480         NaN              1993  manual      0   \n",
       "1  2016-03-24 10:58:45  18300       coupe              2011  manual    190   \n",
       "2  2016-03-14 12:52:21   9800         suv              2004    auto    163   \n",
       "3  2016-03-17 16:54:04   1500       small              2001  manual     75   \n",
       "4  2016-03-31 17:25:20   3600       small              2008  manual     69   \n",
       "\n",
       "   Model  Kilometer  RegistrationMonth  FuelType       Brand Repaired  \\\n",
       "0   golf     150000                  0    petrol  volkswagen      NaN   \n",
       "1    NaN     125000                  5  gasoline        audi      yes   \n",
       "2  grand     125000                  8  gasoline        jeep      NaN   \n",
       "3   golf     150000                  6    petrol  volkswagen       no   \n",
       "4  fabia      90000                  7  gasoline       skoda       no   \n",
       "\n",
       "           DateCreated  NumberOfPictures  PostalCode             LastSeen  \n",
       "0  2016-03-24 00:00:00                 0       70435  2016-04-07 03:16:57  \n",
       "1  2016-03-24 00:00:00                 0       66954  2016-04-07 01:46:50  \n",
       "2  2016-03-14 00:00:00                 0       90480  2016-04-05 12:47:46  \n",
       "3  2016-03-17 00:00:00                 0       91074  2016-03-17 17:40:17  \n",
       "4  2016-03-31 00:00:00                 0       60437  2016-04-06 10:17:21  "
      ]
     },
     "execution_count": 3,
     "metadata": {},
     "output_type": "execute_result"
    }
   ],
   "source": [
    "# Вывод первых 5 строк датасета\n",
    "\n",
    "df.head()"
   ]
  },
  {
   "cell_type": "code",
   "execution_count": 4,
   "metadata": {},
   "outputs": [
    {
     "name": "stdout",
     "output_type": "stream",
     "text": [
      "<class 'pandas.core.frame.DataFrame'>\n",
      "RangeIndex: 354369 entries, 0 to 354368\n",
      "Data columns (total 16 columns):\n",
      " #   Column             Non-Null Count   Dtype \n",
      "---  ------             --------------   ----- \n",
      " 0   DateCrawled        354369 non-null  object\n",
      " 1   Price              354369 non-null  int64 \n",
      " 2   VehicleType        316879 non-null  object\n",
      " 3   RegistrationYear   354369 non-null  int64 \n",
      " 4   Gearbox            334536 non-null  object\n",
      " 5   Power              354369 non-null  int64 \n",
      " 6   Model              334664 non-null  object\n",
      " 7   Kilometer          354369 non-null  int64 \n",
      " 8   RegistrationMonth  354369 non-null  int64 \n",
      " 9   FuelType           321474 non-null  object\n",
      " 10  Brand              354369 non-null  object\n",
      " 11  Repaired           283215 non-null  object\n",
      " 12  DateCreated        354369 non-null  object\n",
      " 13  NumberOfPictures   354369 non-null  int64 \n",
      " 14  PostalCode         354369 non-null  int64 \n",
      " 15  LastSeen           354369 non-null  object\n",
      "dtypes: int64(7), object(9)\n",
      "memory usage: 43.3+ MB\n"
     ]
    }
   ],
   "source": [
    "# Вывод общей информации\n",
    "\n",
    "df.info()"
   ]
  },
  {
   "cell_type": "markdown",
   "metadata": {},
   "source": [
    "<div style=\"border: 2px solid black; padding: 10px; border-radius: 5px;\">\n",
    "<strong>Вывод:\n",
    "</strong>\n",
    "\n",
    "В датасете 354369 строк и 16 столбцов. В некоторых столбцах присутствуют пропуски. Также названия колонок должны быть приведены к \"змеиному\" стилю."
   ]
  },
  {
   "cell_type": "markdown",
   "metadata": {},
   "source": [
    "## Предобработка данных"
   ]
  },
  {
   "cell_type": "markdown",
   "metadata": {},
   "source": [
    "Выявим явные дубликаты."
   ]
  },
  {
   "cell_type": "code",
   "execution_count": 5,
   "metadata": {},
   "outputs": [
    {
     "data": {
      "text/plain": [
       "np.int64(4)"
      ]
     },
     "execution_count": 5,
     "metadata": {},
     "output_type": "execute_result"
    }
   ],
   "source": [
    "df.duplicated().sum()"
   ]
  },
  {
   "cell_type": "code",
   "execution_count": 6,
   "metadata": {},
   "outputs": [
    {
     "data": {
      "text/plain": [
       "np.int64(0)"
      ]
     },
     "execution_count": 6,
     "metadata": {},
     "output_type": "execute_result"
    }
   ],
   "source": [
    "# Удаление дубликатов и проверка успешности удаления\n",
    "\n",
    "df = df.drop_duplicates()\n",
    "df.duplicated().sum()"
   ]
  },
  {
   "cell_type": "markdown",
   "metadata": {},
   "source": [
    "Рассмотрим данные в столбцах DateCrawled и DateCreated."
   ]
  },
  {
   "cell_type": "code",
   "execution_count": 7,
   "metadata": {},
   "outputs": [
    {
     "data": {
      "text/plain": [
       "329497    2016-03-05 14:06:22\n",
       "220583    2016-03-05 14:06:23\n",
       "176823    2016-03-05 14:06:24\n",
       "324763    2016-03-05 14:06:24\n",
       "99885     2016-03-05 14:06:24\n",
       "                 ...         \n",
       "204218    2016-04-07 14:36:53\n",
       "53739     2016-04-07 14:36:54\n",
       "301030    2016-04-07 14:36:55\n",
       "339649    2016-04-07 14:36:56\n",
       "90713     2016-04-07 14:36:58\n",
       "Name: DateCrawled, Length: 354365, dtype: object"
      ]
     },
     "execution_count": 7,
     "metadata": {},
     "output_type": "execute_result"
    }
   ],
   "source": [
    "df['DateCrawled'].sort_values()"
   ]
  },
  {
   "cell_type": "code",
   "execution_count": 8,
   "metadata": {},
   "outputs": [
    {
     "data": {
      "text/plain": [
       "61207     2014-03-10 00:00:00\n",
       "4001      2015-03-20 00:00:00\n",
       "342275    2015-06-18 00:00:00\n",
       "86601     2015-08-07 00:00:00\n",
       "175103    2015-08-10 00:00:00\n",
       "                 ...         \n",
       "184411    2016-04-07 00:00:00\n",
       "262340    2016-04-07 00:00:00\n",
       "214462    2016-04-07 00:00:00\n",
       "241969    2016-04-07 00:00:00\n",
       "260600    2016-04-07 00:00:00\n",
       "Name: DateCreated, Length: 354365, dtype: object"
      ]
     },
     "execution_count": 8,
     "metadata": {},
     "output_type": "execute_result"
    }
   ],
   "source": [
    "df['DateCreated'].sort_values()"
   ]
  },
  {
   "cell_type": "markdown",
   "metadata": {},
   "source": [
    "Выведем общую стат. информацию о количественных признаках датасета."
   ]
  },
  {
   "cell_type": "code",
   "execution_count": 9,
   "metadata": {},
   "outputs": [
    {
     "data": {
      "text/html": [
       "<div>\n",
       "<style scoped>\n",
       "    .dataframe tbody tr th:only-of-type {\n",
       "        vertical-align: middle;\n",
       "    }\n",
       "\n",
       "    .dataframe tbody tr th {\n",
       "        vertical-align: top;\n",
       "    }\n",
       "\n",
       "    .dataframe thead th {\n",
       "        text-align: right;\n",
       "    }\n",
       "</style>\n",
       "<table border=\"1\" class=\"dataframe\">\n",
       "  <thead>\n",
       "    <tr style=\"text-align: right;\">\n",
       "      <th></th>\n",
       "      <th>Price</th>\n",
       "      <th>RegistrationYear</th>\n",
       "      <th>Power</th>\n",
       "      <th>Kilometer</th>\n",
       "      <th>RegistrationMonth</th>\n",
       "      <th>NumberOfPictures</th>\n",
       "      <th>PostalCode</th>\n",
       "    </tr>\n",
       "  </thead>\n",
       "  <tbody>\n",
       "    <tr>\n",
       "      <th>count</th>\n",
       "      <td>354365.000000</td>\n",
       "      <td>354365.000000</td>\n",
       "      <td>354365.000000</td>\n",
       "      <td>354365.000000</td>\n",
       "      <td>354365.000000</td>\n",
       "      <td>354365.0</td>\n",
       "      <td>354365.000000</td>\n",
       "    </tr>\n",
       "    <tr>\n",
       "      <th>mean</th>\n",
       "      <td>4416.679830</td>\n",
       "      <td>2004.234481</td>\n",
       "      <td>110.093816</td>\n",
       "      <td>128211.363989</td>\n",
       "      <td>5.714650</td>\n",
       "      <td>0.0</td>\n",
       "      <td>50508.503800</td>\n",
       "    </tr>\n",
       "    <tr>\n",
       "      <th>std</th>\n",
       "      <td>4514.176349</td>\n",
       "      <td>90.228466</td>\n",
       "      <td>189.851330</td>\n",
       "      <td>37905.083858</td>\n",
       "      <td>3.726432</td>\n",
       "      <td>0.0</td>\n",
       "      <td>25783.100078</td>\n",
       "    </tr>\n",
       "    <tr>\n",
       "      <th>min</th>\n",
       "      <td>0.000000</td>\n",
       "      <td>1000.000000</td>\n",
       "      <td>0.000000</td>\n",
       "      <td>5000.000000</td>\n",
       "      <td>0.000000</td>\n",
       "      <td>0.0</td>\n",
       "      <td>1067.000000</td>\n",
       "    </tr>\n",
       "    <tr>\n",
       "      <th>25%</th>\n",
       "      <td>1050.000000</td>\n",
       "      <td>1999.000000</td>\n",
       "      <td>69.000000</td>\n",
       "      <td>125000.000000</td>\n",
       "      <td>3.000000</td>\n",
       "      <td>0.0</td>\n",
       "      <td>30165.000000</td>\n",
       "    </tr>\n",
       "    <tr>\n",
       "      <th>50%</th>\n",
       "      <td>2700.000000</td>\n",
       "      <td>2003.000000</td>\n",
       "      <td>105.000000</td>\n",
       "      <td>150000.000000</td>\n",
       "      <td>6.000000</td>\n",
       "      <td>0.0</td>\n",
       "      <td>49413.000000</td>\n",
       "    </tr>\n",
       "    <tr>\n",
       "      <th>75%</th>\n",
       "      <td>6400.000000</td>\n",
       "      <td>2008.000000</td>\n",
       "      <td>143.000000</td>\n",
       "      <td>150000.000000</td>\n",
       "      <td>9.000000</td>\n",
       "      <td>0.0</td>\n",
       "      <td>71083.000000</td>\n",
       "    </tr>\n",
       "    <tr>\n",
       "      <th>max</th>\n",
       "      <td>20000.000000</td>\n",
       "      <td>9999.000000</td>\n",
       "      <td>20000.000000</td>\n",
       "      <td>150000.000000</td>\n",
       "      <td>12.000000</td>\n",
       "      <td>0.0</td>\n",
       "      <td>99998.000000</td>\n",
       "    </tr>\n",
       "  </tbody>\n",
       "</table>\n",
       "</div>"
      ],
      "text/plain": [
       "               Price  RegistrationYear          Power      Kilometer  \\\n",
       "count  354365.000000     354365.000000  354365.000000  354365.000000   \n",
       "mean     4416.679830       2004.234481     110.093816  128211.363989   \n",
       "std      4514.176349         90.228466     189.851330   37905.083858   \n",
       "min         0.000000       1000.000000       0.000000    5000.000000   \n",
       "25%      1050.000000       1999.000000      69.000000  125000.000000   \n",
       "50%      2700.000000       2003.000000     105.000000  150000.000000   \n",
       "75%      6400.000000       2008.000000     143.000000  150000.000000   \n",
       "max     20000.000000       9999.000000   20000.000000  150000.000000   \n",
       "\n",
       "       RegistrationMonth  NumberOfPictures     PostalCode  \n",
       "count      354365.000000          354365.0  354365.000000  \n",
       "mean            5.714650               0.0   50508.503800  \n",
       "std             3.726432               0.0   25783.100078  \n",
       "min             0.000000               0.0    1067.000000  \n",
       "25%             3.000000               0.0   30165.000000  \n",
       "50%             6.000000               0.0   49413.000000  \n",
       "75%             9.000000               0.0   71083.000000  \n",
       "max            12.000000               0.0   99998.000000  "
      ]
     },
     "execution_count": 9,
     "metadata": {},
     "output_type": "execute_result"
    }
   ],
   "source": [
    "df.describe()"
   ]
  },
  {
   "cell_type": "markdown",
   "metadata": {},
   "source": [
    "Видно, что в датасете присутствуют аномальные значения, не соответствующие реальным (например, в признаках 'RegistrationYear'\tи 'Power'). Признак NumberOfPictures полностью состоит из нулей.\n",
    "\n",
    "Также в датасете присутствуют неинформативные признаки, которыми нельзя объяснить целевой признак. К таким признакам можно отнести DateCrawled, DateCreated,\tRegistrationMonth, NumberOfPictures, PostalCode и LastSeen, которые не влияют на стоимость авто. Удалим эти признаки."
   ]
  },
  {
   "cell_type": "code",
   "execution_count": 10,
   "metadata": {},
   "outputs": [],
   "source": [
    "df = df.drop(['DateCrawled', 'DateCreated', 'RegistrationMonth', 'NumberOfPictures', 'PostalCode', 'LastSeen'], axis=1)"
   ]
  },
  {
   "cell_type": "markdown",
   "metadata": {},
   "source": [
    "Приведем названия столбцов к \"змеиному типу\"."
   ]
  },
  {
   "cell_type": "code",
   "execution_count": 11,
   "metadata": {},
   "outputs": [],
   "source": [
    "# Понижение регистра и переименование столбцов\n",
    "\n",
    "df.columns = df.columns.str.lower()\n",
    "\n",
    "df.rename(columns={'vehicletype': 'vehicle_type', 'registrationyear': 'registration_year',\n",
    "                   'fueltype': 'fuel_type', }, inplace=True)"
   ]
  },
  {
   "cell_type": "markdown",
   "metadata": {},
   "source": [
    "Далее поработаем с пропусками в признаках."
   ]
  },
  {
   "cell_type": "code",
   "execution_count": 12,
   "metadata": {},
   "outputs": [
    {
     "data": {
      "text/html": [
       "<style type=\"text/css\">\n",
       "#T_7f4a6_row0_col0, #T_7f4a6_row2_col0, #T_7f4a6_row4_col0, #T_7f4a6_row6_col0, #T_7f4a6_row8_col0 {\n",
       "  background-color: #3b4cc0;\n",
       "  color: #f1f1f1;\n",
       "}\n",
       "#T_7f4a6_row1_col0 {\n",
       "  background-color: #e4d9d2;\n",
       "  color: #000000;\n",
       "}\n",
       "#T_7f4a6_row3_col0, #T_7f4a6_row5_col0 {\n",
       "  background-color: #97b8ff;\n",
       "  color: #000000;\n",
       "}\n",
       "#T_7f4a6_row7_col0 {\n",
       "  background-color: #d3dbe7;\n",
       "  color: #000000;\n",
       "}\n",
       "#T_7f4a6_row9_col0 {\n",
       "  background-color: #b40426;\n",
       "  color: #f1f1f1;\n",
       "}\n",
       "</style>\n",
       "<table id=\"T_7f4a6\">\n",
       "  <thead>\n",
       "    <tr>\n",
       "      <th class=\"blank level0\" >&nbsp;</th>\n",
       "      <th id=\"T_7f4a6_level0_col0\" class=\"col_heading level0 col0\" >0</th>\n",
       "    </tr>\n",
       "  </thead>\n",
       "  <tbody>\n",
       "    <tr>\n",
       "      <th id=\"T_7f4a6_level0_row0\" class=\"row_heading level0 row0\" >price</th>\n",
       "      <td id=\"T_7f4a6_row0_col0\" class=\"data row0 col0\" >0.000000</td>\n",
       "    </tr>\n",
       "    <tr>\n",
       "      <th id=\"T_7f4a6_level0_row1\" class=\"row_heading level0 row1\" >vehicle_type</th>\n",
       "      <td id=\"T_7f4a6_row1_col0\" class=\"data row1 col0\" >10.600000</td>\n",
       "    </tr>\n",
       "    <tr>\n",
       "      <th id=\"T_7f4a6_level0_row2\" class=\"row_heading level0 row2\" >registration_year</th>\n",
       "      <td id=\"T_7f4a6_row2_col0\" class=\"data row2 col0\" >0.000000</td>\n",
       "    </tr>\n",
       "    <tr>\n",
       "      <th id=\"T_7f4a6_level0_row3\" class=\"row_heading level0 row3\" >gearbox</th>\n",
       "      <td id=\"T_7f4a6_row3_col0\" class=\"data row3 col0\" >5.600000</td>\n",
       "    </tr>\n",
       "    <tr>\n",
       "      <th id=\"T_7f4a6_level0_row4\" class=\"row_heading level0 row4\" >power</th>\n",
       "      <td id=\"T_7f4a6_row4_col0\" class=\"data row4 col0\" >0.000000</td>\n",
       "    </tr>\n",
       "    <tr>\n",
       "      <th id=\"T_7f4a6_level0_row5\" class=\"row_heading level0 row5\" >model</th>\n",
       "      <td id=\"T_7f4a6_row5_col0\" class=\"data row5 col0\" >5.600000</td>\n",
       "    </tr>\n",
       "    <tr>\n",
       "      <th id=\"T_7f4a6_level0_row6\" class=\"row_heading level0 row6\" >kilometer</th>\n",
       "      <td id=\"T_7f4a6_row6_col0\" class=\"data row6 col0\" >0.000000</td>\n",
       "    </tr>\n",
       "    <tr>\n",
       "      <th id=\"T_7f4a6_level0_row7\" class=\"row_heading level0 row7\" >fuel_type</th>\n",
       "      <td id=\"T_7f4a6_row7_col0\" class=\"data row7 col0\" >9.300000</td>\n",
       "    </tr>\n",
       "    <tr>\n",
       "      <th id=\"T_7f4a6_level0_row8\" class=\"row_heading level0 row8\" >brand</th>\n",
       "      <td id=\"T_7f4a6_row8_col0\" class=\"data row8 col0\" >0.000000</td>\n",
       "    </tr>\n",
       "    <tr>\n",
       "      <th id=\"T_7f4a6_level0_row9\" class=\"row_heading level0 row9\" >repaired</th>\n",
       "      <td id=\"T_7f4a6_row9_col0\" class=\"data row9 col0\" >20.100000</td>\n",
       "    </tr>\n",
       "  </tbody>\n",
       "</table>\n"
      ],
      "text/plain": [
       "<pandas.io.formats.style.Styler at 0x24b50942cd0>"
      ]
     },
     "execution_count": 12,
     "metadata": {},
     "output_type": "execute_result"
    }
   ],
   "source": [
    "# Посчитаем долю пропусков в столбцах в процентах, создадаим датафрейм\n",
    "\n",
    "pd.DataFrame(round(df.isna().mean()*100,1)).style.background_gradient('coolwarm')"
   ]
  },
  {
   "cell_type": "markdown",
   "metadata": {},
   "source": [
    "В большинстве признаков пропуски составляют довольно значимую долю (около 10 - 20 %), поэтому их удаление нецелесообразно. Произведем заполнение пропусков - в случае категориальных признаков заполним пропуски заглушкой."
   ]
  },
  {
   "cell_type": "markdown",
   "metadata": {},
   "source": [
    "**Категориальные признаки**"
   ]
  },
  {
   "cell_type": "markdown",
   "metadata": {},
   "source": [
    "Рассмотрим уникальные значения и пропуски."
   ]
  },
  {
   "cell_type": "code",
   "execution_count": 13,
   "metadata": {},
   "outputs": [
    {
     "data": {
      "text/plain": [
       "vehicle_type\n",
       "sedan          91457\n",
       "small          79830\n",
       "wagon          65165\n",
       "bus            28775\n",
       "convertible    20203\n",
       "coupe          16161\n",
       "suv            11996\n",
       "other           3288\n",
       "Name: count, dtype: int64"
      ]
     },
     "execution_count": 13,
     "metadata": {},
     "output_type": "execute_result"
    }
   ],
   "source": [
    "df['vehicle_type'].value_counts()"
   ]
  },
  {
   "cell_type": "code",
   "execution_count": 14,
   "metadata": {},
   "outputs": [
    {
     "data": {
      "text/plain": [
       "gearbox\n",
       "manual    268249\n",
       "auto       66283\n",
       "Name: count, dtype: int64"
      ]
     },
     "execution_count": 14,
     "metadata": {},
     "output_type": "execute_result"
    }
   ],
   "source": [
    "df['gearbox'].value_counts()"
   ]
  },
  {
   "cell_type": "code",
   "execution_count": 15,
   "metadata": {},
   "outputs": [
    {
     "data": {
      "text/plain": [
       "model\n",
       "golf                  29232\n",
       "other                 24420\n",
       "3er                   19761\n",
       "polo                  13066\n",
       "corsa                 12570\n",
       "                      ...  \n",
       "i3                        8\n",
       "serie_3                   4\n",
       "rangerover                4\n",
       "range_rover_evoque        2\n",
       "serie_1                   2\n",
       "Name: count, Length: 250, dtype: int64"
      ]
     },
     "execution_count": 15,
     "metadata": {},
     "output_type": "execute_result"
    }
   ],
   "source": [
    "df['model'].value_counts()"
   ]
  },
  {
   "cell_type": "code",
   "execution_count": 16,
   "metadata": {},
   "outputs": [
    {
     "data": {
      "text/plain": [
       "fuel_type\n",
       "petrol      216349\n",
       "gasoline     98719\n",
       "lpg           5310\n",
       "cng            565\n",
       "hybrid         233\n",
       "other          204\n",
       "electric        90\n",
       "Name: count, dtype: int64"
      ]
     },
     "execution_count": 16,
     "metadata": {},
     "output_type": "execute_result"
    }
   ],
   "source": [
    "df['fuel_type'].value_counts()"
   ]
  },
  {
   "cell_type": "code",
   "execution_count": 17,
   "metadata": {},
   "outputs": [
    {
     "data": {
      "text/plain": [
       "repaired\n",
       "no     247158\n",
       "yes     36053\n",
       "Name: count, dtype: int64"
      ]
     },
     "execution_count": 17,
     "metadata": {},
     "output_type": "execute_result"
    }
   ],
   "source": [
    "df['repaired'].value_counts()"
   ]
  },
  {
   "cell_type": "markdown",
   "metadata": {},
   "source": [
    "Пропуски в этих столбцах заменим заглушкой."
   ]
  },
  {
   "cell_type": "code",
   "execution_count": 18,
   "metadata": {},
   "outputs": [],
   "source": [
    "df['vehicle_type'] = df['vehicle_type'].fillna('unknown')\n",
    "df['gearbox'] = df['gearbox'].fillna('unknown')\n",
    "df['model'] = df['model'].fillna('unknown')\n",
    "df['fuel_type'] = df['fuel_type'].fillna('unknown')\n",
    "df['repaired'] = df['repaired'].fillna('unknown')"
   ]
  },
  {
   "cell_type": "markdown",
   "metadata": {},
   "source": [
    "**Количественные признаки**"
   ]
  },
  {
   "cell_type": "markdown",
   "metadata": {},
   "source": [
    "Рассмотрим аномалии в этих признаках"
   ]
  },
  {
   "cell_type": "markdown",
   "metadata": {},
   "source": [
    "**1. Признак 'registration_year'**"
   ]
  },
  {
   "cell_type": "code",
   "execution_count": 19,
   "metadata": {},
   "outputs": [
    {
     "data": {
      "text/plain": [
       "array([1000, 1001, 1039, 1111, 1200, 1234, 1253, 1255, 1300, 1400, 1500,\n",
       "       1600, 1602, 1688, 1800, 1910, 1915, 1919, 1920, 1923, 1925, 1927,\n",
       "       1928, 1929, 1930, 1931, 1932, 1933, 1934, 1935, 1936, 1937, 1938,\n",
       "       1940, 1941, 1942, 1943, 1944, 1945, 1946, 1947, 1948, 1949, 1950,\n",
       "       1951, 1952, 1953, 1954, 1955, 1956, 1957, 1958, 1959, 1960, 1961,\n",
       "       1962, 1963, 1964, 1965, 1966, 1967, 1968, 1969, 1970, 1971, 1972,\n",
       "       1973, 1974, 1975, 1976, 1977, 1978, 1979, 1980, 1981, 1982, 1983,\n",
       "       1984, 1985, 1986, 1987, 1988, 1989, 1990, 1991, 1992, 1993, 1994,\n",
       "       1995, 1996, 1997, 1998, 1999, 2000, 2001, 2002, 2003, 2004, 2005,\n",
       "       2006, 2007, 2008, 2009, 2010, 2011, 2012, 2013, 2014, 2015, 2016,\n",
       "       2017, 2018, 2019, 2066, 2200, 2222, 2290, 2500, 2800, 2900, 3000,\n",
       "       3200, 3500, 3700, 3800, 4000, 4100, 4500, 4800, 5000, 5300, 5555,\n",
       "       5600, 5900, 5911, 6000, 6500, 7000, 7100, 7500, 7800, 8000, 8200,\n",
       "       8455, 8500, 8888, 9000, 9229, 9450, 9996, 9999])"
      ]
     },
     "execution_count": 19,
     "metadata": {},
     "output_type": "execute_result"
    }
   ],
   "source": [
    "df['registration_year'].sort_values().unique()"
   ]
  },
  {
   "cell_type": "markdown",
   "metadata": {},
   "source": [
    "В признаке 'registration_year' присутствуют аномальные значения. Рассчитаем долю таких значений. Учитывая, что невозможно обратиться к заказчику для прояснения ситуации, установим границы времени производства автомобилей самостоятельно - не новее 2016 года (учитывая, что дата выгрузки анкет об авто датируется 2016 годом) и не старше 1950 года (принимая во внимание, что сервис по продаже автомобилей может продавать и раритетные авто)."
   ]
  },
  {
   "cell_type": "code",
   "execution_count": 20,
   "metadata": {},
   "outputs": [
    {
     "data": {
      "text/plain": [
       "4.169712020092278"
      ]
     },
     "execution_count": 20,
     "metadata": {},
     "output_type": "execute_result"
    }
   ],
   "source": [
    "# Расчет процентного соотношения\n",
    "\n",
    "len(df.loc[(df['registration_year'] > 2016) | (df['registration_year'] < 1950)]) / len(df) * 100"
   ]
  },
  {
   "cell_type": "markdown",
   "metadata": {},
   "source": [
    "Доля таких авто довольно мала (около 4.2 %), поэтому удалим из датасета эти строки."
   ]
  },
  {
   "cell_type": "code",
   "execution_count": 21,
   "metadata": {},
   "outputs": [],
   "source": [
    "df = df[(df['registration_year'] >= 1950) & (df['registration_year'] <= 2016)]"
   ]
  },
  {
   "cell_type": "markdown",
   "metadata": {},
   "source": [
    "**2. Признак 'power'**"
   ]
  },
  {
   "cell_type": "markdown",
   "metadata": {},
   "source": [
    "Выведем все уникальные значения этого признака."
   ]
  },
  {
   "cell_type": "code",
   "execution_count": 22,
   "metadata": {
    "scrolled": true
   },
   "outputs": [
    {
     "data": {
      "text/plain": [
       "array([    0,     1,     2,     3,     4,     5,     6,     7,     8,\n",
       "           9,    10,    11,    12,    13,    14,    15,    16,    17,\n",
       "          18,    19,    20,    21,    22,    23,    24,    25,    26,\n",
       "          27,    28,    29,    30,    31,    32,    33,    34,    35,\n",
       "          36,    37,    38,    39,    40,    41,    42,    43,    44,\n",
       "          45,    46,    47,    48,    49,    50,    51,    52,    53,\n",
       "          54,    55,    56,    57,    58,    59,    60,    61,    62,\n",
       "          63,    64,    65,    66,    67,    68,    69,    70,    71,\n",
       "          72,    73,    74,    75,    76,    77,    78,    79,    80,\n",
       "          81,    82,    83,    84,    85,    86,    87,    88,    89,\n",
       "          90,    91,    92,    93,    94,    95,    96,    97,    98,\n",
       "          99,   100,   101,   102,   103,   104,   105,   106,   107,\n",
       "         108,   109,   110,   111,   112,   113,   114,   115,   116,\n",
       "         117,   118,   119,   120,   121,   122,   123,   124,   125,\n",
       "         126,   127,   128,   129,   130,   131,   132,   133,   134,\n",
       "         135,   136,   137,   138,   139,   140,   141,   142,   143,\n",
       "         144,   145,   146,   147,   148,   149,   150,   151,   152,\n",
       "         153,   154,   155,   156,   157,   158,   159,   160,   161,\n",
       "         162,   163,   164,   165,   166,   167,   168,   169,   170,\n",
       "         171,   172,   173,   174,   175,   176,   177,   178,   179,\n",
       "         180,   181,   182,   183,   184,   185,   186,   187,   188,\n",
       "         189,   190,   191,   192,   193,   194,   195,   196,   197,\n",
       "         198,   199,   200,   201,   202,   203,   204,   205,   206,\n",
       "         207,   208,   209,   210,   211,   212,   213,   214,   215,\n",
       "         216,   217,   218,   219,   220,   221,   222,   223,   224,\n",
       "         225,   226,   227,   228,   229,   230,   231,   232,   233,\n",
       "         234,   235,   236,   237,   238,   239,   240,   241,   242,\n",
       "         243,   244,   245,   246,   247,   248,   249,   250,   251,\n",
       "         252,   253,   254,   255,   256,   257,   258,   259,   260,\n",
       "         261,   262,   264,   265,   266,   267,   268,   269,   270,\n",
       "         271,   272,   273,   274,   275,   276,   277,   278,   279,\n",
       "         280,   281,   282,   283,   284,   285,   286,   287,   288,\n",
       "         289,   290,   292,   293,   294,   295,   296,   297,   298,\n",
       "         299,   300,   301,   303,   304,   305,   306,   307,   308,\n",
       "         309,   310,   311,   313,   314,   315,   316,   317,   318,\n",
       "         320,   321,   322,   323,   324,   325,   326,   327,   328,\n",
       "         329,   330,   331,   332,   333,   334,   335,   336,   337,\n",
       "         338,   339,   340,   341,   343,   344,   345,   346,   347,\n",
       "         348,   349,   350,   351,   352,   353,   354,   355,   356,\n",
       "         357,   358,   360,   361,   362,   363,   364,   365,   367,\n",
       "         368,   370,   371,   374,   375,   376,   377,   379,   380,\n",
       "         381,   382,   385,   386,   387,   388,   390,   392,   394,\n",
       "         396,   398,   399,   400,   401,   405,   408,   409,   411,\n",
       "         416,   420,   421,   425,   426,   428,   430,   431,   435,\n",
       "         440,   442,   445,   449,   450,   454,   457,   459,   460,\n",
       "         475,   476,   485,   487,   489,   490,   500,   504,   505,\n",
       "         507,   508,   510,   514,   515,   517,   519,   520,   521,\n",
       "         525,   530,   540,   541,   544,   550,   551,   553,   560,\n",
       "         572,   574,   579,   580,   584,   585,   599,   600,   601,\n",
       "         602,   603,   604,   606,   610,   612,   620,   640,   645,\n",
       "         650,   651,   671,   678,   682,   685,   696,   700,   702,\n",
       "         703,   732,   743,   750,   751,   754,   771,   776,   800,\n",
       "         805,   850,   851,   871,   900,   902,   903,   907,   909,\n",
       "         923,   950,   952,   953,   960,   998,   999,  1000,  1001,\n",
       "        1002,  1003,  1004,  1005,  1011,  1012,  1016,  1017,  1021,\n",
       "        1024,  1054,  1055,  1056,  1062,  1079,  1082,  1090,  1100,\n",
       "        1102,  1103,  1105,  1111,  1115,  1120,  1149,  1151,  1158,\n",
       "        1160,  1162,  1164,  1199,  1200,  1202,  1221,  1223,  1230,\n",
       "        1239,  1240,  1241,  1250,  1256,  1275,  1288,  1299,  1300,\n",
       "        1312,  1317,  1324,  1339,  1360,  1362,  1363,  1367,  1390,\n",
       "        1398,  1399,  1400,  1401,  1403,  1405,  1416,  1432,  1433,\n",
       "        1436,  1500,  1501,  1502,  1503,  1506,  1521,  1548,  1595,\n",
       "        1596,  1597,  1598,  1600,  1625,  1631,  1653,  1659,  1689,\n",
       "        1700,  1701,  1703,  1704,  1707,  1753,  1771,  1779,  1780,\n",
       "        1781,  1783,  1793,  1796,  1799,  1800,  1801,  1870,  1895,\n",
       "        1896,  1900,  1910,  1920,  1922,  1933,  1937,  1968,  1988,\n",
       "        1992,  1993,  1995,  1998,  1999,  2000,  2004,  2005,  2007,\n",
       "        2009,  2016,  2017,  2018,  2172,  2200,  2201,  2331,  2340,\n",
       "        2389,  2402,  2461,  2598,  2729,  2789,  2792,  2799,  3199,\n",
       "        3454,  3500,  3750,  4400,  4507,  4700,  5000,  5411,  5420,\n",
       "        5575,  5809,  5815,  5867,  6006,  6010,  6011,  6012,  6018,\n",
       "        6045,  6062,  6226,  6512,  6920,  7508,  7511,  7512,  7515,\n",
       "        7518,  7529,  7544,  8011,  8259,  8404,  8500,  9007,  9012,\n",
       "        9013,  9710, 10000, 10110, 10218, 10311, 10317, 10520, 10522,\n",
       "       10710, 10910, 10912, 11011, 11025, 11111, 11509, 11530, 11635,\n",
       "       12012, 12510, 12512, 12684, 13616, 13636, 14009, 15001, 15016,\n",
       "       15017, 15020, 15033, 16051, 16311, 16312, 17011, 17019, 17410,\n",
       "       17700, 17932, 19208, 19211, 19312, 20000])"
      ]
     },
     "execution_count": 22,
     "metadata": {},
     "output_type": "execute_result"
    }
   ],
   "source": [
    "df['power'].sort_values().unique()"
   ]
  },
  {
   "cell_type": "markdown",
   "metadata": {},
   "source": [
    "Построим для него гистограмму и диаграмму \"ящик с усами\"."
   ]
  },
  {
   "cell_type": "code",
   "execution_count": 23,
   "metadata": {},
   "outputs": [
    {
     "data": {
      "image/png": "[encoded data removed]",
      "text/plain": [
       "<Figure size 640x480 with 1 Axes>"
      ]
     },
     "metadata": {},
     "output_type": "display_data"
    }
   ],
   "source": [
    "df['power'][df['power'] < 500].hist(bins=100);"
   ]
  },
  {
   "cell_type": "code",
   "execution_count": 24,
   "metadata": {},
   "outputs": [
    {
     "data": {
      "image/png": "[encoded data removed]",
      "text/plain": [
       "<Figure size 640x480 with 1 Axes>"
      ]
     },
     "metadata": {},
     "output_type": "display_data"
    }
   ],
   "source": [
    "df['power'][df['power'] < 500].plot.box();"
   ]
  },
  {
   "cell_type": "markdown",
   "metadata": {},
   "source": [
    "Видно, что присутствуют аномальные значения - автомобили с нулем л.с. и нереалистично мощные автомобили. Проверим, какую долю в данных датасета составляют такие автомобили."
   ]
  },
  {
   "cell_type": "code",
   "execution_count": 25,
   "metadata": {},
   "outputs": [
    {
     "data": {
      "text/plain": [
       "10.697048490969967"
      ]
     },
     "metadata": {},
     "output_type": "display_data"
    },
    {
     "data": {
      "text/plain": [
       "10.820138461493158"
      ]
     },
     "metadata": {},
     "output_type": "display_data"
    }
   ],
   "source": [
    "# Отображение результата в процентах\n",
    "\n",
    "display(len(df[df['power'] == 0]) / len(df) * 100)\n",
    "display(len(df[(df['power'] == 0) | (df['power'] > 500)]) / len(df) * 100)"
   ]
  },
  {
   "cell_type": "markdown",
   "metadata": {},
   "source": [
    "Предположим, что авто с 0 л.с. могут быть без двигателя. Проверим, были ли такие машины в ремонте и какой тип топлива для них нужен."
   ]
  },
  {
   "cell_type": "code",
   "execution_count": 26,
   "metadata": {},
   "outputs": [
    {
     "data": {
      "text/plain": [
       "repaired\n",
       "unknown    19278\n",
       "no         12604\n",
       "yes         4444\n",
       "Name: count, dtype: int64"
      ]
     },
     "metadata": {},
     "output_type": "display_data"
    },
    {
     "data": {
      "text/plain": [
       "fuel_type\n",
       "petrol      18143\n",
       "unknown     10354\n",
       "gasoline     7292\n",
       "lpg           357\n",
       "other          94\n",
       "cng            52\n",
       "hybrid         22\n",
       "electric       12\n",
       "Name: count, dtype: int64"
      ]
     },
     "metadata": {},
     "output_type": "display_data"
    }
   ],
   "source": [
    "display(df[df['power'] == 0]['repaired'].value_counts())\n",
    "display(df[df['power'] == 0]['fuel_type'].value_counts())"
   ]
  },
  {
   "cell_type": "markdown",
   "metadata": {},
   "source": [
    "Учитывая, что много машин, где указаны 0 л.с., не были в ремонте, а также для таких машин чаще используют бензин, предположим, что значение 0 л.с. - аномальное значение. "
   ]
  },
  {
   "cell_type": "markdown",
   "metadata": {},
   "source": [
    "Поскольку известно, что в мире существовали и существуют маломощные автомобили мощностью в том числе и около 5 л.с., удалим лишь те строки, в которых мощность равна 0, и удалим строки с выбросами, соответствующими мощности авто более 500 л.с., поскольку слишком большая мощность авто (несколько тысяч л.с.), встрачающаяся в датасете, нереалистична. Более того, сервис не продает гоночные и уникальные авто, поскольку цена таковых сильно бы превышала максимальную цену (20000 евро), встречающуюся в датасете."
   ]
  },
  {
   "cell_type": "code",
   "execution_count": 27,
   "metadata": {},
   "outputs": [],
   "source": [
    "df = df[(df['power'] != 0) & (df['power'] < 500)]"
   ]
  },
  {
   "cell_type": "markdown",
   "metadata": {},
   "source": [
    "**3. Признак 'kilometer'**"
   ]
  },
  {
   "cell_type": "code",
   "execution_count": 28,
   "metadata": {},
   "outputs": [
    {
     "data": {
      "text/plain": [
       "kilometer\n",
       "150000    201478\n",
       "125000     32254\n",
       "100000     13025\n",
       "90000      10438\n",
       "80000       9138\n",
       "70000       7881\n",
       "60000       6882\n",
       "50000       5707\n",
       "40000       4553\n",
       "30000       3973\n",
       "20000       3349\n",
       "5000        3183\n",
       "10000        949\n",
       "Name: count, dtype: int64"
      ]
     },
     "execution_count": 28,
     "metadata": {},
     "output_type": "execute_result"
    }
   ],
   "source": [
    "df['kilometer'].value_counts()"
   ]
  },
  {
   "cell_type": "markdown",
   "metadata": {},
   "source": [
    "Аномалий не наблюдается."
   ]
  },
  {
   "cell_type": "markdown",
   "metadata": {},
   "source": [
    "**4. Целевой признак 'price'**"
   ]
  },
  {
   "cell_type": "code",
   "execution_count": 29,
   "metadata": {},
   "outputs": [
    {
     "data": {
      "text/plain": [
       "price\n",
       "0        6387\n",
       "500      4470\n",
       "1500     4430\n",
       "1200     3736\n",
       "2500     3705\n",
       "         ... \n",
       "976         1\n",
       "408         1\n",
       "4159        1\n",
       "17830       1\n",
       "2085        1\n",
       "Name: count, Length: 3591, dtype: int64"
      ]
     },
     "execution_count": 29,
     "metadata": {},
     "output_type": "execute_result"
    }
   ],
   "source": [
    "df['price'].value_counts()"
   ]
  },
  {
   "cell_type": "code",
   "execution_count": 30,
   "metadata": {},
   "outputs": [
    {
     "data": {
      "text/plain": [
       "array([  0,   1,   2,   3,   5,   9,  10,  11,  12,  13,  15,  16,  17,\n",
       "        19,  20,  24,  25,  26,  29,  30,  35,  38,  39,  40,  45,  47,\n",
       "        49,  50,  55,  60,  65,  66,  69,  70,  75,  77,  79,  80,  85,\n",
       "        89,  90,  95,  98,  99, 100, 101, 105, 108, 110, 111, 112, 115,\n",
       "       117, 119, 120, 122, 123, 125, 126, 128, 129, 130, 132, 133, 135,\n",
       "       139, 140, 142, 145, 149, 150, 155, 156, 157, 159, 160, 162, 165,\n",
       "       166, 169, 170, 173, 175, 179, 180, 181, 185, 188, 189, 190, 192,\n",
       "       193, 195, 196, 198, 199, 200, 202, 205, 209, 210, 211, 215, 217,\n",
       "       219, 220, 222, 224, 225, 229, 230, 233, 235, 236, 240, 243, 245,\n",
       "       248, 249, 250, 251, 252, 253, 255, 259, 260, 261, 263, 265, 266,\n",
       "       269, 270, 272, 273, 274, 275, 277, 278, 279, 280, 281, 284, 285,\n",
       "       289, 290, 295, 298, 299, 300, 301])"
      ]
     },
     "execution_count": 30,
     "metadata": {},
     "output_type": "execute_result"
    }
   ],
   "source": [
    "df['price'].sort_values().unique()[:150]"
   ]
  },
  {
   "cell_type": "markdown",
   "metadata": {},
   "source": [
    "Имеются авто с нулевой ценой, что странно с точки зрения бизнеса сервиса, а также существуют машины с очень низкой стоимостью. Ограничим минимальную цену авто стами евро. Посчитаем процент таких автомобилей."
   ]
  },
  {
   "cell_type": "code",
   "execution_count": 31,
   "metadata": {},
   "outputs": [
    {
     "data": {
      "text/plain": [
       "2.4985964796406988"
      ]
     },
     "execution_count": 31,
     "metadata": {},
     "output_type": "execute_result"
    }
   ],
   "source": [
    "len(df[df['price'] < 100]) / len(df) * 100"
   ]
  },
  {
   "cell_type": "markdown",
   "metadata": {},
   "source": [
    "Удалим строки с ценой менее 100 евро."
   ]
  },
  {
   "cell_type": "code",
   "execution_count": 32,
   "metadata": {},
   "outputs": [],
   "source": [
    "df = df[df['price'] >= 100]"
   ]
  },
  {
   "cell_type": "markdown",
   "metadata": {},
   "source": [
    "**Итоговая проверка**"
   ]
  },
  {
   "cell_type": "markdown",
   "metadata": {},
   "source": [
    "Проверим успешность заполнения пропусков и общую информацию о получившемся датасете"
   ]
  },
  {
   "cell_type": "code",
   "execution_count": 33,
   "metadata": {},
   "outputs": [
    {
     "data": {
      "text/plain": [
       "price                0\n",
       "vehicle_type         0\n",
       "registration_year    0\n",
       "gearbox              0\n",
       "power                0\n",
       "model                0\n",
       "kilometer            0\n",
       "fuel_type            0\n",
       "brand                0\n",
       "repaired             0\n",
       "dtype: int64"
      ]
     },
     "execution_count": 33,
     "metadata": {},
     "output_type": "execute_result"
    }
   ],
   "source": [
    "# Вывод количества пропусков в признаках\n",
    "\n",
    "df.isna().sum()"
   ]
  },
  {
   "cell_type": "code",
   "execution_count": 34,
   "metadata": {},
   "outputs": [
    {
     "name": "stdout",
     "output_type": "stream",
     "text": [
      "<class 'pandas.core.frame.DataFrame'>\n",
      "Index: 295244 entries, 1 to 354368\n",
      "Data columns (total 10 columns):\n",
      " #   Column             Non-Null Count   Dtype \n",
      "---  ------             --------------   ----- \n",
      " 0   price              295244 non-null  int64 \n",
      " 1   vehicle_type       295244 non-null  object\n",
      " 2   registration_year  295244 non-null  int64 \n",
      " 3   gearbox            295244 non-null  object\n",
      " 4   power              295244 non-null  int64 \n",
      " 5   model              295244 non-null  object\n",
      " 6   kilometer          295244 non-null  int64 \n",
      " 7   fuel_type          295244 non-null  object\n",
      " 8   brand              295244 non-null  object\n",
      " 9   repaired           295244 non-null  object\n",
      "dtypes: int64(4), object(6)\n",
      "memory usage: 24.8+ MB\n"
     ]
    }
   ],
   "source": [
    "# Вывод общей информации\n",
    "\n",
    "df.info()"
   ]
  },
  {
   "cell_type": "markdown",
   "metadata": {},
   "source": [
    "<div style=\"border: 2px solid black; padding: 10px; border-radius: 5px;\">\n",
    "<strong>Вывод:\n",
    "</strong> \n",
    "    В разделе была проведена предобработка данных - определены признаки, которые совершенно неинформативны для целевого признака (они были удалены), названия столбцов приведены к \"змеиному\" стилю, заполнены пропуски в признаках, а также обработаны аномальные значения в количественных признаках."
   ]
  },
  {
   "cell_type": "markdown",
   "metadata": {},
   "source": [
    "## Анализ данных"
   ]
  },
  {
   "cell_type": "markdown",
   "metadata": {},
   "source": [
    "**Признаки, имеющие непрерывную \"природу\"**"
   ]
  },
  {
   "cell_type": "code",
   "execution_count": 35,
   "metadata": {},
   "outputs": [],
   "source": [
    "# Напишем функцию для построения графиков количественных признаков, распределенных непрерывно\n",
    "\n",
    "def plot_numbers(df, labels_dict, nrows=1, ncols=3, figsize=(15, 4)):\n",
    "    \n",
    "    fig, axes = plt.subplots(nrows=nrows, ncols=ncols, figsize=figsize)\n",
    "    axes = axes.ravel()\n",
    "    \n",
    "    for i, col in enumerate(labels_dict):\n",
    "        df[col].plot.hist(bins=50, ax=axes[i])\n",
    "        \n",
    "        # Получаем подписи из словаря\n",
    "        title, xlabel, ylabel = labels_dict.get(col)\n",
    "        \n",
    "        axes[i].set_title(title)\n",
    "        axes[i].set_xlabel(xlabel)\n",
    "        axes[i].set_ylabel(ylabel)\n",
    "    \n",
    "    for j in range(i+1, len(axes)):\n",
    "        axes[j].set_visible(False) \n",
    "    plt.tight_layout() \n",
    "    plt.show()"
   ]
  },
  {
   "cell_type": "code",
   "execution_count": 36,
   "metadata": {},
   "outputs": [
    {
     "data": {
      "image/png": "[encoded data removed]",
      "text/plain": [
       "<Figure size 1500x400 with 3 Axes>"
      ]
     },
     "metadata": {},
     "output_type": "display_data"
    }
   ],
   "source": [
    "# Оформим название графиков и подписи к осям в словарь\n",
    "\n",
    "labels_dict1 = {\n",
    "    'price': ['Распределение значений в столбце price', 'Цена, евро', 'Количество автомобилей, шт.'],\n",
    "    'registration_year': ['Распределение значений в столбце registration_year',\n",
    "                          'Год регистрации', 'Количество автомобилей, шт.'],\n",
    "    'power': ['Распределение значений в столбце power', 'Мощность, л. с.', 'Количество автомобилей, шт.']\n",
    "}\n",
    "\n",
    "# Вызов функции для гистограмм\n",
    "\n",
    "plot_numbers(df[['price', 'registration_year', 'power']], labels_dict1)"
   ]
  },
  {
   "cell_type": "markdown",
   "metadata": {},
   "source": [
    "Распределение значений в целевом признаке price скошено, имеет длинный правый хвост."
   ]
  },
  {
   "cell_type": "markdown",
   "metadata": {},
   "source": [
    "**Признаки, имеющие дискретную \"природу\"**"
   ]
  },
  {
   "cell_type": "code",
   "execution_count": 37,
   "metadata": {},
   "outputs": [],
   "source": [
    "# Напишем функцию для построения графиков количественных признаков, имеющих дискретную природу\n",
    "\n",
    "def plot_bars(df, labels_dict, nrows=1, ncols=3, figsize=(15, 4)):\n",
    "    \n",
    "    fig, axes = plt.subplots(nrows=nrows, ncols=ncols, figsize=figsize)\n",
    "    axes = axes.ravel()\n",
    "    \n",
    "    for i, col in enumerate(labels_dict):\n",
    "        df[col].value_counts().sort_index().plot(kind='bar', ax=axes[i])\n",
    "        \n",
    "        title, xlabel, ylabel = labels_dict.get(col)\n",
    "        \n",
    "        axes[i].set_title(title)\n",
    "        axes[i].set_xlabel(xlabel)\n",
    "        axes[i].set_ylabel(ylabel)\n",
    "        \n",
    "    for j in range(i+1, len(axes)):\n",
    "        axes[j].set_visible(False) \n",
    "    plt.tight_layout() \n",
    "    plt.show()"
   ]
  },
  {
   "cell_type": "code",
   "execution_count": 38,
   "metadata": {},
   "outputs": [
    {
     "data": {
      "image/png": "[encoded data removed]",
      "text/plain": [
       "<Figure size 1500x400 with 3 Axes>"
      ]
     },
     "metadata": {},
     "output_type": "display_data"
    }
   ],
   "source": [
    "# Оформим название графиков и подписи к осям в словарь\n",
    "\n",
    "labels_dict2 = {\n",
    "    'kilometer': ['Распределение значений в столбце kilometer', 'Пробег, км', 'Количество автомобилей, шт.']\n",
    "}\n",
    "\n",
    "# Вызов функции для столбиковых диаграмм\n",
    "\n",
    "plot_bars(df[['kilometer']], labels_dict2)"
   ]
  },
  {
   "cell_type": "markdown",
   "metadata": {},
   "source": [
    "Пробег автомобилей дискретен (от 5000 до 150000 км) - вероятно, значения были округлены."
   ]
  },
  {
   "cell_type": "markdown",
   "metadata": {},
   "source": [
    "Далее для количественных признаков построим диаграммы \"ящик с усами\"."
   ]
  },
  {
   "cell_type": "code",
   "execution_count": 39,
   "metadata": {},
   "outputs": [],
   "source": [
    "# Напишем функцию для построения диаграмм \"ящик с усами\"\n",
    "\n",
    "def boxplot_numbers(df, labels_dict, nrows=3, ncols=3, figsize=(15, 10)):\n",
    "\n",
    "    fig, axes = plt.subplots(nrows=nrows, ncols=ncols, figsize=figsize)\n",
    "    axes = axes.ravel()\n",
    "    \n",
    "    for i, col in enumerate(labels_dict):\n",
    "        df[col].plot.box(ax=axes[i])\n",
    "        \n",
    "        title, xlabel, ylabel = labels_dict.get(col)\n",
    "        \n",
    "        axes[i].set_title(f'Boxplot для столбца {col}')\n",
    "        axes[i].set_ylabel(xlabel)\n",
    "        \n",
    "    for j in range(i+1, len(axes)):\n",
    "        axes[j].set_visible(False)  \n",
    "        \n",
    "    plt.tight_layout() \n",
    "    plt.show()"
   ]
  },
  {
   "cell_type": "code",
   "execution_count": 40,
   "metadata": {},
   "outputs": [
    {
     "data": {
      "image/png": "[encoded data removed]",
      "text/plain": [
       "<Figure size 1500x1000 with 9 Axes>"
      ]
     },
     "metadata": {},
     "output_type": "display_data"
    }
   ],
   "source": [
    "# Вызов функции для построения диаграмм \"ящик с усами\"\n",
    "\n",
    "labels_dict_total = labels_dict1 | labels_dict2\n",
    "\n",
    "boxplot_numbers(df[['price', 'registration_year', 'power', 'kilometer']], labels_dict_total)"
   ]
  },
  {
   "cell_type": "markdown",
   "metadata": {},
   "source": [
    "Медианная цена автомобилей в сервисе продаж - около 2500 евро, возраст авто - около 13 лет (на 2016 год), мощность - 105 л.с., пробег в основном составляет около 150000 км, т.е. в этом сервисе преимущественно продают машины с большим пробегом."
   ]
  },
  {
   "cell_type": "markdown",
   "metadata": {},
   "source": [
    "Несмотря на то что некоторые признаки имеют выбросы, оставим их нетронутыми, поскольку, например, раритетные авто могут стоить дорого, равно как и авто с малым пробегом и с высокой мощностью. Обучение моделей на таких автомобилях важно с точки зрения бизнеса."
   ]
  },
  {
   "cell_type": "markdown",
   "metadata": {},
   "source": [
    "**Категориальные признаки**"
   ]
  },
  {
   "cell_type": "code",
   "execution_count": 41,
   "metadata": {},
   "outputs": [],
   "source": [
    "# Напишем функцию для построения столбцатых диаграмм для вывода процентного соотнощения уникальных категорий в датасете\n",
    "\n",
    "def plot_categories(df, nrows=2, ncols=2, figsize=(15, 8)):\n",
    "\n",
    "    cat_cols = df.select_dtypes(include='object').columns\n",
    "    \n",
    "    fig, axes = plt.subplots(nrows=nrows, ncols=ncols, figsize=figsize)\n",
    "    axes = axes.ravel()\n",
    "    \n",
    "    for i, col in enumerate(cat_cols):\n",
    "\n",
    "        value_counts = df[col].value_counts(normalize=True) * 100\n",
    "        bars = value_counts.plot.bar(ax=axes[i], rot=0)\n",
    "        axes[i].set_title(col)\n",
    "        axes[i].set_ylabel('Процентное соотношение, %', size=12)\n",
    "\n",
    "    for j in range(i+1, len(axes)):\n",
    "        axes[j].axis('off')\n",
    "\n",
    "    plt.tight_layout()\n",
    "    plt.show()"
   ]
  },
  {
   "cell_type": "code",
   "execution_count": 42,
   "metadata": {},
   "outputs": [
    {
     "data": {
      "image/png": "[encoded data removed]",
      "text/plain": [
       "<Figure size 1500x800 with 4 Axes>"
      ]
     },
     "metadata": {},
     "output_type": "display_data"
    }
   ],
   "source": [
    "# Вызов функции\n",
    "\n",
    "plot_categories(df[['vehicle_type', 'gearbox', 'fuel_type', 'repaired']])"
   ]
  },
  {
   "cell_type": "markdown",
   "metadata": {},
   "source": [
    "Наиболее распространенный тип автомобилей в сервисе по продажам - это седаны (более 25%), коробка передач - механическая (почти 80%), тип топлива - petrol (более 60 %). Известно, что большинство автомобилей (более 70%) не были в ремонте."
   ]
  },
  {
   "cell_type": "markdown",
   "metadata": {},
   "source": [
    "**Корреляционный анализ**"
   ]
  },
  {
   "cell_type": "code",
   "execution_count": 43,
   "metadata": {},
   "outputs": [
    {
     "data": {
      "image/png": "[encoded data removed]",
      "text/plain": [
       "<Figure size 1000x700 with 2 Axes>"
      ]
     },
     "metadata": {},
     "output_type": "display_data"
    }
   ],
   "source": [
    "# Вычисляем матрицу phi-k корреляций и визуализируем тепловую карту\n",
    "\n",
    "selected_cols = ['price', 'registration_year', 'power']\n",
    "\n",
    "phi_k_matrix = df.phik_matrix(interval_cols=selected_cols)\n",
    "\n",
    "plt.figure(figsize=(10, 7))\n",
    "sns.heatmap(phi_k_matrix, annot=True, fmt=\".2f\", cmap='coolwarm', vmin=0, vmax=1, linewidths=0.5)\n",
    "plt.title('Матрица коэффициентов корреляции Фи-к')\n",
    "plt.show()"
   ]
  },
  {
   "cell_type": "code",
   "execution_count": 44,
   "metadata": {},
   "outputs": [
    {
     "data": {
      "text/html": [
       "<div>\n",
       "<style scoped>\n",
       "    .dataframe tbody tr th:only-of-type {\n",
       "        vertical-align: middle;\n",
       "    }\n",
       "\n",
       "    .dataframe tbody tr th {\n",
       "        vertical-align: top;\n",
       "    }\n",
       "\n",
       "    .dataframe thead th {\n",
       "        text-align: right;\n",
       "    }\n",
       "</style>\n",
       "<table border=\"1\" class=\"dataframe\">\n",
       "  <thead>\n",
       "    <tr style=\"text-align: right;\">\n",
       "      <th></th>\n",
       "      <th>price</th>\n",
       "      <th>vehicle_type</th>\n",
       "      <th>registration_year</th>\n",
       "      <th>gearbox</th>\n",
       "      <th>power</th>\n",
       "      <th>model</th>\n",
       "      <th>kilometer</th>\n",
       "      <th>fuel_type</th>\n",
       "      <th>brand</th>\n",
       "      <th>repaired</th>\n",
       "    </tr>\n",
       "  </thead>\n",
       "  <tbody>\n",
       "    <tr>\n",
       "      <th>1</th>\n",
       "      <td>18300</td>\n",
       "      <td>coupe</td>\n",
       "      <td>2011</td>\n",
       "      <td>manual</td>\n",
       "      <td>190</td>\n",
       "      <td>unknown</td>\n",
       "      <td>125000</td>\n",
       "      <td>gasoline</td>\n",
       "      <td>audi</td>\n",
       "      <td>yes</td>\n",
       "    </tr>\n",
       "    <tr>\n",
       "      <th>2</th>\n",
       "      <td>9800</td>\n",
       "      <td>suv</td>\n",
       "      <td>2004</td>\n",
       "      <td>auto</td>\n",
       "      <td>163</td>\n",
       "      <td>grand</td>\n",
       "      <td>125000</td>\n",
       "      <td>gasoline</td>\n",
       "      <td>jeep</td>\n",
       "      <td>unknown</td>\n",
       "    </tr>\n",
       "    <tr>\n",
       "      <th>3</th>\n",
       "      <td>1500</td>\n",
       "      <td>small</td>\n",
       "      <td>2001</td>\n",
       "      <td>manual</td>\n",
       "      <td>75</td>\n",
       "      <td>golf</td>\n",
       "      <td>150000</td>\n",
       "      <td>petrol</td>\n",
       "      <td>volkswagen</td>\n",
       "      <td>no</td>\n",
       "    </tr>\n",
       "    <tr>\n",
       "      <th>4</th>\n",
       "      <td>3600</td>\n",
       "      <td>small</td>\n",
       "      <td>2008</td>\n",
       "      <td>manual</td>\n",
       "      <td>69</td>\n",
       "      <td>fabia</td>\n",
       "      <td>90000</td>\n",
       "      <td>gasoline</td>\n",
       "      <td>skoda</td>\n",
       "      <td>no</td>\n",
       "    </tr>\n",
       "    <tr>\n",
       "      <th>5</th>\n",
       "      <td>650</td>\n",
       "      <td>sedan</td>\n",
       "      <td>1995</td>\n",
       "      <td>manual</td>\n",
       "      <td>102</td>\n",
       "      <td>3er</td>\n",
       "      <td>150000</td>\n",
       "      <td>petrol</td>\n",
       "      <td>bmw</td>\n",
       "      <td>yes</td>\n",
       "    </tr>\n",
       "    <tr>\n",
       "      <th>6</th>\n",
       "      <td>2200</td>\n",
       "      <td>convertible</td>\n",
       "      <td>2004</td>\n",
       "      <td>manual</td>\n",
       "      <td>109</td>\n",
       "      <td>2_reihe</td>\n",
       "      <td>150000</td>\n",
       "      <td>petrol</td>\n",
       "      <td>peugeot</td>\n",
       "      <td>no</td>\n",
       "    </tr>\n",
       "    <tr>\n",
       "      <th>8</th>\n",
       "      <td>14500</td>\n",
       "      <td>bus</td>\n",
       "      <td>2014</td>\n",
       "      <td>manual</td>\n",
       "      <td>125</td>\n",
       "      <td>c_max</td>\n",
       "      <td>30000</td>\n",
       "      <td>petrol</td>\n",
       "      <td>ford</td>\n",
       "      <td>unknown</td>\n",
       "    </tr>\n",
       "    <tr>\n",
       "      <th>9</th>\n",
       "      <td>999</td>\n",
       "      <td>small</td>\n",
       "      <td>1998</td>\n",
       "      <td>manual</td>\n",
       "      <td>101</td>\n",
       "      <td>golf</td>\n",
       "      <td>150000</td>\n",
       "      <td>unknown</td>\n",
       "      <td>volkswagen</td>\n",
       "      <td>unknown</td>\n",
       "    </tr>\n",
       "    <tr>\n",
       "      <th>10</th>\n",
       "      <td>2000</td>\n",
       "      <td>sedan</td>\n",
       "      <td>2004</td>\n",
       "      <td>manual</td>\n",
       "      <td>105</td>\n",
       "      <td>3_reihe</td>\n",
       "      <td>150000</td>\n",
       "      <td>petrol</td>\n",
       "      <td>mazda</td>\n",
       "      <td>no</td>\n",
       "    </tr>\n",
       "    <tr>\n",
       "      <th>11</th>\n",
       "      <td>2799</td>\n",
       "      <td>wagon</td>\n",
       "      <td>2005</td>\n",
       "      <td>manual</td>\n",
       "      <td>140</td>\n",
       "      <td>passat</td>\n",
       "      <td>150000</td>\n",
       "      <td>gasoline</td>\n",
       "      <td>volkswagen</td>\n",
       "      <td>yes</td>\n",
       "    </tr>\n",
       "  </tbody>\n",
       "</table>\n",
       "</div>"
      ],
      "text/plain": [
       "    price vehicle_type  registration_year gearbox  power    model  kilometer  \\\n",
       "1   18300        coupe               2011  manual    190  unknown     125000   \n",
       "2    9800          suv               2004    auto    163    grand     125000   \n",
       "3    1500        small               2001  manual     75     golf     150000   \n",
       "4    3600        small               2008  manual     69    fabia      90000   \n",
       "5     650        sedan               1995  manual    102      3er     150000   \n",
       "6    2200  convertible               2004  manual    109  2_reihe     150000   \n",
       "8   14500          bus               2014  manual    125    c_max      30000   \n",
       "9     999        small               1998  manual    101     golf     150000   \n",
       "10   2000        sedan               2004  manual    105  3_reihe     150000   \n",
       "11   2799        wagon               2005  manual    140   passat     150000   \n",
       "\n",
       "   fuel_type       brand repaired  \n",
       "1   gasoline        audi      yes  \n",
       "2   gasoline        jeep  unknown  \n",
       "3     petrol  volkswagen       no  \n",
       "4   gasoline       skoda       no  \n",
       "5     petrol         bmw      yes  \n",
       "6     petrol     peugeot       no  \n",
       "8     petrol        ford  unknown  \n",
       "9    unknown  volkswagen  unknown  \n",
       "10    petrol       mazda       no  \n",
       "11  gasoline  volkswagen      yes  "
      ]
     },
     "execution_count": 44,
     "metadata": {},
     "output_type": "execute_result"
    }
   ],
   "source": [
    "df.head(10)"
   ]
  },
  {
   "cell_type": "markdown",
   "metadata": {},
   "source": [
    "В датасете присутствует мультиколлинеарность между некоторыми признаками (например, между признаками 'brand' и 'model'), что критично для линейных моделей."
   ]
  },
  {
   "cell_type": "markdown",
   "metadata": {},
   "source": [
    "<div style=\"border: 2px solid black; padding: 10px; border-radius: 5px;\">\n",
    "<strong>Вывод:\n",
    "</strong> \n",
    "    В разделе был проведен анализ данных. Показано, что присутствуют выбросы и мультиколлинеарность между некоторыми признаками.\n",
    "    Установлено, что в этом сервисе преимущественно продают машины с большим пробегом и довольно старые. Например, возраст авто - около 17 лет, пробег в основном составляет около 150000 км."
   ]
  },
  {
   "cell_type": "markdown",
   "metadata": {},
   "source": [
    "## Обучение моделей"
   ]
  },
  {
   "cell_type": "markdown",
   "metadata": {},
   "source": [
    "Далее будет решаться задача регрессии (целевой признак: price), где будут использоваться следующие модели машинного обучения:\n",
    "\n",
    "* Ridge\n",
    "* RandomForest\n",
    "* LightGBM\n",
    "* XGBoost\n",
    "* CatBoost\n",
    "\n",
    "В качестве метрики будет использоваться RMSE (целевое значение - не более 2500). С использованием пайплайнов модели будут обучены, для каждой из них будет подобран как минимум один гиперпараметр, и определена лучшая модель на кросс-валидации."
   ]
  },
  {
   "cell_type": "code",
   "execution_count": 45,
   "metadata": {},
   "outputs": [],
   "source": [
    "# В функции разделим выборки на тренировочную и тестовую, закодируем категориальные признаки в пайплайне\n",
    "\n",
    "def prepare_data(df, target_column, test_size=0.25, random_state=42):\n",
    "\n",
    "    X = df.drop(columns=[target_column])\n",
    "    y = df[target_column]\n",
    "    \n",
    "    num_cols = X.select_dtypes(include=['int64', 'float64']).columns.tolist()\n",
    "    cat_cols = X.select_dtypes(include=['object']).columns.tolist()\n",
    "    \n",
    "    encoder = TargetEncoder(target_type=\"continuous\", cv=5, smooth=\"auto\")\n",
    "    \n",
    "    preprocessor = ColumnTransformer(transformers=[\n",
    "        ('num', StandardScaler(), num_cols),\n",
    "        ('cat', encoder, cat_cols)], remainder='passthrough')\n",
    "    \n",
    "    X_train, X_test, y_train, y_test = train_test_split(\n",
    "        X, y, test_size=test_size, random_state=random_state)\n",
    "    \n",
    "    return X_train, X_test, y_train, y_test, preprocessor"
   ]
  },
  {
   "cell_type": "code",
   "execution_count": 46,
   "metadata": {},
   "outputs": [],
   "source": [
    "# Вызов функции\n",
    "\n",
    "X_train, X_test, y_train, y_test, preprocessor = prepare_data(df, target_column='price')"
   ]
  },
  {
   "cell_type": "code",
   "execution_count": 47,
   "metadata": {},
   "outputs": [],
   "source": [
    "# Подберем гиперпараметры у моделей\n",
    "\n",
    "param_grids = [\n",
    "    {\n",
    "        'model': [Ridge(random_state=42)],\n",
    "        'model__alpha': [0.1, 1, 10]\n",
    "    },\n",
    "    {\n",
    "        'model': [RandomForestRegressor(random_state=42)],\n",
    "        'model__n_estimators': [50],\n",
    "        'model__max_depth': [20],\n",
    "        'model__min_samples_split': [2, 5]\n",
    "    },\n",
    "    {\n",
    "        'model': [lgb.LGBMRegressor(random_state=42)],\n",
    "        'model__learning_rate': [0.05, 0.1],\n",
    "        'model__n_estimators': [50],\n",
    "        'model__num_leaves': [63]\n",
    "    },\n",
    "    {\n",
    "        'model': [XGBRegressor(random_state=42, tree_method=\"hist\")],\n",
    "        'model__learning_rate': [0.05],\n",
    "        'model__max_depth': [3]\n",
    "    },\n",
    "    {\n",
    "        'model': [CatBoostRegressor(random_state=42, verbose=0)], \n",
    "        'model__depth': [4, 8],\n",
    "        'model__learning_rate': [0.05, 0.1]\n",
    "    }\n",
    "]"
   ]
  },
  {
   "cell_type": "code",
   "execution_count": 48,
   "metadata": {
    "scrolled": true
   },
   "outputs": [
    {
     "name": "stdout",
     "output_type": "stream",
     "text": [
      "Fitting 3 folds for each of 12 candidates, totalling 36 fits\n"
     ]
    },
    {
     "data": {
      "text/html": [
       "<style>#sk-container-id-1 {\n",
       "  /* Definition of color scheme common for light and dark mode */\n",
       "  --sklearn-color-text: #000;\n",
       "  --sklearn-color-text-muted: #666;\n",
       "  --sklearn-color-line: gray;\n",
       "  /* Definition of color scheme for unfitted estimators */\n",
       "  --sklearn-color-unfitted-level-0: #fff5e6;\n",
       "  --sklearn-color-unfitted-level-1: #f6e4d2;\n",
       "  --sklearn-color-unfitted-level-2: #ffe0b3;\n",
       "  --sklearn-color-unfitted-level-3: chocolate;\n",
       "  /* Definition of color scheme for fitted estimators */\n",
       "  --sklearn-color-fitted-level-0: #f0f8ff;\n",
       "  --sklearn-color-fitted-level-1: #d4ebff;\n",
       "  --sklearn-color-fitted-level-2: #b3dbfd;\n",
       "  --sklearn-color-fitted-level-3: cornflowerblue;\n",
       "\n",
       "  /* Specific color for light theme */\n",
       "  --sklearn-color-text-on-default-background: var(--sg-text-color, var(--theme-code-foreground, var(--jp-content-font-color1, black)));\n",
       "  --sklearn-color-background: var(--sg-background-color, var(--theme-background, var(--jp-layout-color0, white)));\n",
       "  --sklearn-color-border-box: var(--sg-text-color, var(--theme-code-foreground, var(--jp-content-font-color1, black)));\n",
       "  --sklearn-color-icon: #696969;\n",
       "\n",
       "  @media (prefers-color-scheme: dark) {\n",
       "    /* Redefinition of color scheme for dark theme */\n",
       "    --sklearn-color-text-on-default-background: var(--sg-text-color, var(--theme-code-foreground, var(--jp-content-font-color1, white)));\n",
       "    --sklearn-color-background: var(--sg-background-color, var(--theme-background, var(--jp-layout-color0, #111)));\n",
       "    --sklearn-color-border-box: var(--sg-text-color, var(--theme-code-foreground, var(--jp-content-font-color1, white)));\n",
       "    --sklearn-color-icon: #878787;\n",
       "  }\n",
       "}\n",
       "\n",
       "#sk-container-id-1 {\n",
       "  color: var(--sklearn-color-text);\n",
       "}\n",
       "\n",
       "#sk-container-id-1 pre {\n",
       "  padding: 0;\n",
       "}\n",
       "\n",
       "#sk-container-id-1 input.sk-hidden--visually {\n",
       "  border: 0;\n",
       "  clip: rect(1px 1px 1px 1px);\n",
       "  clip: rect(1px, 1px, 1px, 1px);\n",
       "  height: 1px;\n",
       "  margin: -1px;\n",
       "  overflow: hidden;\n",
       "  padding: 0;\n",
       "  position: absolute;\n",
       "  width: 1px;\n",
       "}\n",
       "\n",
       "#sk-container-id-1 div.sk-dashed-wrapped {\n",
       "  border: 1px dashed var(--sklearn-color-line);\n",
       "  margin: 0 0.4em 0.5em 0.4em;\n",
       "  box-sizing: border-box;\n",
       "  padding-bottom: 0.4em;\n",
       "  background-color: var(--sklearn-color-background);\n",
       "}\n",
       "\n",
       "#sk-container-id-1 div.sk-container {\n",
       "  /* jupyter's `normalize.less` sets `[hidden] { display: none; }`\n",
       "     but bootstrap.min.css set `[hidden] { display: none !important; }`\n",
       "     so we also need the `!important` here to be able to override the\n",
       "     default hidden behavior on the sphinx rendered scikit-learn.org.\n",
       "     See: https://github.com/scikit-learn/scikit-learn/issues/21755 */\n",
       "  display: inline-block !important;\n",
       "  position: relative;\n",
       "}\n",
       "\n",
       "#sk-container-id-1 div.sk-text-repr-fallback {\n",
       "  display: none;\n",
       "}\n",
       "\n",
       "div.sk-parallel-item,\n",
       "div.sk-serial,\n",
       "div.sk-item {\n",
       "  /* draw centered vertical line to link estimators */\n",
       "  background-image: linear-gradient(var(--sklearn-color-text-on-default-background), var(--sklearn-color-text-on-default-background));\n",
       "  background-size: 2px 100%;\n",
       "  background-repeat: no-repeat;\n",
       "  background-position: center center;\n",
       "}\n",
       "\n",
       "/* Parallel-specific style estimator block */\n",
       "\n",
       "#sk-container-id-1 div.sk-parallel-item::after {\n",
       "  content: \"\";\n",
       "  width: 100%;\n",
       "  border-bottom: 2px solid var(--sklearn-color-text-on-default-background);\n",
       "  flex-grow: 1;\n",
       "}\n",
       "\n",
       "#sk-container-id-1 div.sk-parallel {\n",
       "  display: flex;\n",
       "  align-items: stretch;\n",
       "  justify-content: center;\n",
       "  background-color: var(--sklearn-color-background);\n",
       "  position: relative;\n",
       "}\n",
       "\n",
       "#sk-container-id-1 div.sk-parallel-item {\n",
       "  display: flex;\n",
       "  flex-direction: column;\n",
       "}\n",
       "\n",
       "#sk-container-id-1 div.sk-parallel-item:first-child::after {\n",
       "  align-self: flex-end;\n",
       "  width: 50%;\n",
       "}\n",
       "\n",
       "#sk-container-id-1 div.sk-parallel-item:last-child::after {\n",
       "  align-self: flex-start;\n",
       "  width: 50%;\n",
       "}\n",
       "\n",
       "#sk-container-id-1 div.sk-parallel-item:only-child::after {\n",
       "  width: 0;\n",
       "}\n",
       "\n",
       "/* Serial-specific style estimator block */\n",
       "\n",
       "#sk-container-id-1 div.sk-serial {\n",
       "  display: flex;\n",
       "  flex-direction: column;\n",
       "  align-items: center;\n",
       "  background-color: var(--sklearn-color-background);\n",
       "  padding-right: 1em;\n",
       "  padding-left: 1em;\n",
       "}\n",
       "\n",
       "\n",
       "/* Toggleable style: style used for estimator/Pipeline/ColumnTransformer box that is\n",
       "clickable and can be expanded/collapsed.\n",
       "- Pipeline and ColumnTransformer use this feature and define the default style\n",
       "- Estimators will overwrite some part of the style using the `sk-estimator` class\n",
       "*/\n",
       "\n",
       "/* Pipeline and ColumnTransformer style (default) */\n",
       "\n",
       "#sk-container-id-1 div.sk-toggleable {\n",
       "  /* Default theme specific background. It is overwritten whether we have a\n",
       "  specific estimator or a Pipeline/ColumnTransformer */\n",
       "  background-color: var(--sklearn-color-background);\n",
       "}\n",
       "\n",
       "/* Toggleable label */\n",
       "#sk-container-id-1 label.sk-toggleable__label {\n",
       "  cursor: pointer;\n",
       "  display: flex;\n",
       "  width: 100%;\n",
       "  margin-bottom: 0;\n",
       "  padding: 0.5em;\n",
       "  box-sizing: border-box;\n",
       "  text-align: center;\n",
       "  align-items: start;\n",
       "  justify-content: space-between;\n",
       "  gap: 0.5em;\n",
       "}\n",
       "\n",
       "#sk-container-id-1 label.sk-toggleable__label .caption {\n",
       "  font-size: 0.6rem;\n",
       "  font-weight: lighter;\n",
       "  color: var(--sklearn-color-text-muted);\n",
       "}\n",
       "\n",
       "#sk-container-id-1 label.sk-toggleable__label-arrow:before {\n",
       "  /* Arrow on the left of the label */\n",
       "  content: \"▸\";\n",
       "  float: left;\n",
       "  margin-right: 0.25em;\n",
       "  color: var(--sklearn-color-icon);\n",
       "}\n",
       "\n",
       "#sk-container-id-1 label.sk-toggleable__label-arrow:hover:before {\n",
       "  color: var(--sklearn-color-text);\n",
       "}\n",
       "\n",
       "/* Toggleable content - dropdown */\n",
       "\n",
       "#sk-container-id-1 div.sk-toggleable__content {\n",
       "  max-height: 0;\n",
       "  max-width: 0;\n",
       "  overflow: hidden;\n",
       "  text-align: left;\n",
       "  /* unfitted */\n",
       "  background-color: var(--sklearn-color-unfitted-level-0);\n",
       "}\n",
       "\n",
       "#sk-container-id-1 div.sk-toggleable__content.fitted {\n",
       "  /* fitted */\n",
       "  background-color: var(--sklearn-color-fitted-level-0);\n",
       "}\n",
       "\n",
       "#sk-container-id-1 div.sk-toggleable__content pre {\n",
       "  margin: 0.2em;\n",
       "  border-radius: 0.25em;\n",
       "  color: var(--sklearn-color-text);\n",
       "  /* unfitted */\n",
       "  background-color: var(--sklearn-color-unfitted-level-0);\n",
       "}\n",
       "\n",
       "#sk-container-id-1 div.sk-toggleable__content.fitted pre {\n",
       "  /* unfitted */\n",
       "  background-color: var(--sklearn-color-fitted-level-0);\n",
       "}\n",
       "\n",
       "#sk-container-id-1 input.sk-toggleable__control:checked~div.sk-toggleable__content {\n",
       "  /* Expand drop-down */\n",
       "  max-height: 200px;\n",
       "  max-width: 100%;\n",
       "  overflow: auto;\n",
       "}\n",
       "\n",
       "#sk-container-id-1 input.sk-toggleable__control:checked~label.sk-toggleable__label-arrow:before {\n",
       "  content: \"▾\";\n",
       "}\n",
       "\n",
       "/* Pipeline/ColumnTransformer-specific style */\n",
       "\n",
       "#sk-container-id-1 div.sk-label input.sk-toggleable__control:checked~label.sk-toggleable__label {\n",
       "  color: var(--sklearn-color-text);\n",
       "  background-color: var(--sklearn-color-unfitted-level-2);\n",
       "}\n",
       "\n",
       "#sk-container-id-1 div.sk-label.fitted input.sk-toggleable__control:checked~label.sk-toggleable__label {\n",
       "  background-color: var(--sklearn-color-fitted-level-2);\n",
       "}\n",
       "\n",
       "/* Estimator-specific style */\n",
       "\n",
       "/* Colorize estimator box */\n",
       "#sk-container-id-1 div.sk-estimator input.sk-toggleable__control:checked~label.sk-toggleable__label {\n",
       "  /* unfitted */\n",
       "  background-color: var(--sklearn-color-unfitted-level-2);\n",
       "}\n",
       "\n",
       "#sk-container-id-1 div.sk-estimator.fitted input.sk-toggleable__control:checked~label.sk-toggleable__label {\n",
       "  /* fitted */\n",
       "  background-color: var(--sklearn-color-fitted-level-2);\n",
       "}\n",
       "\n",
       "#sk-container-id-1 div.sk-label label.sk-toggleable__label,\n",
       "#sk-container-id-1 div.sk-label label {\n",
       "  /* The background is the default theme color */\n",
       "  color: var(--sklearn-color-text-on-default-background);\n",
       "}\n",
       "\n",
       "/* On hover, darken the color of the background */\n",
       "#sk-container-id-1 div.sk-label:hover label.sk-toggleable__label {\n",
       "  color: var(--sklearn-color-text);\n",
       "  background-color: var(--sklearn-color-unfitted-level-2);\n",
       "}\n",
       "\n",
       "/* Label box, darken color on hover, fitted */\n",
       "#sk-container-id-1 div.sk-label.fitted:hover label.sk-toggleable__label.fitted {\n",
       "  color: var(--sklearn-color-text);\n",
       "  background-color: var(--sklearn-color-fitted-level-2);\n",
       "}\n",
       "\n",
       "/* Estimator label */\n",
       "\n",
       "#sk-container-id-1 div.sk-label label {\n",
       "  font-family: monospace;\n",
       "  font-weight: bold;\n",
       "  display: inline-block;\n",
       "  line-height: 1.2em;\n",
       "}\n",
       "\n",
       "#sk-container-id-1 div.sk-label-container {\n",
       "  text-align: center;\n",
       "}\n",
       "\n",
       "/* Estimator-specific */\n",
       "#sk-container-id-1 div.sk-estimator {\n",
       "  font-family: monospace;\n",
       "  border: 1px dotted var(--sklearn-color-border-box);\n",
       "  border-radius: 0.25em;\n",
       "  box-sizing: border-box;\n",
       "  margin-bottom: 0.5em;\n",
       "  /* unfitted */\n",
       "  background-color: var(--sklearn-color-unfitted-level-0);\n",
       "}\n",
       "\n",
       "#sk-container-id-1 div.sk-estimator.fitted {\n",
       "  /* fitted */\n",
       "  background-color: var(--sklearn-color-fitted-level-0);\n",
       "}\n",
       "\n",
       "/* on hover */\n",
       "#sk-container-id-1 div.sk-estimator:hover {\n",
       "  /* unfitted */\n",
       "  background-color: var(--sklearn-color-unfitted-level-2);\n",
       "}\n",
       "\n",
       "#sk-container-id-1 div.sk-estimator.fitted:hover {\n",
       "  /* fitted */\n",
       "  background-color: var(--sklearn-color-fitted-level-2);\n",
       "}\n",
       "\n",
       "/* Specification for estimator info (e.g. \"i\" and \"?\") */\n",
       "\n",
       "/* Common style for \"i\" and \"?\" */\n",
       "\n",
       ".sk-estimator-doc-link,\n",
       "a:link.sk-estimator-doc-link,\n",
       "a:visited.sk-estimator-doc-link {\n",
       "  float: right;\n",
       "  font-size: smaller;\n",
       "  line-height: 1em;\n",
       "  font-family: monospace;\n",
       "  background-color: var(--sklearn-color-background);\n",
       "  border-radius: 1em;\n",
       "  height: 1em;\n",
       "  width: 1em;\n",
       "  text-decoration: none !important;\n",
       "  margin-left: 0.5em;\n",
       "  text-align: center;\n",
       "  /* unfitted */\n",
       "  border: var(--sklearn-color-unfitted-level-1) 1pt solid;\n",
       "  color: var(--sklearn-color-unfitted-level-1);\n",
       "}\n",
       "\n",
       ".sk-estimator-doc-link.fitted,\n",
       "a:link.sk-estimator-doc-link.fitted,\n",
       "a:visited.sk-estimator-doc-link.fitted {\n",
       "  /* fitted */\n",
       "  border: var(--sklearn-color-fitted-level-1) 1pt solid;\n",
       "  color: var(--sklearn-color-fitted-level-1);\n",
       "}\n",
       "\n",
       "/* On hover */\n",
       "div.sk-estimator:hover .sk-estimator-doc-link:hover,\n",
       ".sk-estimator-doc-link:hover,\n",
       "div.sk-label-container:hover .sk-estimator-doc-link:hover,\n",
       ".sk-estimator-doc-link:hover {\n",
       "  /* unfitted */\n",
       "  background-color: var(--sklearn-color-unfitted-level-3);\n",
       "  color: var(--sklearn-color-background);\n",
       "  text-decoration: none;\n",
       "}\n",
       "\n",
       "div.sk-estimator.fitted:hover .sk-estimator-doc-link.fitted:hover,\n",
       ".sk-estimator-doc-link.fitted:hover,\n",
       "div.sk-label-container:hover .sk-estimator-doc-link.fitted:hover,\n",
       ".sk-estimator-doc-link.fitted:hover {\n",
       "  /* fitted */\n",
       "  background-color: var(--sklearn-color-fitted-level-3);\n",
       "  color: var(--sklearn-color-background);\n",
       "  text-decoration: none;\n",
       "}\n",
       "\n",
       "/* Span, style for the box shown on hovering the info icon */\n",
       ".sk-estimator-doc-link span {\n",
       "  display: none;\n",
       "  z-index: 9999;\n",
       "  position: relative;\n",
       "  font-weight: normal;\n",
       "  right: .2ex;\n",
       "  padding: .5ex;\n",
       "  margin: .5ex;\n",
       "  width: min-content;\n",
       "  min-width: 20ex;\n",
       "  max-width: 50ex;\n",
       "  color: var(--sklearn-color-text);\n",
       "  box-shadow: 2pt 2pt 4pt #999;\n",
       "  /* unfitted */\n",
       "  background: var(--sklearn-color-unfitted-level-0);\n",
       "  border: .5pt solid var(--sklearn-color-unfitted-level-3);\n",
       "}\n",
       "\n",
       ".sk-estimator-doc-link.fitted span {\n",
       "  /* fitted */\n",
       "  background: var(--sklearn-color-fitted-level-0);\n",
       "  border: var(--sklearn-color-fitted-level-3);\n",
       "}\n",
       "\n",
       ".sk-estimator-doc-link:hover span {\n",
       "  display: block;\n",
       "}\n",
       "\n",
       "/* \"?\"-specific style due to the `<a>` HTML tag */\n",
       "\n",
       "#sk-container-id-1 a.estimator_doc_link {\n",
       "  float: right;\n",
       "  font-size: 1rem;\n",
       "  line-height: 1em;\n",
       "  font-family: monospace;\n",
       "  background-color: var(--sklearn-color-background);\n",
       "  border-radius: 1rem;\n",
       "  height: 1rem;\n",
       "  width: 1rem;\n",
       "  text-decoration: none;\n",
       "  /* unfitted */\n",
       "  color: var(--sklearn-color-unfitted-level-1);\n",
       "  border: var(--sklearn-color-unfitted-level-1) 1pt solid;\n",
       "}\n",
       "\n",
       "#sk-container-id-1 a.estimator_doc_link.fitted {\n",
       "  /* fitted */\n",
       "  border: var(--sklearn-color-fitted-level-1) 1pt solid;\n",
       "  color: var(--sklearn-color-fitted-level-1);\n",
       "}\n",
       "\n",
       "/* On hover */\n",
       "#sk-container-id-1 a.estimator_doc_link:hover {\n",
       "  /* unfitted */\n",
       "  background-color: var(--sklearn-color-unfitted-level-3);\n",
       "  color: var(--sklearn-color-background);\n",
       "  text-decoration: none;\n",
       "}\n",
       "\n",
       "#sk-container-id-1 a.estimator_doc_link.fitted:hover {\n",
       "  /* fitted */\n",
       "  background-color: var(--sklearn-color-fitted-level-3);\n",
       "}\n",
       "</style><div id=\"sk-container-id-1\" class=\"sk-top-container\"><div class=\"sk-text-repr-fallback\"><pre>GridSearchCV(cv=3,\n",
       "             estimator=Pipeline(steps=[(&#x27;preprocessor&#x27;,\n",
       "                                        ColumnTransformer(remainder=&#x27;passthrough&#x27;,\n",
       "                                                          transformers=[(&#x27;num&#x27;,\n",
       "                                                                         StandardScaler(),\n",
       "                                                                         [&#x27;registration_year&#x27;,\n",
       "                                                                          &#x27;power&#x27;,\n",
       "                                                                          &#x27;kilometer&#x27;]),\n",
       "                                                                        (&#x27;cat&#x27;,\n",
       "                                                                         TargetEncoder(target_type=&#x27;continuous&#x27;),\n",
       "                                                                         [&#x27;vehicle_type&#x27;,\n",
       "                                                                          &#x27;gearbox&#x27;,\n",
       "                                                                          &#x27;model&#x27;,\n",
       "                                                                          &#x27;fuel_type&#x27;,\n",
       "                                                                          &#x27;brand&#x27;,\n",
       "                                                                          &#x27;repaired&#x27;])])),\n",
       "                                       (&#x27;model&#x27;, None)]),\n",
       "             n_jobs=-1,\n",
       "             param_grid=[{&#x27;model&#x27;: [R...\n",
       "                                                 monotone_constraints=None,\n",
       "                                                 multi_strategy=None,\n",
       "                                                 n_estimators=None, n_jobs=None,\n",
       "                                                 num_parallel_tree=None,\n",
       "                                                 random_state=42, ...)],\n",
       "                          &#x27;model__learning_rate&#x27;: [0.05],\n",
       "                          &#x27;model__max_depth&#x27;: [3]},\n",
       "                         {&#x27;model&#x27;: [&lt;catboost.core.CatBoostRegressor object at 0x0000024B04767A00&gt;],\n",
       "                          &#x27;model__depth&#x27;: [4, 8],\n",
       "                          &#x27;model__learning_rate&#x27;: [0.05, 0.1]}],\n",
       "             scoring=&#x27;neg_root_mean_squared_error&#x27;, verbose=2)</pre><b>In a Jupyter environment, please rerun this cell to show the HTML representation or trust the notebook. <br />On GitHub, the HTML representation is unable to render, please try loading this page with nbviewer.org.</b></div><div class=\"sk-container\" hidden><div class=\"sk-item sk-dashed-wrapped\"><div class=\"sk-label-container\"><div class=\"sk-label fitted sk-toggleable\"><input class=\"sk-toggleable__control sk-hidden--visually\" id=\"sk-estimator-id-1\" type=\"checkbox\" ><label for=\"sk-estimator-id-1\" class=\"sk-toggleable__label fitted sk-toggleable__label-arrow\"><div><div>GridSearchCV</div></div><div><a class=\"sk-estimator-doc-link fitted\" rel=\"noreferrer\" target=\"_blank\" href=\"https://scikit-learn.org/1.6/modules/generated/sklearn.model_selection.GridSearchCV.html\">?<span>Documentation for GridSearchCV</span></a><span class=\"sk-estimator-doc-link fitted\">i<span>Fitted</span></span></div></label><div class=\"sk-toggleable__content fitted\"><pre>GridSearchCV(cv=3,\n",
       "             estimator=Pipeline(steps=[(&#x27;preprocessor&#x27;,\n",
       "                                        ColumnTransformer(remainder=&#x27;passthrough&#x27;,\n",
       "                                                          transformers=[(&#x27;num&#x27;,\n",
       "                                                                         StandardScaler(),\n",
       "                                                                         [&#x27;registration_year&#x27;,\n",
       "                                                                          &#x27;power&#x27;,\n",
       "                                                                          &#x27;kilometer&#x27;]),\n",
       "                                                                        (&#x27;cat&#x27;,\n",
       "                                                                         TargetEncoder(target_type=&#x27;continuous&#x27;),\n",
       "                                                                         [&#x27;vehicle_type&#x27;,\n",
       "                                                                          &#x27;gearbox&#x27;,\n",
       "                                                                          &#x27;model&#x27;,\n",
       "                                                                          &#x27;fuel_type&#x27;,\n",
       "                                                                          &#x27;brand&#x27;,\n",
       "                                                                          &#x27;repaired&#x27;])])),\n",
       "                                       (&#x27;model&#x27;, None)]),\n",
       "             n_jobs=-1,\n",
       "             param_grid=[{&#x27;model&#x27;: [R...\n",
       "                                                 monotone_constraints=None,\n",
       "                                                 multi_strategy=None,\n",
       "                                                 n_estimators=None, n_jobs=None,\n",
       "                                                 num_parallel_tree=None,\n",
       "                                                 random_state=42, ...)],\n",
       "                          &#x27;model__learning_rate&#x27;: [0.05],\n",
       "                          &#x27;model__max_depth&#x27;: [3]},\n",
       "                         {&#x27;model&#x27;: [&lt;catboost.core.CatBoostRegressor object at 0x0000024B04767A00&gt;],\n",
       "                          &#x27;model__depth&#x27;: [4, 8],\n",
       "                          &#x27;model__learning_rate&#x27;: [0.05, 0.1]}],\n",
       "             scoring=&#x27;neg_root_mean_squared_error&#x27;, verbose=2)</pre></div> </div></div><div class=\"sk-parallel\"><div class=\"sk-parallel-item\"><div class=\"sk-item\"><div class=\"sk-label-container\"><div class=\"sk-label fitted sk-toggleable\"><input class=\"sk-toggleable__control sk-hidden--visually\" id=\"sk-estimator-id-2\" type=\"checkbox\" ><label for=\"sk-estimator-id-2\" class=\"sk-toggleable__label fitted sk-toggleable__label-arrow\"><div><div>best_estimator_: Pipeline</div></div></label><div class=\"sk-toggleable__content fitted\"><pre>Pipeline(steps=[(&#x27;preprocessor&#x27;,\n",
       "                 ColumnTransformer(remainder=&#x27;passthrough&#x27;,\n",
       "                                   transformers=[(&#x27;num&#x27;, StandardScaler(),\n",
       "                                                  [&#x27;registration_year&#x27;, &#x27;power&#x27;,\n",
       "                                                   &#x27;kilometer&#x27;]),\n",
       "                                                 (&#x27;cat&#x27;,\n",
       "                                                  TargetEncoder(target_type=&#x27;continuous&#x27;),\n",
       "                                                  [&#x27;vehicle_type&#x27;, &#x27;gearbox&#x27;,\n",
       "                                                   &#x27;model&#x27;, &#x27;fuel_type&#x27;,\n",
       "                                                   &#x27;brand&#x27;, &#x27;repaired&#x27;])])),\n",
       "                (&#x27;model&#x27;,\n",
       "                 &lt;catboost.core.CatBoostRegressor object at 0x0000024B0472E550&gt;)])</pre></div> </div></div><div class=\"sk-serial\"><div class=\"sk-item\"><div class=\"sk-serial\"><div class=\"sk-item sk-dashed-wrapped\"><div class=\"sk-label-container\"><div class=\"sk-label fitted sk-toggleable\"><input class=\"sk-toggleable__control sk-hidden--visually\" id=\"sk-estimator-id-3\" type=\"checkbox\" ><label for=\"sk-estimator-id-3\" class=\"sk-toggleable__label fitted sk-toggleable__label-arrow\"><div><div>preprocessor: ColumnTransformer</div></div><div><a class=\"sk-estimator-doc-link fitted\" rel=\"noreferrer\" target=\"_blank\" href=\"https://scikit-learn.org/1.6/modules/generated/sklearn.compose.ColumnTransformer.html\">?<span>Documentation for preprocessor: ColumnTransformer</span></a></div></label><div class=\"sk-toggleable__content fitted\"><pre>ColumnTransformer(remainder=&#x27;passthrough&#x27;,\n",
       "                  transformers=[(&#x27;num&#x27;, StandardScaler(),\n",
       "                                 [&#x27;registration_year&#x27;, &#x27;power&#x27;, &#x27;kilometer&#x27;]),\n",
       "                                (&#x27;cat&#x27;, TargetEncoder(target_type=&#x27;continuous&#x27;),\n",
       "                                 [&#x27;vehicle_type&#x27;, &#x27;gearbox&#x27;, &#x27;model&#x27;,\n",
       "                                  &#x27;fuel_type&#x27;, &#x27;brand&#x27;, &#x27;repaired&#x27;])])</pre></div> </div></div><div class=\"sk-parallel\"><div class=\"sk-parallel-item\"><div class=\"sk-item\"><div class=\"sk-label-container\"><div class=\"sk-label fitted sk-toggleable\"><input class=\"sk-toggleable__control sk-hidden--visually\" id=\"sk-estimator-id-4\" type=\"checkbox\" ><label for=\"sk-estimator-id-4\" class=\"sk-toggleable__label fitted sk-toggleable__label-arrow\"><div><div>num</div></div></label><div class=\"sk-toggleable__content fitted\"><pre>[&#x27;registration_year&#x27;, &#x27;power&#x27;, &#x27;kilometer&#x27;]</pre></div> </div></div><div class=\"sk-serial\"><div class=\"sk-item\"><div class=\"sk-estimator fitted sk-toggleable\"><input class=\"sk-toggleable__control sk-hidden--visually\" id=\"sk-estimator-id-5\" type=\"checkbox\" ><label for=\"sk-estimator-id-5\" class=\"sk-toggleable__label fitted sk-toggleable__label-arrow\"><div><div>StandardScaler</div></div><div><a class=\"sk-estimator-doc-link fitted\" rel=\"noreferrer\" target=\"_blank\" href=\"https://scikit-learn.org/1.6/modules/generated/sklearn.preprocessing.StandardScaler.html\">?<span>Documentation for StandardScaler</span></a></div></label><div class=\"sk-toggleable__content fitted\"><pre>StandardScaler()</pre></div> </div></div></div></div></div><div class=\"sk-parallel-item\"><div class=\"sk-item\"><div class=\"sk-label-container\"><div class=\"sk-label fitted sk-toggleable\"><input class=\"sk-toggleable__control sk-hidden--visually\" id=\"sk-estimator-id-6\" type=\"checkbox\" ><label for=\"sk-estimator-id-6\" class=\"sk-toggleable__label fitted sk-toggleable__label-arrow\"><div><div>cat</div></div></label><div class=\"sk-toggleable__content fitted\"><pre>[&#x27;vehicle_type&#x27;, &#x27;gearbox&#x27;, &#x27;model&#x27;, &#x27;fuel_type&#x27;, &#x27;brand&#x27;, &#x27;repaired&#x27;]</pre></div> </div></div><div class=\"sk-serial\"><div class=\"sk-item\"><div class=\"sk-estimator fitted sk-toggleable\"><input class=\"sk-toggleable__control sk-hidden--visually\" id=\"sk-estimator-id-7\" type=\"checkbox\" ><label for=\"sk-estimator-id-7\" class=\"sk-toggleable__label fitted sk-toggleable__label-arrow\"><div><div>TargetEncoder</div></div><div><a class=\"sk-estimator-doc-link fitted\" rel=\"noreferrer\" target=\"_blank\" href=\"https://scikit-learn.org/1.6/modules/generated/sklearn.preprocessing.TargetEncoder.html\">?<span>Documentation for TargetEncoder</span></a></div></label><div class=\"sk-toggleable__content fitted\"><pre>TargetEncoder(target_type=&#x27;continuous&#x27;)</pre></div> </div></div></div></div></div><div class=\"sk-parallel-item\"><div class=\"sk-item\"><div class=\"sk-label-container\"><div class=\"sk-label fitted sk-toggleable\"><input class=\"sk-toggleable__control sk-hidden--visually\" id=\"sk-estimator-id-8\" type=\"checkbox\" ><label for=\"sk-estimator-id-8\" class=\"sk-toggleable__label fitted sk-toggleable__label-arrow\"><div><div>remainder</div></div></label><div class=\"sk-toggleable__content fitted\"><pre>[]</pre></div> </div></div><div class=\"sk-serial\"><div class=\"sk-item\"><div class=\"sk-estimator fitted sk-toggleable\"><input class=\"sk-toggleable__control sk-hidden--visually\" id=\"sk-estimator-id-9\" type=\"checkbox\" ><label for=\"sk-estimator-id-9\" class=\"sk-toggleable__label fitted sk-toggleable__label-arrow\"><div><div>passthrough</div></div></label><div class=\"sk-toggleable__content fitted\"><pre>passthrough</pre></div> </div></div></div></div></div></div></div><div class=\"sk-item\"><div class=\"sk-estimator fitted sk-toggleable\"><input class=\"sk-toggleable__control sk-hidden--visually\" id=\"sk-estimator-id-10\" type=\"checkbox\" ><label for=\"sk-estimator-id-10\" class=\"sk-toggleable__label fitted sk-toggleable__label-arrow\"><div><div>CatBoostRegressor</div></div></label><div class=\"sk-toggleable__content fitted\"><pre>&lt;catboost.core.CatBoostRegressor object at 0x0000024B0472E550&gt;</pre></div> </div></div></div></div></div></div></div></div></div></div></div>"
      ],
      "text/plain": [
       "GridSearchCV(cv=3,\n",
       "             estimator=Pipeline(steps=[('preprocessor',\n",
       "                                        ColumnTransformer(remainder='passthrough',\n",
       "                                                          transformers=[('num',\n",
       "                                                                         StandardScaler(),\n",
       "                                                                         ['registration_year',\n",
       "                                                                          'power',\n",
       "                                                                          'kilometer']),\n",
       "                                                                        ('cat',\n",
       "                                                                         TargetEncoder(target_type='continuous'),\n",
       "                                                                         ['vehicle_type',\n",
       "                                                                          'gearbox',\n",
       "                                                                          'model',\n",
       "                                                                          'fuel_type',\n",
       "                                                                          'brand',\n",
       "                                                                          'repaired'])])),\n",
       "                                       ('model', None)]),\n",
       "             n_jobs=-1,\n",
       "             param_grid=[{'model': [R...\n",
       "                                                 monotone_constraints=None,\n",
       "                                                 multi_strategy=None,\n",
       "                                                 n_estimators=None, n_jobs=None,\n",
       "                                                 num_parallel_tree=None,\n",
       "                                                 random_state=42, ...)],\n",
       "                          'model__learning_rate': [0.05],\n",
       "                          'model__max_depth': [3]},\n",
       "                         {'model': [<catboost.core.CatBoostRegressor object at 0x0000024B04767A00>],\n",
       "                          'model__depth': [4, 8],\n",
       "                          'model__learning_rate': [0.05, 0.1]}],\n",
       "             scoring='neg_root_mean_squared_error', verbose=2)"
      ]
     },
     "execution_count": 48,
     "metadata": {},
     "output_type": "execute_result"
    }
   ],
   "source": [
    "# Для каждой из моделей подберем наилучшие гиперпараметры на кросс-валидации\n",
    "\n",
    "pipe = Pipeline([('preprocessor', preprocessor),\n",
    "                 ('model', None)])\n",
    "        \n",
    "gs = GridSearchCV(estimator=pipe, param_grid=param_grids, cv=3, \n",
    "                  scoring='neg_root_mean_squared_error', n_jobs=-1, verbose=2)\n",
    "\n",
    "gs.fit(X_train, y_train)"
   ]
  },
  {
   "cell_type": "markdown",
   "metadata": {},
   "source": [
    "## Анализ моделей"
   ]
  },
  {
   "cell_type": "markdown",
   "metadata": {},
   "source": [
    "Проанализируем результаты работы модели на тренировочной выборке."
   ]
  },
  {
   "cell_type": "code",
   "execution_count": 49,
   "metadata": {},
   "outputs": [],
   "source": [
    "# Создадим датафрейм с основными параметрами обучения моделей\n",
    "\n",
    "cv_results = pd.DataFrame(gs.cv_results_)\n",
    "cv_results_need = cv_results.copy()"
   ]
  },
  {
   "cell_type": "code",
   "execution_count": 50,
   "metadata": {},
   "outputs": [
    {
     "data": {
      "text/html": [
       "<div>\n",
       "<style scoped>\n",
       "    .dataframe tbody tr th:only-of-type {\n",
       "        vertical-align: middle;\n",
       "    }\n",
       "\n",
       "    .dataframe tbody tr th {\n",
       "        vertical-align: top;\n",
       "    }\n",
       "\n",
       "    .dataframe thead th {\n",
       "        text-align: right;\n",
       "    }\n",
       "</style>\n",
       "<table border=\"1\" class=\"dataframe\">\n",
       "  <thead>\n",
       "    <tr style=\"text-align: right;\">\n",
       "      <th></th>\n",
       "      <th>mean_fit_time</th>\n",
       "      <th>mean_score_time</th>\n",
       "      <th>params</th>\n",
       "      <th>mean_rmse</th>\n",
       "      <th>std_rmse</th>\n",
       "    </tr>\n",
       "  </thead>\n",
       "  <tbody>\n",
       "    <tr>\n",
       "      <th>0</th>\n",
       "      <td>125.127143</td>\n",
       "      <td>0.522661</td>\n",
       "      <td>{'model': &lt;catboost.core.CatBoostRegressor object at 0x0000024B04767A00&gt;, 'model__depth': 8, 'model__learning_rate': 0.1}</td>\n",
       "      <td>1557.952131</td>\n",
       "      <td>4.352566</td>\n",
       "    </tr>\n",
       "    <tr>\n",
       "      <th>1</th>\n",
       "      <td>128.194543</td>\n",
       "      <td>0.452612</td>\n",
       "      <td>{'model': &lt;catboost.core.CatBoostRegressor object at 0x0000024B04767A00&gt;, 'model__depth': 8, 'model__learning_rate': 0.05}</td>\n",
       "      <td>1577.752302</td>\n",
       "      <td>4.348853</td>\n",
       "    </tr>\n",
       "    <tr>\n",
       "      <th>2</th>\n",
       "      <td>41.668882</td>\n",
       "      <td>1.350334</td>\n",
       "      <td>{'model': RandomForestRegressor(random_state=42), 'model__max_depth': 20, 'model__min_samples_split': 5, 'model__n_estimators': 50}</td>\n",
       "      <td>1579.479891</td>\n",
       "      <td>4.861991</td>\n",
       "    </tr>\n",
       "    <tr>\n",
       "      <th>3</th>\n",
       "      <td>44.291739</td>\n",
       "      <td>1.034646</td>\n",
       "      <td>{'model': RandomForestRegressor(random_state=42), 'model__max_depth': 20, 'model__min_samples_split': 2, 'model__n_estimators': 50}</td>\n",
       "      <td>1580.223394</td>\n",
       "      <td>5.300673</td>\n",
       "    </tr>\n",
       "    <tr>\n",
       "      <th>4</th>\n",
       "      <td>103.734222</td>\n",
       "      <td>0.803755</td>\n",
       "      <td>{'model': &lt;catboost.core.CatBoostRegressor object at 0x0000024B04767A00&gt;, 'model__depth': 4, 'model__learning_rate': 0.1}</td>\n",
       "      <td>1643.778317</td>\n",
       "      <td>8.604627</td>\n",
       "    </tr>\n",
       "    <tr>\n",
       "      <th>5</th>\n",
       "      <td>67.683436</td>\n",
       "      <td>1.535208</td>\n",
       "      <td>{'model': LGBMRegressor(random_state=42), 'model__learning_rate': 0.1, 'model__n_estimators': 50, 'model__num_leaves': 63}</td>\n",
       "      <td>1655.712064</td>\n",
       "      <td>2.258590</td>\n",
       "    </tr>\n",
       "    <tr>\n",
       "      <th>6</th>\n",
       "      <td>105.064224</td>\n",
       "      <td>0.741467</td>\n",
       "      <td>{'model': &lt;catboost.core.CatBoostRegressor object at 0x0000024B04767A00&gt;, 'model__depth': 4, 'model__learning_rate': 0.05}</td>\n",
       "      <td>1677.404124</td>\n",
       "      <td>6.679179</td>\n",
       "    </tr>\n",
       "    <tr>\n",
       "      <th>7</th>\n",
       "      <td>67.607105</td>\n",
       "      <td>1.564202</td>\n",
       "      <td>{'model': LGBMRegressor(random_state=42), 'model__learning_rate': 0.05, 'model__n_estimators': 50, 'model__num_leaves': 63}</td>\n",
       "      <td>1806.828002</td>\n",
       "      <td>3.354192</td>\n",
       "    </tr>\n",
       "    <tr>\n",
       "      <th>8</th>\n",
       "      <td>6.079954</td>\n",
       "      <td>0.192363</td>\n",
       "      <td>{'model': XGBRegressor(base_score=None, booster=None, callbacks=None,\n",
       "             colsample_bylevel=None, colsample_bynode=None,\n",
       "             colsample_bytree=None, device=Non...</td>\n",
       "      <td>1942.573446</td>\n",
       "      <td>4.008212</td>\n",
       "    </tr>\n",
       "    <tr>\n",
       "      <th>9</th>\n",
       "      <td>2.791950</td>\n",
       "      <td>0.306300</td>\n",
       "      <td>{'model': Ridge(random_state=42), 'model__alpha': 10}</td>\n",
       "      <td>2747.741369</td>\n",
       "      <td>7.428480</td>\n",
       "    </tr>\n",
       "    <tr>\n",
       "      <th>10</th>\n",
       "      <td>2.970272</td>\n",
       "      <td>0.313634</td>\n",
       "      <td>{'model': Ridge(random_state=42), 'model__alpha': 1}</td>\n",
       "      <td>2747.742138</td>\n",
       "      <td>7.428736</td>\n",
       "    </tr>\n",
       "    <tr>\n",
       "      <th>11</th>\n",
       "      <td>3.016951</td>\n",
       "      <td>0.306299</td>\n",
       "      <td>{'model': Ridge(random_state=42), 'model__alpha': 0.1}</td>\n",
       "      <td>2747.743847</td>\n",
       "      <td>7.427438</td>\n",
       "    </tr>\n",
       "  </tbody>\n",
       "</table>\n",
       "</div>"
      ],
      "text/plain": [
       "    mean_fit_time  mean_score_time  \\\n",
       "0      125.127143         0.522661   \n",
       "1      128.194543         0.452612   \n",
       "2       41.668882         1.350334   \n",
       "3       44.291739         1.034646   \n",
       "4      103.734222         0.803755   \n",
       "5       67.683436         1.535208   \n",
       "6      105.064224         0.741467   \n",
       "7       67.607105         1.564202   \n",
       "8        6.079954         0.192363   \n",
       "9        2.791950         0.306300   \n",
       "10       2.970272         0.313634   \n",
       "11       3.016951         0.306299   \n",
       "\n",
       "                                                                                                                                                                                 params  \\\n",
       "0                                                             {'model': <catboost.core.CatBoostRegressor object at 0x0000024B04767A00>, 'model__depth': 8, 'model__learning_rate': 0.1}   \n",
       "1                                                            {'model': <catboost.core.CatBoostRegressor object at 0x0000024B04767A00>, 'model__depth': 8, 'model__learning_rate': 0.05}   \n",
       "2                                                   {'model': RandomForestRegressor(random_state=42), 'model__max_depth': 20, 'model__min_samples_split': 5, 'model__n_estimators': 50}   \n",
       "3                                                   {'model': RandomForestRegressor(random_state=42), 'model__max_depth': 20, 'model__min_samples_split': 2, 'model__n_estimators': 50}   \n",
       "4                                                             {'model': <catboost.core.CatBoostRegressor object at 0x0000024B04767A00>, 'model__depth': 4, 'model__learning_rate': 0.1}   \n",
       "5                                                            {'model': LGBMRegressor(random_state=42), 'model__learning_rate': 0.1, 'model__n_estimators': 50, 'model__num_leaves': 63}   \n",
       "6                                                            {'model': <catboost.core.CatBoostRegressor object at 0x0000024B04767A00>, 'model__depth': 4, 'model__learning_rate': 0.05}   \n",
       "7                                                           {'model': LGBMRegressor(random_state=42), 'model__learning_rate': 0.05, 'model__n_estimators': 50, 'model__num_leaves': 63}   \n",
       "8   {'model': XGBRegressor(base_score=None, booster=None, callbacks=None,\n",
       "             colsample_bylevel=None, colsample_bynode=None,\n",
       "             colsample_bytree=None, device=Non...   \n",
       "9                                                                                                                                 {'model': Ridge(random_state=42), 'model__alpha': 10}   \n",
       "10                                                                                                                                 {'model': Ridge(random_state=42), 'model__alpha': 1}   \n",
       "11                                                                                                                               {'model': Ridge(random_state=42), 'model__alpha': 0.1}   \n",
       "\n",
       "      mean_rmse  std_rmse  \n",
       "0   1557.952131  4.352566  \n",
       "1   1577.752302  4.348853  \n",
       "2   1579.479891  4.861991  \n",
       "3   1580.223394  5.300673  \n",
       "4   1643.778317  8.604627  \n",
       "5   1655.712064  2.258590  \n",
       "6   1677.404124  6.679179  \n",
       "7   1806.828002  3.354192  \n",
       "8   1942.573446  4.008212  \n",
       "9   2747.741369  7.428480  \n",
       "10  2747.742138  7.428736  \n",
       "11  2747.743847  7.427438  "
      ]
     },
     "metadata": {},
     "output_type": "display_data"
    }
   ],
   "source": [
    "columns = ['mean_fit_time', 'mean_score_time', 'params']\n",
    "\n",
    "# Вычисляем среднее по кросс-валидации значение RMSE и его стандартное отклонение\n",
    "cv_results_need['mean_rmse'] = -cv_results_need['mean_test_score']\n",
    "cv_results_need['std_rmse'] = cv_results_need['std_test_score']\n",
    "\n",
    "# Сортируем по RMSE\n",
    "cv_results_need = cv_results_need.sort_values('mean_rmse').reset_index(drop=True)\n",
    "\n",
    "# Выведем таблицу с нужными параметрами\n",
    "display(cv_results_need[columns + ['mean_rmse', 'std_rmse']].head(20))\n",
    "pd.set_option('display.max_colwidth', 180)"
   ]
  },
  {
   "cell_type": "markdown",
   "metadata": {},
   "source": [
    "Из таблицы видно, что моделью с наилучшим значением RMSE (1556,8) оказалась модель CatBoostRegressor, при этом ее среднее время обучения на каждом фолде при каждой комбинации гиперпараметров оптимально (около 25 с) при сравнении с другими моделями, равно как и среднее время, затраченное на предсказание и оценку моделей на фолде (0.36 с). На второе и третье место по RMSE (около 1574 - 1578) можно поставить RandomForest со средним временем обучения в диапазоне 24 - 27 с, хотя среднее время оценки модели в случае RandomForest оказывается больше (в интервале 0.95 - 1.12 с) по сравнению с другими представленными моделями. Лучше всех по времени (с обучением около 0.5 с и предсказанием менее 0.3 с) - линейная регрессия с ридж-регуляризацией, однако при выбранных гиперпараметрах у нее наихудший RMSE среди всех моделей, который не проходит установленную верхнюю границу в 2500. XGBoost не прошел процедуру обучения."
   ]
  },
  {
   "cell_type": "code",
   "execution_count": 51,
   "metadata": {},
   "outputs": [
    {
     "name": "stdout",
     "output_type": "stream",
     "text": [
      "Лучшие параметры: {'model': <catboost.core.CatBoostRegressor object at 0x0000024B04767A00>, 'model__depth': 8, 'model__learning_rate': 0.1}\n",
      "Лучший RMSE на кросс-валидации: 1558.0\n"
     ]
    }
   ],
   "source": [
    "# Выведем наилучшие гиперпараметры CatBoostRegressor и RMSE на кросс-валидации\n",
    "\n",
    "best_model = gs.best_estimator_\n",
    "print(f\"Лучшие параметры: {gs.best_params_}\")\n",
    "print(f\"Лучший RMSE на кросс-валидации: {round(-gs.best_score_, 1)}\")"
   ]
  },
  {
   "cell_type": "markdown",
   "metadata": {},
   "source": [
    "Рассмотрим результаты выбранной наилучшей модели на предсказаниях на тестовой выборке"
   ]
  },
  {
   "cell_type": "code",
   "execution_count": 52,
   "metadata": {},
   "outputs": [
    {
     "name": "stdout",
     "output_type": "stream",
     "text": [
      "RMSE: 1544.0\n",
      "Время предсказания: 0.31 сек\n"
     ]
    }
   ],
   "source": [
    "# Измерим время предсказания, рассчитаем RMSE\n",
    "\n",
    "start_time = time()\n",
    "y_test_pred = best_model.predict(X_test)\n",
    "test_time = time() - start_time\n",
    "\n",
    "test_rmse = np.sqrt(mean_squared_error(y_test, y_test_pred))\n",
    "\n",
    "print(f\"RMSE: {round(test_rmse, 1)}\")\n",
    "print(f\"Время предсказания: {round(test_time, 2)} сек\")"
   ]
  },
  {
   "cell_type": "markdown",
   "metadata": {},
   "source": [
    "Модель хорошо себя показала на тестовой выборке."
   ]
  },
  {
   "cell_type": "markdown",
   "metadata": {},
   "source": [
    "Проверим модель на адекватность, сравнив RMSE модели с RMSE от предсказания средним."
   ]
  },
  {
   "cell_type": "code",
   "execution_count": 53,
   "metadata": {},
   "outputs": [
    {
     "data": {
      "text/plain": [
       "np.float64(4617.1)"
      ]
     },
     "execution_count": 53,
     "metadata": {},
     "output_type": "execute_result"
    }
   ],
   "source": [
    "# Выведем значение RMSE от предсказания средним\n",
    "\n",
    "baseline_rmse = np.sqrt(mean_squared_error(y_test, [np.mean(y_train)] * len(y_test)))\n",
    "round(baseline_rmse, 1)"
   ]
  },
  {
   "cell_type": "markdown",
   "metadata": {},
   "source": [
    "Построим график важности признаков."
   ]
  },
  {
   "cell_type": "code",
   "execution_count": 54,
   "metadata": {},
   "outputs": [
    {
     "data": {
      "image/png": "[encoded data removed]",
      "text/plain": [
       "<Figure size 1000x600 with 1 Axes>"
      ]
     },
     "metadata": {},
     "output_type": "display_data"
    }
   ],
   "source": [
    "feature_names = [x.split('__')[1] for x in \n",
    "                 gs.best_estimator_.named_steps['preprocessor'].get_feature_names_out()]\n",
    "\n",
    "importances = best_model.named_steps['model'].feature_importances_\n",
    "pd.Series(importances, index=feature_names).sort_values(ascending=True).plot.barh(figsize=(10, 6))\n",
    "plt.title('График важности признаков')\n",
    "plt.show()"
   ]
  },
  {
   "cell_type": "markdown",
   "metadata": {},
   "source": [
    "Наиболее важными признаками для выбранной наилучшей модели являются год регистрации автомобиля и его мощность. Наименее важные признаки - тип топлива, тип коробки передач и была ли машина в ремонте."
   ]
  },
  {
   "cell_type": "markdown",
   "metadata": {},
   "source": [
    "<div style=\"border: 2px solid black; padding: 10px; border-radius: 5px;\">\n",
    "<strong>Вывод:\n",
    "</strong> \n",
    "    Проведен анализ моделей. Показано, что наиболее оптимальной моделью с точки зрения метрики RMSE, скорости обучения и скорости предсказания является модель CatBoostRegressor (с выбранными параметрами 'model__depth': 8, 'model__learning_rate': 0.1). Среднее время обучения составило 24.9 с, среднее время, затраченное на предсказание и оценку этой модели, равно 0.36 с, а RMSE равно 1556,8. Время предсказания на тестовой выборке составило 0.34 с, а RMSE равно 1542,7. Наиболее важными признаками для выбранной наилучшей модели являются год регистрации автомобиля и его мощность."
   ]
  },
  {
   "cell_type": "markdown",
   "metadata": {},
   "source": [
    "## Общий вывод\n",
    "\n",
    "1. В работе была произведена предобработка данных, которая включала в себя следующие этапы: переименование столбцов,\n",
    "обработка дубликатов,\n",
    "обработка пропусков,\n",
    "устранение аномальных значений\n",
    "\n",
    "2. Был проведен анализ данных, анализ распределений значений в признаках, выявление и обработка выбросов.\n",
    "\n",
    "3. В пайплайне были использованы несколько моделей (Ridge, RandomForest, LightGBM, XGBoost, CatBoost), для которых подобраны гиперпараметры. На кросс-валидации и тестовой выборке определена метрика RMSE, измерено время обучения моделей и время предсказания на тренировочной и тестовой выборках соответственно. Согласно требуемым к моделям критериям, предоставленным заказчиком (с точки зрения качества модели, скорости обучения и скорости предсказания), наилучшей оптимальной моделью оказалась CatBoostRegressor с выбранными параметрами 'model__depth': 8, 'model__learning_rate': 0.1.\n",
    "4. Наиболее важными признаками для выбранной наилучшей модели являются год регистрации автомобиля и его мощность."
   ]
  },
  {
   "cell_type": "code",
   "execution_count": 55,
   "metadata": {},
   "outputs": [],
   "source": [
    "import pickle\n",
    "# Сохранение модели в формате pickle\n",
    "with open('model.pkl', 'wb') as f:\n",
    "    pickle.dump(best_model, f)\n"
   ]
  },
  {
   "cell_type": "code",
   "execution_count": null,
   "metadata": {},
   "outputs": [],
   "source": []
  }
 ],
 "metadata": {
  "ExecuteTimeLog": [
   {
    "duration": 1713,
    "start_time": "2025-07-21T16:44:53.724Z"
   },
   {
    "duration": 930,
    "start_time": "2025-07-21T16:44:59.390Z"
   },
   {
    "duration": 21,
    "start_time": "2025-07-21T16:45:01.969Z"
   },
   {
    "duration": 161,
    "start_time": "2025-07-21T16:48:43.130Z"
   },
   {
    "duration": 526,
    "start_time": "2025-07-21T16:49:48.627Z"
   },
   {
    "duration": 494,
    "start_time": "2025-07-21T16:49:55.025Z"
   },
   {
    "duration": 454,
    "start_time": "2025-07-21T16:50:01.695Z"
   },
   {
    "duration": 1005,
    "start_time": "2025-07-21T16:54:10.482Z"
   },
   {
    "duration": 94,
    "start_time": "2025-07-21T16:55:09.521Z"
   },
   {
    "duration": 113,
    "start_time": "2025-07-21T17:00:31.712Z"
   },
   {
    "duration": 27,
    "start_time": "2025-07-21T17:00:44.392Z"
   },
   {
    "duration": 3416,
    "start_time": "2025-07-21T17:00:57.049Z"
   },
   {
    "duration": 57,
    "start_time": "2025-07-21T17:01:01.069Z"
   },
   {
    "duration": 47,
    "start_time": "2025-07-21T17:27:21.037Z"
   },
   {
    "duration": 2371,
    "start_time": "2025-07-21T17:27:26.215Z"
   },
   {
    "duration": 1636,
    "start_time": "2025-07-21T17:27:28.589Z"
   },
   {
    "duration": 928,
    "start_time": "2025-07-21T17:27:30.227Z"
   },
   {
    "duration": 26,
    "start_time": "2025-07-21T17:27:31.156Z"
   },
   {
    "duration": 173,
    "start_time": "2025-07-21T17:27:31.184Z"
   },
   {
    "duration": 525,
    "start_time": "2025-07-21T17:27:31.359Z"
   },
   {
    "duration": 996,
    "start_time": "2025-07-21T17:27:31.886Z"
   },
   {
    "duration": 103,
    "start_time": "2025-07-21T17:27:32.883Z"
   },
   {
    "duration": 37,
    "start_time": "2025-07-21T17:27:35.571Z"
   },
   {
    "duration": 84,
    "start_time": "2025-07-21T17:28:29.563Z"
   },
   {
    "duration": 109,
    "start_time": "2025-07-21T17:30:23.685Z"
   },
   {
    "duration": 47,
    "start_time": "2025-07-21T17:30:27.616Z"
   },
   {
    "duration": 2549,
    "start_time": "2025-07-21T17:30:50.574Z"
   },
   {
    "duration": 1538,
    "start_time": "2025-07-21T17:30:53.125Z"
   },
   {
    "duration": 965,
    "start_time": "2025-07-21T17:30:54.665Z"
   },
   {
    "duration": 17,
    "start_time": "2025-07-21T17:30:55.632Z"
   },
   {
    "duration": 207,
    "start_time": "2025-07-21T17:30:55.651Z"
   },
   {
    "duration": 545,
    "start_time": "2025-07-21T17:30:55.860Z"
   },
   {
    "duration": 1054,
    "start_time": "2025-07-21T17:30:56.406Z"
   },
   {
    "duration": 103,
    "start_time": "2025-07-21T17:30:57.461Z"
   },
   {
    "duration": 45,
    "start_time": "2025-07-21T17:30:57.565Z"
   },
   {
    "duration": 112,
    "start_time": "2025-07-21T17:36:27.855Z"
   },
   {
    "duration": 4,
    "start_time": "2025-07-21T17:37:26.724Z"
   },
   {
    "duration": 100,
    "start_time": "2025-07-21T17:37:35.373Z"
   },
   {
    "duration": 106,
    "start_time": "2025-07-21T17:38:23.497Z"
   },
   {
    "duration": 103,
    "start_time": "2025-07-21T17:38:29.730Z"
   },
   {
    "duration": 109,
    "start_time": "2025-07-21T17:38:40.273Z"
   },
   {
    "duration": 94,
    "start_time": "2025-07-21T17:39:23.188Z"
   },
   {
    "duration": 136,
    "start_time": "2025-07-21T17:45:13.516Z"
   },
   {
    "duration": 248,
    "start_time": "2025-07-21T17:46:03.002Z"
   },
   {
    "duration": 30,
    "start_time": "2025-07-21T17:46:22.818Z"
   },
   {
    "duration": 881,
    "start_time": "2025-07-21T17:46:26.794Z"
   },
   {
    "duration": 42,
    "start_time": "2025-07-21T18:01:26.165Z"
   },
   {
    "duration": 36,
    "start_time": "2025-07-21T18:02:07.644Z"
   },
   {
    "duration": 41,
    "start_time": "2025-07-21T18:02:38.177Z"
   },
   {
    "duration": 37,
    "start_time": "2025-07-21T18:03:05.682Z"
   },
   {
    "duration": 35,
    "start_time": "2025-07-21T18:10:49.275Z"
   },
   {
    "duration": 3647,
    "start_time": "2025-07-22T07:07:55.252Z"
   },
   {
    "duration": 1738,
    "start_time": "2025-07-22T07:07:58.902Z"
   },
   {
    "duration": 961,
    "start_time": "2025-07-22T07:08:00.642Z"
   },
   {
    "duration": 19,
    "start_time": "2025-07-22T07:08:01.605Z"
   },
   {
    "duration": 235,
    "start_time": "2025-07-22T07:08:01.626Z"
   },
   {
    "duration": 564,
    "start_time": "2025-07-22T07:08:01.862Z"
   },
   {
    "duration": 1039,
    "start_time": "2025-07-22T07:08:02.428Z"
   },
   {
    "duration": 115,
    "start_time": "2025-07-22T07:08:03.469Z"
   },
   {
    "duration": 38,
    "start_time": "2025-07-22T07:08:03.585Z"
   },
   {
    "duration": 80,
    "start_time": "2025-07-22T07:08:03.625Z"
   },
   {
    "duration": 120,
    "start_time": "2025-07-22T07:08:03.707Z"
   },
   {
    "duration": 148,
    "start_time": "2025-07-22T07:08:03.829Z"
   },
   {
    "duration": 36,
    "start_time": "2025-07-22T07:08:03.984Z"
   },
   {
    "duration": 78,
    "start_time": "2025-07-22T07:08:04.023Z"
   },
   {
    "duration": 59,
    "start_time": "2025-07-22T07:08:04.103Z"
   },
   {
    "duration": 55,
    "start_time": "2025-07-22T07:08:04.164Z"
   },
   {
    "duration": 83,
    "start_time": "2025-07-22T07:08:04.221Z"
   },
   {
    "duration": 5,
    "start_time": "2025-07-22T07:16:43.875Z"
   },
   {
    "duration": 5,
    "start_time": "2025-07-22T07:16:53.005Z"
   },
   {
    "duration": 1526,
    "start_time": "2025-07-22T07:16:54.575Z"
   },
   {
    "duration": 1409,
    "start_time": "2025-07-22T07:18:15.454Z"
   },
   {
    "duration": 6,
    "start_time": "2025-07-22T07:20:17.456Z"
   },
   {
    "duration": 113,
    "start_time": "2025-07-22T07:20:34.420Z"
   },
   {
    "duration": 32,
    "start_time": "2025-07-22T07:20:42.793Z"
   },
   {
    "duration": 8,
    "start_time": "2025-07-22T07:24:58.243Z"
   },
   {
    "duration": 31,
    "start_time": "2025-07-22T07:25:17.906Z"
   },
   {
    "duration": 10,
    "start_time": "2025-07-22T07:28:05.238Z"
   },
   {
    "duration": 11,
    "start_time": "2025-07-22T07:28:26.177Z"
   },
   {
    "duration": 7,
    "start_time": "2025-07-22T07:28:36.767Z"
   },
   {
    "duration": 8,
    "start_time": "2025-07-22T07:30:03.682Z"
   },
   {
    "duration": 7,
    "start_time": "2025-07-22T07:30:12.446Z"
   },
   {
    "duration": 8,
    "start_time": "2025-07-22T07:30:25.216Z"
   },
   {
    "duration": 7,
    "start_time": "2025-07-22T07:30:35.506Z"
   },
   {
    "duration": 8,
    "start_time": "2025-07-22T07:30:43.397Z"
   },
   {
    "duration": 35,
    "start_time": "2025-07-22T07:36:33.395Z"
   },
   {
    "duration": 32,
    "start_time": "2025-07-22T07:36:58.121Z"
   },
   {
    "duration": 376,
    "start_time": "2025-07-22T07:42:39.197Z"
   },
   {
    "duration": 239,
    "start_time": "2025-07-22T07:43:42.484Z"
   },
   {
    "duration": 280,
    "start_time": "2025-07-22T07:43:56.764Z"
   },
   {
    "duration": 252,
    "start_time": "2025-07-22T07:44:06.343Z"
   },
   {
    "duration": 34,
    "start_time": "2025-07-22T07:44:10.157Z"
   },
   {
    "duration": 1116,
    "start_time": "2025-07-22T07:44:38.185Z"
   },
   {
    "duration": 243,
    "start_time": "2025-07-22T07:44:52.818Z"
   },
   {
    "duration": 247,
    "start_time": "2025-07-22T07:45:07.078Z"
   },
   {
    "duration": 4,
    "start_time": "2025-07-22T07:46:50.378Z"
   },
   {
    "duration": 5,
    "start_time": "2025-07-22T07:47:05.928Z"
   },
   {
    "duration": 5,
    "start_time": "2025-07-22T07:47:15.578Z"
   },
   {
    "duration": 5,
    "start_time": "2025-07-22T07:47:24.015Z"
   },
   {
    "duration": 2493,
    "start_time": "2025-07-22T07:47:34.279Z"
   },
   {
    "duration": 4,
    "start_time": "2025-07-22T07:47:36.775Z"
   },
   {
    "duration": 900,
    "start_time": "2025-07-22T07:47:36.782Z"
   },
   {
    "duration": 16,
    "start_time": "2025-07-22T07:47:37.684Z"
   },
   {
    "duration": 158,
    "start_time": "2025-07-22T07:47:37.703Z"
   },
   {
    "duration": 435,
    "start_time": "2025-07-22T07:47:37.863Z"
   },
   {
    "duration": 899,
    "start_time": "2025-07-22T07:47:38.300Z"
   },
   {
    "duration": 108,
    "start_time": "2025-07-22T07:47:39.201Z"
   },
   {
    "duration": 25,
    "start_time": "2025-07-22T07:47:39.311Z"
   },
   {
    "duration": 5,
    "start_time": "2025-07-22T07:47:39.338Z"
   },
   {
    "duration": 158,
    "start_time": "2025-07-22T07:47:39.345Z"
   },
   {
    "duration": 105,
    "start_time": "2025-07-22T07:47:39.505Z"
   },
   {
    "duration": 40,
    "start_time": "2025-07-22T07:47:39.612Z"
   },
   {
    "duration": 41,
    "start_time": "2025-07-22T07:47:39.670Z"
   },
   {
    "duration": 83,
    "start_time": "2025-07-22T07:47:39.713Z"
   },
   {
    "duration": 91,
    "start_time": "2025-07-22T07:47:39.798Z"
   },
   {
    "duration": 36,
    "start_time": "2025-07-22T07:47:39.891Z"
   },
   {
    "duration": 17,
    "start_time": "2025-07-22T07:47:39.929Z"
   },
   {
    "duration": 39,
    "start_time": "2025-07-22T07:47:39.948Z"
   },
   {
    "duration": 8,
    "start_time": "2025-07-22T07:47:39.989Z"
   },
   {
    "duration": 26,
    "start_time": "2025-07-22T07:47:39.999Z"
   },
   {
    "duration": 52,
    "start_time": "2025-07-22T07:47:40.027Z"
   },
   {
    "duration": 255,
    "start_time": "2025-07-22T07:47:40.081Z"
   },
   {
    "duration": 5,
    "start_time": "2025-07-22T07:47:40.338Z"
   },
   {
    "duration": 5,
    "start_time": "2025-07-22T07:47:49.055Z"
   },
   {
    "duration": 5,
    "start_time": "2025-07-22T07:47:51.533Z"
   },
   {
    "duration": 11,
    "start_time": "2025-07-22T07:48:18.059Z"
   },
   {
    "duration": 456,
    "start_time": "2025-07-22T07:53:15.292Z"
   },
   {
    "duration": 12,
    "start_time": "2025-07-22T07:53:41.623Z"
   },
   {
    "duration": 10,
    "start_time": "2025-07-22T07:53:53.167Z"
   },
   {
    "duration": 122,
    "start_time": "2025-07-22T07:54:02.693Z"
   },
   {
    "duration": 112,
    "start_time": "2025-07-22T07:54:55.229Z"
   },
   {
    "duration": 241,
    "start_time": "2025-07-22T07:55:06.520Z"
   },
   {
    "duration": 95,
    "start_time": "2025-07-22T07:55:49.890Z"
   },
   {
    "duration": 834,
    "start_time": "2025-07-22T07:55:57.344Z"
   },
   {
    "duration": 857,
    "start_time": "2025-07-22T07:56:14.153Z"
   },
   {
    "duration": 19,
    "start_time": "2025-07-22T07:56:58.429Z"
   },
   {
    "duration": 12,
    "start_time": "2025-07-22T07:57:09.295Z"
   },
   {
    "duration": 12,
    "start_time": "2025-07-22T07:57:27.585Z"
   },
   {
    "duration": 4,
    "start_time": "2025-07-22T07:58:07.584Z"
   },
   {
    "duration": 19,
    "start_time": "2025-07-22T07:58:27.502Z"
   },
   {
    "duration": 25,
    "start_time": "2025-07-22T08:01:44.710Z"
   },
   {
    "duration": 20,
    "start_time": "2025-07-22T08:01:51.368Z"
   },
   {
    "duration": 23,
    "start_time": "2025-07-22T08:04:15.188Z"
   },
   {
    "duration": 257,
    "start_time": "2025-07-22T08:04:29.932Z"
   },
   {
    "duration": 233,
    "start_time": "2025-07-22T08:04:40.396Z"
   },
   {
    "duration": 20,
    "start_time": "2025-07-22T08:04:56.747Z"
   },
   {
    "duration": 20,
    "start_time": "2025-07-22T08:07:01.630Z"
   },
   {
    "duration": 25,
    "start_time": "2025-07-22T08:09:21.572Z"
   },
   {
    "duration": 5,
    "start_time": "2025-07-22T08:09:24.085Z"
   },
   {
    "duration": 1704,
    "start_time": "2025-07-22T08:09:25.664Z"
   },
   {
    "duration": 23,
    "start_time": "2025-07-22T08:10:19.368Z"
   },
   {
    "duration": 1453,
    "start_time": "2025-07-22T08:10:21.222Z"
   },
   {
    "duration": 6,
    "start_time": "2025-07-22T08:43:12.048Z"
   },
   {
    "duration": 1009,
    "start_time": "2025-07-22T08:43:12.882Z"
   },
   {
    "duration": 5,
    "start_time": "2025-07-22T08:43:21.815Z"
   },
   {
    "duration": 816,
    "start_time": "2025-07-22T08:43:22.398Z"
   },
   {
    "duration": 6,
    "start_time": "2025-07-22T08:43:27.857Z"
   },
   {
    "duration": 785,
    "start_time": "2025-07-22T08:43:28.189Z"
   },
   {
    "duration": 5,
    "start_time": "2025-07-22T08:43:41.457Z"
   },
   {
    "duration": 11,
    "start_time": "2025-07-22T08:43:45.270Z"
   },
   {
    "duration": 565,
    "start_time": "2025-07-22T08:43:51.716Z"
   },
   {
    "duration": 5,
    "start_time": "2025-07-22T08:43:59.559Z"
   },
   {
    "duration": 473,
    "start_time": "2025-07-22T08:44:00.395Z"
   },
   {
    "duration": 5,
    "start_time": "2025-07-22T08:44:06.815Z"
   },
   {
    "duration": 630,
    "start_time": "2025-07-22T08:44:07.076Z"
   },
   {
    "duration": 6,
    "start_time": "2025-07-22T08:44:17.507Z"
   },
   {
    "duration": 464,
    "start_time": "2025-07-22T08:44:18.108Z"
   },
   {
    "duration": 776,
    "start_time": "2025-07-22T08:47:21.883Z"
   },
   {
    "duration": 514,
    "start_time": "2025-07-22T08:50:48.167Z"
   },
   {
    "duration": 5,
    "start_time": "2025-07-22T08:53:09.582Z"
   },
   {
    "duration": 1036,
    "start_time": "2025-07-22T08:53:10.056Z"
   },
   {
    "duration": 4,
    "start_time": "2025-07-22T09:07:43.610Z"
   },
   {
    "duration": 81,
    "start_time": "2025-07-22T09:07:47.359Z"
   },
   {
    "duration": 92,
    "start_time": "2025-07-22T09:08:14.897Z"
   },
   {
    "duration": 86,
    "start_time": "2025-07-22T09:09:02.371Z"
   },
   {
    "duration": 86,
    "start_time": "2025-07-22T09:09:02.694Z"
   },
   {
    "duration": 2517,
    "start_time": "2025-07-22T09:38:24.521Z"
   },
   {
    "duration": 1769,
    "start_time": "2025-07-22T09:38:27.040Z"
   },
   {
    "duration": 935,
    "start_time": "2025-07-22T09:38:28.811Z"
   },
   {
    "duration": 24,
    "start_time": "2025-07-22T09:38:29.748Z"
   },
   {
    "duration": 158,
    "start_time": "2025-07-22T09:38:29.774Z"
   },
   {
    "duration": 533,
    "start_time": "2025-07-22T09:38:29.934Z"
   },
   {
    "duration": 1033,
    "start_time": "2025-07-22T09:38:30.471Z"
   },
   {
    "duration": 108,
    "start_time": "2025-07-22T09:38:31.506Z"
   },
   {
    "duration": 34,
    "start_time": "2025-07-22T09:38:31.616Z"
   },
   {
    "duration": 56,
    "start_time": "2025-07-22T09:38:31.652Z"
   },
   {
    "duration": 110,
    "start_time": "2025-07-22T09:38:31.710Z"
   },
   {
    "duration": 217,
    "start_time": "2025-07-22T09:38:31.822Z"
   },
   {
    "duration": 43,
    "start_time": "2025-07-22T09:38:32.041Z"
   },
   {
    "duration": 133,
    "start_time": "2025-07-22T09:38:32.086Z"
   },
   {
    "duration": 86,
    "start_time": "2025-07-22T09:38:32.221Z"
   },
   {
    "duration": 43,
    "start_time": "2025-07-22T09:38:32.309Z"
   },
   {
    "duration": 58,
    "start_time": "2025-07-22T09:38:32.354Z"
   },
   {
    "duration": 168,
    "start_time": "2025-07-22T09:38:32.414Z"
   },
   {
    "duration": 101,
    "start_time": "2025-07-22T09:38:32.583Z"
   },
   {
    "duration": 48,
    "start_time": "2025-07-22T09:38:32.686Z"
   },
   {
    "duration": 6,
    "start_time": "2025-07-22T09:38:32.736Z"
   },
   {
    "duration": 61,
    "start_time": "2025-07-22T09:38:32.744Z"
   },
   {
    "duration": 33,
    "start_time": "2025-07-22T09:38:32.807Z"
   },
   {
    "duration": 366,
    "start_time": "2025-07-22T09:38:32.842Z"
   },
   {
    "duration": 130,
    "start_time": "2025-07-22T09:38:33.209Z"
   },
   {
    "duration": 30,
    "start_time": "2025-07-22T09:38:33.341Z"
   },
   {
    "duration": 35,
    "start_time": "2025-07-22T09:38:33.373Z"
   },
   {
    "duration": 7,
    "start_time": "2025-07-22T09:38:33.410Z"
   },
   {
    "duration": 902,
    "start_time": "2025-07-22T09:38:33.419Z"
   },
   {
    "duration": 5,
    "start_time": "2025-07-22T09:38:34.323Z"
   },
   {
    "duration": 400,
    "start_time": "2025-07-22T09:38:34.330Z"
   },
   {
    "duration": 5,
    "start_time": "2025-07-22T09:38:34.732Z"
   },
   {
    "duration": 822,
    "start_time": "2025-07-22T09:38:34.738Z"
   },
   {
    "duration": 5,
    "start_time": "2025-07-22T09:39:56.141Z"
   },
   {
    "duration": 3994,
    "start_time": "2025-07-22T09:39:56.786Z"
   },
   {
    "duration": 5,
    "start_time": "2025-07-22T09:40:13.226Z"
   },
   {
    "duration": 5467,
    "start_time": "2025-07-22T09:40:14.247Z"
   },
   {
    "duration": 6,
    "start_time": "2025-07-22T09:42:40.367Z"
   },
   {
    "duration": 6582,
    "start_time": "2025-07-22T09:42:41.382Z"
   },
   {
    "duration": 965,
    "start_time": "2025-07-22T09:43:52.195Z"
   },
   {
    "duration": 172,
    "start_time": "2025-07-22T09:43:55.329Z"
   },
   {
    "duration": 881,
    "start_time": "2025-07-22T09:43:55.701Z"
   },
   {
    "duration": 5,
    "start_time": "2025-07-22T09:44:31.698Z"
   },
   {
    "duration": 746,
    "start_time": "2025-07-22T09:44:31.982Z"
   },
   {
    "duration": 5,
    "start_time": "2025-07-22T09:45:16.088Z"
   },
   {
    "duration": 720,
    "start_time": "2025-07-22T09:45:16.411Z"
   },
   {
    "duration": 5,
    "start_time": "2025-07-22T09:45:27.781Z"
   },
   {
    "duration": 747,
    "start_time": "2025-07-22T09:45:27.788Z"
   },
   {
    "duration": 5,
    "start_time": "2025-07-22T09:46:56.763Z"
   },
   {
    "duration": 706,
    "start_time": "2025-07-22T09:46:56.980Z"
   },
   {
    "duration": 6,
    "start_time": "2025-07-22T09:47:19.527Z"
   },
   {
    "duration": 836,
    "start_time": "2025-07-22T09:47:19.809Z"
   },
   {
    "duration": 5,
    "start_time": "2025-07-22T09:48:11.963Z"
   },
   {
    "duration": 418,
    "start_time": "2025-07-22T09:48:12.340Z"
   },
   {
    "duration": 5,
    "start_time": "2025-07-22T09:48:35.616Z"
   },
   {
    "duration": 734,
    "start_time": "2025-07-22T09:48:35.967Z"
   },
   {
    "duration": 90,
    "start_time": "2025-07-22T09:49:50.827Z"
   },
   {
    "duration": 82,
    "start_time": "2025-07-22T09:50:04.055Z"
   },
   {
    "duration": 85,
    "start_time": "2025-07-22T09:50:33.484Z"
   },
   {
    "duration": 5426,
    "start_time": "2025-07-22T09:53:33.045Z"
   },
   {
    "duration": 5493,
    "start_time": "2025-07-22T09:54:21.401Z"
   },
   {
    "duration": 5487,
    "start_time": "2025-07-22T09:55:02.928Z"
   },
   {
    "duration": 5433,
    "start_time": "2025-07-22T09:55:19.423Z"
   },
   {
    "duration": 2602,
    "start_time": "2025-07-22T09:57:27.632Z"
   },
   {
    "duration": 1623,
    "start_time": "2025-07-22T09:57:30.236Z"
   },
   {
    "duration": 963,
    "start_time": "2025-07-22T09:57:31.861Z"
   },
   {
    "duration": 19,
    "start_time": "2025-07-22T09:57:32.826Z"
   },
   {
    "duration": 162,
    "start_time": "2025-07-22T09:57:32.847Z"
   },
   {
    "duration": 514,
    "start_time": "2025-07-22T09:57:33.011Z"
   },
   {
    "duration": 1056,
    "start_time": "2025-07-22T09:57:33.526Z"
   },
   {
    "duration": 111,
    "start_time": "2025-07-22T09:57:34.584Z"
   },
   {
    "duration": 39,
    "start_time": "2025-07-22T09:57:34.697Z"
   },
   {
    "duration": 46,
    "start_time": "2025-07-22T09:57:34.738Z"
   },
   {
    "duration": 131,
    "start_time": "2025-07-22T09:57:34.786Z"
   },
   {
    "duration": 132,
    "start_time": "2025-07-22T09:57:34.918Z"
   },
   {
    "duration": 45,
    "start_time": "2025-07-22T09:57:35.051Z"
   },
   {
    "duration": 39,
    "start_time": "2025-07-22T09:57:35.099Z"
   },
   {
    "duration": 97,
    "start_time": "2025-07-22T09:57:35.140Z"
   },
   {
    "duration": 106,
    "start_time": "2025-07-22T09:57:35.238Z"
   },
   {
    "duration": 47,
    "start_time": "2025-07-22T09:57:35.346Z"
   },
   {
    "duration": 106,
    "start_time": "2025-07-22T09:57:35.394Z"
   },
   {
    "duration": 32,
    "start_time": "2025-07-22T09:57:35.502Z"
   },
   {
    "duration": 7,
    "start_time": "2025-07-22T09:57:35.536Z"
   },
   {
    "duration": 53,
    "start_time": "2025-07-22T09:57:35.544Z"
   },
   {
    "duration": 34,
    "start_time": "2025-07-22T09:57:35.599Z"
   },
   {
    "duration": 356,
    "start_time": "2025-07-22T09:57:35.635Z"
   },
   {
    "duration": 125,
    "start_time": "2025-07-22T09:57:35.992Z"
   },
   {
    "duration": 23,
    "start_time": "2025-07-22T09:57:36.119Z"
   },
   {
    "duration": 75,
    "start_time": "2025-07-22T09:57:36.143Z"
   },
   {
    "duration": 130,
    "start_time": "2025-07-22T09:57:36.220Z"
   },
   {
    "duration": 101,
    "start_time": "2025-07-22T09:57:36.352Z"
   },
   {
    "duration": 16,
    "start_time": "2025-07-22T09:57:36.455Z"
   },
   {
    "duration": 802,
    "start_time": "2025-07-22T09:57:36.472Z"
   },
   {
    "duration": 5,
    "start_time": "2025-07-22T09:57:37.276Z"
   },
   {
    "duration": 358,
    "start_time": "2025-07-22T09:57:37.283Z"
   },
   {
    "duration": 5,
    "start_time": "2025-07-22T09:57:37.643Z"
   },
   {
    "duration": 900,
    "start_time": "2025-07-22T09:57:37.649Z"
   },
   {
    "duration": 6,
    "start_time": "2025-07-22T09:57:38.550Z"
   },
   {
    "duration": 878,
    "start_time": "2025-07-22T09:57:38.557Z"
   },
   {
    "duration": 5331,
    "start_time": "2025-07-22T09:57:39.436Z"
   },
   {
    "duration": 21,
    "start_time": "2025-07-22T10:15:14.422Z"
   },
   {
    "duration": 10,
    "start_time": "2025-07-22T10:40:38.963Z"
   },
   {
    "duration": 100,
    "start_time": "2025-07-22T10:44:46.825Z"
   },
   {
    "duration": 4,
    "start_time": "2025-07-22T12:28:51.428Z"
   },
   {
    "duration": 3,
    "start_time": "2025-07-22T12:54:12.177Z"
   },
   {
    "duration": 2582,
    "start_time": "2025-07-22T13:40:52.994Z"
   },
   {
    "duration": 4,
    "start_time": "2025-07-22T13:40:55.578Z"
   },
   {
    "duration": 878,
    "start_time": "2025-07-22T13:40:55.584Z"
   },
   {
    "duration": 19,
    "start_time": "2025-07-22T13:40:56.464Z"
   },
   {
    "duration": 150,
    "start_time": "2025-07-22T13:40:56.485Z"
   },
   {
    "duration": 435,
    "start_time": "2025-07-22T13:40:56.637Z"
   },
   {
    "duration": 902,
    "start_time": "2025-07-22T13:40:57.073Z"
   },
   {
    "duration": 102,
    "start_time": "2025-07-22T13:40:57.977Z"
   },
   {
    "duration": 25,
    "start_time": "2025-07-22T13:40:58.081Z"
   },
   {
    "duration": 4,
    "start_time": "2025-07-22T13:40:58.108Z"
   },
   {
    "duration": 125,
    "start_time": "2025-07-22T13:40:58.113Z"
   },
   {
    "duration": 46,
    "start_time": "2025-07-22T13:40:58.240Z"
   },
   {
    "duration": 69,
    "start_time": "2025-07-22T13:40:58.287Z"
   },
   {
    "duration": 50,
    "start_time": "2025-07-22T13:40:58.360Z"
   },
   {
    "duration": 76,
    "start_time": "2025-07-22T13:40:58.412Z"
   },
   {
    "duration": 45,
    "start_time": "2025-07-22T13:40:58.489Z"
   },
   {
    "duration": 134,
    "start_time": "2025-07-22T13:40:58.536Z"
   },
   {
    "duration": 29,
    "start_time": "2025-07-22T13:40:58.672Z"
   },
   {
    "duration": 7,
    "start_time": "2025-07-22T13:40:58.704Z"
   },
   {
    "duration": 26,
    "start_time": "2025-07-22T13:40:58.713Z"
   },
   {
    "duration": 61,
    "start_time": "2025-07-22T13:40:58.741Z"
   },
   {
    "duration": 267,
    "start_time": "2025-07-22T13:40:58.804Z"
   },
   {
    "duration": 129,
    "start_time": "2025-07-22T13:40:59.073Z"
   },
   {
    "duration": 21,
    "start_time": "2025-07-22T13:40:59.204Z"
   },
   {
    "duration": 45,
    "start_time": "2025-07-22T13:40:59.227Z"
   },
   {
    "duration": 9,
    "start_time": "2025-07-22T13:40:59.274Z"
   },
   {
    "duration": 96,
    "start_time": "2025-07-22T13:40:59.285Z"
   },
   {
    "duration": 111,
    "start_time": "2025-07-22T13:40:59.384Z"
   },
   {
    "duration": 124,
    "start_time": "2025-07-22T13:40:59.498Z"
   },
   {
    "duration": 862,
    "start_time": "2025-07-22T13:40:59.624Z"
   },
   {
    "duration": 6,
    "start_time": "2025-07-22T13:41:00.488Z"
   },
   {
    "duration": 419,
    "start_time": "2025-07-22T13:41:00.496Z"
   },
   {
    "duration": 6,
    "start_time": "2025-07-22T13:41:00.917Z"
   },
   {
    "duration": 1060,
    "start_time": "2025-07-22T13:41:00.924Z"
   },
   {
    "duration": 5,
    "start_time": "2025-07-22T13:41:01.986Z"
   },
   {
    "duration": 1270,
    "start_time": "2025-07-22T13:41:01.993Z"
   },
   {
    "duration": 5613,
    "start_time": "2025-07-22T13:41:03.265Z"
   },
   {
    "duration": 222,
    "start_time": "2025-07-22T13:42:26.999Z"
   },
   {
    "duration": 6,
    "start_time": "2025-07-22T13:42:37.750Z"
   },
   {
    "duration": 5,
    "start_time": "2025-07-22T13:42:55.543Z"
   },
   {
    "duration": 5,
    "start_time": "2025-07-22T13:43:08.659Z"
   },
   {
    "duration": 151,
    "start_time": "2025-07-22T13:47:00.634Z"
   },
   {
    "duration": 9108,
    "start_time": "2025-07-22T13:47:30.356Z"
   },
   {
    "duration": 5,
    "start_time": "2025-07-22T13:47:40.727Z"
   },
   {
    "duration": 52,
    "start_time": "2025-07-22T13:47:52.945Z"
   },
   {
    "duration": 5,
    "start_time": "2025-07-22T13:49:20.373Z"
   },
   {
    "duration": 5,
    "start_time": "2025-07-22T13:49:20.859Z"
   },
   {
    "duration": 4,
    "start_time": "2025-07-22T13:49:21.290Z"
   },
   {
    "duration": 2348,
    "start_time": "2025-07-22T13:49:23.226Z"
   },
   {
    "duration": 5,
    "start_time": "2025-07-22T13:50:05.400Z"
   },
   {
    "duration": 2471,
    "start_time": "2025-07-22T13:50:07.215Z"
   },
   {
    "duration": 109,
    "start_time": "2025-07-22T13:51:08.130Z"
   },
   {
    "duration": 100,
    "start_time": "2025-07-22T13:51:29.099Z"
   },
   {
    "duration": 4,
    "start_time": "2025-07-22T13:53:42.495Z"
   },
   {
    "duration": 4,
    "start_time": "2025-07-22T13:53:44.735Z"
   },
   {
    "duration": 2441,
    "start_time": "2025-07-22T13:53:46.616Z"
   },
   {
    "duration": 5,
    "start_time": "2025-07-22T13:54:44.119Z"
   },
   {
    "duration": 2160,
    "start_time": "2025-07-22T13:54:46.190Z"
   },
   {
    "duration": 6,
    "start_time": "2025-07-22T14:00:55.385Z"
   },
   {
    "duration": 6,
    "start_time": "2025-07-22T14:00:56.187Z"
   },
   {
    "duration": 4,
    "start_time": "2025-07-22T14:00:57.647Z"
   },
   {
    "duration": 98,
    "start_time": "2025-07-22T14:01:01.206Z"
   },
   {
    "duration": 130,
    "start_time": "2025-07-22T14:01:27.765Z"
   },
   {
    "duration": 24988,
    "start_time": "2025-07-22T14:01:38.050Z"
   },
   {
    "duration": 5,
    "start_time": "2025-07-22T14:03:11.912Z"
   },
   {
    "duration": 5,
    "start_time": "2025-07-22T14:03:27.437Z"
   },
   {
    "duration": 4,
    "start_time": "2025-07-22T14:03:28.395Z"
   },
   {
    "duration": 4,
    "start_time": "2025-07-22T14:03:29.109Z"
   },
   {
    "duration": 6010,
    "start_time": "2025-07-22T14:03:46.363Z"
   },
   {
    "duration": 2911,
    "start_time": "2025-07-22T14:03:52.376Z"
   },
   {
    "duration": 944,
    "start_time": "2025-07-22T14:03:55.289Z"
   },
   {
    "duration": 18,
    "start_time": "2025-07-22T14:03:56.234Z"
   },
   {
    "duration": 182,
    "start_time": "2025-07-22T14:03:56.255Z"
   },
   {
    "duration": 510,
    "start_time": "2025-07-22T14:03:56.439Z"
   },
   {
    "duration": 1050,
    "start_time": "2025-07-22T14:03:56.951Z"
   },
   {
    "duration": 116,
    "start_time": "2025-07-22T14:03:58.003Z"
   },
   {
    "duration": 32,
    "start_time": "2025-07-22T14:03:58.121Z"
   },
   {
    "duration": 17,
    "start_time": "2025-07-22T14:03:58.154Z"
   },
   {
    "duration": 220,
    "start_time": "2025-07-22T14:03:58.173Z"
   },
   {
    "duration": 37,
    "start_time": "2025-07-22T14:03:58.394Z"
   },
   {
    "duration": 59,
    "start_time": "2025-07-22T14:03:58.432Z"
   },
   {
    "duration": 47,
    "start_time": "2025-07-22T14:03:58.494Z"
   },
   {
    "duration": 66,
    "start_time": "2025-07-22T14:03:58.542Z"
   },
   {
    "duration": 48,
    "start_time": "2025-07-22T14:03:58.610Z"
   },
   {
    "duration": 112,
    "start_time": "2025-07-22T14:03:58.659Z"
   },
   {
    "duration": 35,
    "start_time": "2025-07-22T14:03:58.773Z"
   },
   {
    "duration": 8,
    "start_time": "2025-07-22T14:03:58.809Z"
   },
   {
    "duration": 53,
    "start_time": "2025-07-22T14:03:58.819Z"
   },
   {
    "duration": 36,
    "start_time": "2025-07-22T14:03:58.874Z"
   },
   {
    "duration": 285,
    "start_time": "2025-07-22T14:03:58.912Z"
   },
   {
    "duration": 122,
    "start_time": "2025-07-22T14:03:59.198Z"
   },
   {
    "duration": 22,
    "start_time": "2025-07-22T14:03:59.322Z"
   },
   {
    "duration": 51,
    "start_time": "2025-07-22T14:03:59.346Z"
   },
   {
    "duration": 7,
    "start_time": "2025-07-22T14:03:59.399Z"
   },
   {
    "duration": 107,
    "start_time": "2025-07-22T14:03:59.408Z"
   },
   {
    "duration": 95,
    "start_time": "2025-07-22T14:03:59.517Z"
   },
   {
    "duration": 48,
    "start_time": "2025-07-22T14:03:59.613Z"
   },
   {
    "duration": 802,
    "start_time": "2025-07-22T14:03:59.663Z"
   },
   {
    "duration": 5,
    "start_time": "2025-07-22T14:04:00.467Z"
   },
   {
    "duration": 373,
    "start_time": "2025-07-22T14:04:00.474Z"
   },
   {
    "duration": 5,
    "start_time": "2025-07-22T14:04:00.849Z"
   },
   {
    "duration": 984,
    "start_time": "2025-07-22T14:04:00.855Z"
   },
   {
    "duration": 6,
    "start_time": "2025-07-22T14:04:01.841Z"
   },
   {
    "duration": 942,
    "start_time": "2025-07-22T14:04:01.849Z"
   },
   {
    "duration": 5714,
    "start_time": "2025-07-22T14:04:02.793Z"
   },
   {
    "duration": 5,
    "start_time": "2025-07-22T14:04:08.509Z"
   },
   {
    "duration": 5,
    "start_time": "2025-07-22T14:04:08.516Z"
   },
   {
    "duration": 21,
    "start_time": "2025-07-22T14:04:08.523Z"
   },
   {
    "duration": 182,
    "start_time": "2025-07-22T14:04:14.778Z"
   },
   {
    "duration": 6,
    "start_time": "2025-07-22T14:04:36.226Z"
   },
   {
    "duration": 5,
    "start_time": "2025-07-22T14:04:37.180Z"
   },
   {
    "duration": 5,
    "start_time": "2025-07-22T14:04:38.021Z"
   },
   {
    "duration": 24703,
    "start_time": "2025-07-22T14:04:39.812Z"
   },
   {
    "duration": 5,
    "start_time": "2025-07-22T14:08:37.727Z"
   },
   {
    "duration": 2182,
    "start_time": "2025-07-22T14:08:41.091Z"
   },
   {
    "duration": 7,
    "start_time": "2025-07-22T14:09:42.217Z"
   },
   {
    "duration": 2216,
    "start_time": "2025-07-22T14:09:44.401Z"
   },
   {
    "duration": 2205,
    "start_time": "2025-07-22T14:10:48.793Z"
   },
   {
    "duration": 7,
    "start_time": "2025-07-22T14:11:18.610Z"
   },
   {
    "duration": 5803,
    "start_time": "2025-07-22T14:11:31.378Z"
   },
   {
    "duration": 2942,
    "start_time": "2025-07-22T14:11:37.184Z"
   },
   {
    "duration": 929,
    "start_time": "2025-07-22T14:11:40.128Z"
   },
   {
    "duration": 21,
    "start_time": "2025-07-22T14:11:41.059Z"
   },
   {
    "duration": 167,
    "start_time": "2025-07-22T14:11:41.082Z"
   },
   {
    "duration": 521,
    "start_time": "2025-07-22T14:11:41.251Z"
   },
   {
    "duration": 1100,
    "start_time": "2025-07-22T14:11:41.774Z"
   },
   {
    "duration": 110,
    "start_time": "2025-07-22T14:11:42.876Z"
   },
   {
    "duration": 40,
    "start_time": "2025-07-22T14:11:42.988Z"
   },
   {
    "duration": 10,
    "start_time": "2025-07-22T14:11:43.030Z"
   },
   {
    "duration": 236,
    "start_time": "2025-07-22T14:11:43.042Z"
   },
   {
    "duration": 39,
    "start_time": "2025-07-22T14:11:43.280Z"
   },
   {
    "duration": 57,
    "start_time": "2025-07-22T14:11:43.321Z"
   },
   {
    "duration": 42,
    "start_time": "2025-07-22T14:11:43.381Z"
   },
   {
    "duration": 49,
    "start_time": "2025-07-22T14:11:43.425Z"
   },
   {
    "duration": 38,
    "start_time": "2025-07-22T14:11:43.476Z"
   },
   {
    "duration": 129,
    "start_time": "2025-07-22T14:11:43.516Z"
   },
   {
    "duration": 42,
    "start_time": "2025-07-22T14:11:43.647Z"
   },
   {
    "duration": 13,
    "start_time": "2025-07-22T14:11:43.690Z"
   },
   {
    "duration": 35,
    "start_time": "2025-07-22T14:11:43.704Z"
   },
   {
    "duration": 51,
    "start_time": "2025-07-22T14:11:43.741Z"
   },
   {
    "duration": 273,
    "start_time": "2025-07-22T14:11:43.793Z"
   },
   {
    "duration": 126,
    "start_time": "2025-07-22T14:11:44.068Z"
   },
   {
    "duration": 22,
    "start_time": "2025-07-22T14:11:44.195Z"
   },
   {
    "duration": 118,
    "start_time": "2025-07-22T14:11:44.218Z"
   },
   {
    "duration": 27,
    "start_time": "2025-07-22T14:11:44.338Z"
   },
   {
    "duration": 112,
    "start_time": "2025-07-22T14:11:44.366Z"
   },
   {
    "duration": 92,
    "start_time": "2025-07-22T14:11:44.480Z"
   },
   {
    "duration": 5,
    "start_time": "2025-07-22T14:11:44.574Z"
   },
   {
    "duration": 868,
    "start_time": "2025-07-22T14:11:44.580Z"
   },
   {
    "duration": 6,
    "start_time": "2025-07-22T14:11:45.449Z"
   },
   {
    "duration": 418,
    "start_time": "2025-07-22T14:11:45.456Z"
   },
   {
    "duration": 6,
    "start_time": "2025-07-22T14:11:45.875Z"
   },
   {
    "duration": 1059,
    "start_time": "2025-07-22T14:11:45.883Z"
   },
   {
    "duration": 6,
    "start_time": "2025-07-22T14:11:46.943Z"
   },
   {
    "duration": 737,
    "start_time": "2025-07-22T14:11:46.951Z"
   },
   {
    "duration": 5575,
    "start_time": "2025-07-22T14:11:47.690Z"
   },
   {
    "duration": 5,
    "start_time": "2025-07-22T14:11:53.271Z"
   },
   {
    "duration": 136,
    "start_time": "2025-07-22T14:11:53.278Z"
   },
   {
    "duration": 9,
    "start_time": "2025-07-22T14:11:53.415Z"
   },
   {
    "duration": 5733,
    "start_time": "2025-07-22T14:13:06.593Z"
   },
   {
    "duration": 1697,
    "start_time": "2025-07-22T14:13:12.329Z"
   },
   {
    "duration": 905,
    "start_time": "2025-07-22T14:13:14.028Z"
   },
   {
    "duration": 18,
    "start_time": "2025-07-22T14:13:14.935Z"
   },
   {
    "duration": 158,
    "start_time": "2025-07-22T14:13:14.955Z"
   },
   {
    "duration": 530,
    "start_time": "2025-07-22T14:13:15.115Z"
   },
   {
    "duration": 1083,
    "start_time": "2025-07-22T14:13:15.647Z"
   },
   {
    "duration": 111,
    "start_time": "2025-07-22T14:13:16.732Z"
   },
   {
    "duration": 46,
    "start_time": "2025-07-22T14:13:16.844Z"
   },
   {
    "duration": 6,
    "start_time": "2025-07-22T14:13:16.891Z"
   },
   {
    "duration": 234,
    "start_time": "2025-07-22T14:13:16.899Z"
   },
   {
    "duration": 48,
    "start_time": "2025-07-22T14:13:17.135Z"
   },
   {
    "duration": 65,
    "start_time": "2025-07-22T14:13:17.184Z"
   },
   {
    "duration": 47,
    "start_time": "2025-07-22T14:13:17.252Z"
   },
   {
    "duration": 65,
    "start_time": "2025-07-22T14:13:17.301Z"
   },
   {
    "duration": 36,
    "start_time": "2025-07-22T14:13:17.368Z"
   },
   {
    "duration": 111,
    "start_time": "2025-07-22T14:13:17.405Z"
   },
   {
    "duration": 33,
    "start_time": "2025-07-22T14:13:17.517Z"
   },
   {
    "duration": 20,
    "start_time": "2025-07-22T14:13:17.552Z"
   },
   {
    "duration": 34,
    "start_time": "2025-07-22T14:13:17.574Z"
   },
   {
    "duration": 33,
    "start_time": "2025-07-22T14:13:17.610Z"
   },
   {
    "duration": 287,
    "start_time": "2025-07-22T14:13:17.645Z"
   },
   {
    "duration": 125,
    "start_time": "2025-07-22T14:13:17.934Z"
   },
   {
    "duration": 30,
    "start_time": "2025-07-22T14:13:18.060Z"
   },
   {
    "duration": 74,
    "start_time": "2025-07-22T14:13:18.091Z"
   },
   {
    "duration": 7,
    "start_time": "2025-07-22T14:13:18.166Z"
   },
   {
    "duration": 80,
    "start_time": "2025-07-22T14:13:18.175Z"
   },
   {
    "duration": 156,
    "start_time": "2025-07-22T14:13:18.257Z"
   },
   {
    "duration": 6,
    "start_time": "2025-07-22T14:13:18.415Z"
   },
   {
    "duration": 823,
    "start_time": "2025-07-22T14:13:18.422Z"
   },
   {
    "duration": 5,
    "start_time": "2025-07-22T14:13:19.247Z"
   },
   {
    "duration": 386,
    "start_time": "2025-07-22T14:13:19.253Z"
   },
   {
    "duration": 4,
    "start_time": "2025-07-22T14:13:19.641Z"
   },
   {
    "duration": 979,
    "start_time": "2025-07-22T14:13:19.647Z"
   },
   {
    "duration": 5,
    "start_time": "2025-07-22T14:13:20.628Z"
   },
   {
    "duration": 765,
    "start_time": "2025-07-22T14:13:20.635Z"
   },
   {
    "duration": 5563,
    "start_time": "2025-07-22T14:13:21.401Z"
   },
   {
    "duration": 5,
    "start_time": "2025-07-22T14:13:26.970Z"
   },
   {
    "duration": 6,
    "start_time": "2025-07-22T14:13:26.977Z"
   },
   {
    "duration": 2309,
    "start_time": "2025-07-22T14:14:05.350Z"
   },
   {
    "duration": 6,
    "start_time": "2025-07-22T14:14:22.788Z"
   },
   {
    "duration": 4,
    "start_time": "2025-07-22T14:14:23.992Z"
   },
   {
    "duration": 5,
    "start_time": "2025-07-22T14:14:25.412Z"
   },
   {
    "duration": 2210,
    "start_time": "2025-07-22T14:14:30.159Z"
   },
   {
    "duration": 4,
    "start_time": "2025-07-22T14:35:05.724Z"
   },
   {
    "duration": 5,
    "start_time": "2025-07-22T14:35:06.541Z"
   },
   {
    "duration": 2167,
    "start_time": "2025-07-22T14:35:09.487Z"
   },
   {
    "duration": 5,
    "start_time": "2025-07-22T14:36:30.795Z"
   },
   {
    "duration": 2219,
    "start_time": "2025-07-22T14:36:32.203Z"
   },
   {
    "duration": 5,
    "start_time": "2025-07-22T14:37:40.162Z"
   },
   {
    "duration": 2177,
    "start_time": "2025-07-22T14:37:41.713Z"
   },
   {
    "duration": 6,
    "start_time": "2025-07-22T14:39:06.113Z"
   },
   {
    "duration": 4,
    "start_time": "2025-07-22T14:39:07.113Z"
   },
   {
    "duration": 5507,
    "start_time": "2025-07-22T14:39:19.373Z"
   },
   {
    "duration": 2532,
    "start_time": "2025-07-22T14:39:24.882Z"
   },
   {
    "duration": 1022,
    "start_time": "2025-07-22T14:39:27.416Z"
   },
   {
    "duration": 17,
    "start_time": "2025-07-22T14:39:28.440Z"
   },
   {
    "duration": 148,
    "start_time": "2025-07-22T14:39:28.470Z"
   },
   {
    "duration": 508,
    "start_time": "2025-07-22T14:39:28.620Z"
   },
   {
    "duration": 1001,
    "start_time": "2025-07-22T14:39:29.129Z"
   },
   {
    "duration": 98,
    "start_time": "2025-07-22T14:39:30.132Z"
   },
   {
    "duration": 39,
    "start_time": "2025-07-22T14:39:30.232Z"
   },
   {
    "duration": 3,
    "start_time": "2025-07-22T14:39:30.273Z"
   },
   {
    "duration": 251,
    "start_time": "2025-07-22T14:39:30.278Z"
   },
   {
    "duration": 41,
    "start_time": "2025-07-22T14:39:30.531Z"
   },
   {
    "duration": 39,
    "start_time": "2025-07-22T14:39:30.573Z"
   },
   {
    "duration": 54,
    "start_time": "2025-07-22T14:39:30.615Z"
   },
   {
    "duration": 41,
    "start_time": "2025-07-22T14:39:30.670Z"
   },
   {
    "duration": 55,
    "start_time": "2025-07-22T14:39:30.713Z"
   },
   {
    "duration": 102,
    "start_time": "2025-07-22T14:39:30.770Z"
   },
   {
    "duration": 36,
    "start_time": "2025-07-22T14:39:30.874Z"
   },
   {
    "duration": 8,
    "start_time": "2025-07-22T14:39:30.912Z"
   },
   {
    "duration": 71,
    "start_time": "2025-07-22T14:39:30.923Z"
   },
   {
    "duration": 32,
    "start_time": "2025-07-22T14:39:30.996Z"
   },
   {
    "duration": 268,
    "start_time": "2025-07-22T14:39:31.030Z"
   },
   {
    "duration": 123,
    "start_time": "2025-07-22T14:39:31.299Z"
   },
   {
    "duration": 21,
    "start_time": "2025-07-22T14:39:31.423Z"
   },
   {
    "duration": 49,
    "start_time": "2025-07-22T14:39:31.445Z"
   },
   {
    "duration": 90,
    "start_time": "2025-07-22T14:39:31.496Z"
   },
   {
    "duration": 95,
    "start_time": "2025-07-22T14:39:31.587Z"
   },
   {
    "duration": 97,
    "start_time": "2025-07-22T14:39:31.685Z"
   },
   {
    "duration": 69,
    "start_time": "2025-07-22T14:39:31.784Z"
   },
   {
    "duration": 828,
    "start_time": "2025-07-22T14:39:31.854Z"
   },
   {
    "duration": 6,
    "start_time": "2025-07-22T14:39:32.684Z"
   },
   {
    "duration": 355,
    "start_time": "2025-07-22T14:39:32.691Z"
   },
   {
    "duration": 4,
    "start_time": "2025-07-22T14:39:33.048Z"
   },
   {
    "duration": 895,
    "start_time": "2025-07-22T14:39:33.054Z"
   },
   {
    "duration": 5,
    "start_time": "2025-07-22T14:39:33.951Z"
   },
   {
    "duration": 743,
    "start_time": "2025-07-22T14:39:33.970Z"
   },
   {
    "duration": 5496,
    "start_time": "2025-07-22T14:39:34.715Z"
   },
   {
    "duration": 5,
    "start_time": "2025-07-22T14:39:40.212Z"
   },
   {
    "duration": 8,
    "start_time": "2025-07-22T14:39:40.219Z"
   },
   {
    "duration": 15,
    "start_time": "2025-07-22T14:39:40.229Z"
   },
   {
    "duration": 23852,
    "start_time": "2025-07-22T14:39:57.677Z"
   },
   {
    "duration": 7,
    "start_time": "2025-07-22T14:44:01.700Z"
   },
   {
    "duration": 5,
    "start_time": "2025-07-22T14:44:02.172Z"
   },
   {
    "duration": 5,
    "start_time": "2025-07-22T14:44:02.688Z"
   },
   {
    "duration": 2427,
    "start_time": "2025-07-22T14:44:09.443Z"
   },
   {
    "duration": 7,
    "start_time": "2025-07-22T14:47:55.288Z"
   },
   {
    "duration": 5494,
    "start_time": "2025-07-22T15:43:49.088Z"
   },
   {
    "duration": 2915,
    "start_time": "2025-07-22T15:43:54.584Z"
   },
   {
    "duration": 922,
    "start_time": "2025-07-22T15:43:57.500Z"
   },
   {
    "duration": 17,
    "start_time": "2025-07-22T15:43:58.424Z"
   },
   {
    "duration": 187,
    "start_time": "2025-07-22T15:43:58.443Z"
   },
   {
    "duration": 517,
    "start_time": "2025-07-22T15:43:58.632Z"
   },
   {
    "duration": 1036,
    "start_time": "2025-07-22T15:43:59.151Z"
   },
   {
    "duration": 103,
    "start_time": "2025-07-22T15:44:00.189Z"
   },
   {
    "duration": 39,
    "start_time": "2025-07-22T15:44:00.294Z"
   },
   {
    "duration": 151,
    "start_time": "2025-07-22T15:44:00.334Z"
   },
   {
    "duration": 260,
    "start_time": "2025-07-22T15:44:00.487Z"
   },
   {
    "duration": 44,
    "start_time": "2025-07-22T15:44:00.749Z"
   },
   {
    "duration": 46,
    "start_time": "2025-07-22T15:44:00.794Z"
   },
   {
    "duration": 67,
    "start_time": "2025-07-22T15:44:00.843Z"
   },
   {
    "duration": 59,
    "start_time": "2025-07-22T15:44:00.913Z"
   },
   {
    "duration": 40,
    "start_time": "2025-07-22T15:44:00.973Z"
   },
   {
    "duration": 121,
    "start_time": "2025-07-22T15:44:01.014Z"
   },
   {
    "duration": 36,
    "start_time": "2025-07-22T15:44:01.137Z"
   },
   {
    "duration": 6,
    "start_time": "2025-07-22T15:44:01.175Z"
   },
   {
    "duration": 32,
    "start_time": "2025-07-22T15:44:01.183Z"
   },
   {
    "duration": 31,
    "start_time": "2025-07-22T15:44:01.217Z"
   },
   {
    "duration": 279,
    "start_time": "2025-07-22T15:44:01.250Z"
   },
   {
    "duration": 122,
    "start_time": "2025-07-22T15:44:01.531Z"
   },
   {
    "duration": 29,
    "start_time": "2025-07-22T15:44:01.655Z"
   },
   {
    "duration": 28,
    "start_time": "2025-07-22T15:44:01.686Z"
   },
   {
    "duration": 10,
    "start_time": "2025-07-22T15:44:01.716Z"
   },
   {
    "duration": 116,
    "start_time": "2025-07-22T15:44:01.728Z"
   },
   {
    "duration": 109,
    "start_time": "2025-07-22T15:44:01.846Z"
   },
   {
    "duration": 51,
    "start_time": "2025-07-22T15:44:01.957Z"
   },
   {
    "duration": 843,
    "start_time": "2025-07-22T15:44:02.010Z"
   },
   {
    "duration": 5,
    "start_time": "2025-07-22T15:44:02.855Z"
   },
   {
    "duration": 381,
    "start_time": "2025-07-22T15:44:02.861Z"
   },
   {
    "duration": 5,
    "start_time": "2025-07-22T15:44:03.243Z"
   },
   {
    "duration": 886,
    "start_time": "2025-07-22T15:44:03.249Z"
   },
   {
    "duration": 5,
    "start_time": "2025-07-22T15:44:04.137Z"
   },
   {
    "duration": 738,
    "start_time": "2025-07-22T15:44:04.144Z"
   },
   {
    "duration": 5467,
    "start_time": "2025-07-22T15:44:04.884Z"
   },
   {
    "duration": 5,
    "start_time": "2025-07-22T15:44:34.131Z"
   },
   {
    "duration": 8,
    "start_time": "2025-07-22T15:44:39.502Z"
   },
   {
    "duration": 230,
    "start_time": "2025-07-22T15:44:43.723Z"
   },
   {
    "duration": 4,
    "start_time": "2025-07-22T15:45:11.951Z"
   },
   {
    "duration": 8,
    "start_time": "2025-07-22T15:45:13.965Z"
   },
   {
    "duration": 3846573,
    "start_time": "2025-07-22T15:45:16.929Z"
   },
   {
    "duration": 20,
    "start_time": "2025-07-22T17:46:40.393Z"
   },
   {
    "duration": 63,
    "start_time": "2025-07-22T17:50:15.794Z"
   },
   {
    "duration": 14,
    "start_time": "2025-07-22T17:50:44.899Z"
   },
   {
    "duration": 9,
    "start_time": "2025-07-22T17:51:31.889Z"
   },
   {
    "duration": 8,
    "start_time": "2025-07-22T17:55:02.753Z"
   },
   {
    "duration": 9,
    "start_time": "2025-07-22T17:55:06.746Z"
   },
   {
    "duration": 13,
    "start_time": "2025-07-22T18:10:20.481Z"
   },
   {
    "duration": 9,
    "start_time": "2025-07-22T18:10:36.390Z"
   },
   {
    "duration": 5,
    "start_time": "2025-07-22T18:22:41.414Z"
   },
   {
    "duration": 10834,
    "start_time": "2025-07-23T07:40:44.437Z"
   },
   {
    "duration": 2004,
    "start_time": "2025-07-23T07:40:55.274Z"
   },
   {
    "duration": 926,
    "start_time": "2025-07-23T07:40:57.280Z"
   },
   {
    "duration": 18,
    "start_time": "2025-07-23T07:40:58.208Z"
   },
   {
    "duration": 329,
    "start_time": "2025-07-23T07:40:58.229Z"
   },
   {
    "duration": 534,
    "start_time": "2025-07-23T07:40:58.559Z"
   },
   {
    "duration": 1095,
    "start_time": "2025-07-23T07:40:59.095Z"
   },
   {
    "duration": 109,
    "start_time": "2025-07-23T07:41:00.192Z"
   },
   {
    "duration": 209,
    "start_time": "2025-07-23T07:41:00.302Z"
   },
   {
    "duration": 37,
    "start_time": "2025-07-23T07:41:00.513Z"
   },
   {
    "duration": 153,
    "start_time": "2025-07-23T07:41:00.552Z"
   },
   {
    "duration": 39,
    "start_time": "2025-07-23T07:41:00.707Z"
   },
   {
    "duration": 63,
    "start_time": "2025-07-23T07:41:00.747Z"
   },
   {
    "duration": 79,
    "start_time": "2025-07-23T07:41:00.813Z"
   },
   {
    "duration": 72,
    "start_time": "2025-07-23T07:41:00.893Z"
   },
   {
    "duration": 43,
    "start_time": "2025-07-23T07:41:00.967Z"
   },
   {
    "duration": 178,
    "start_time": "2025-07-23T07:41:01.012Z"
   },
   {
    "duration": 34,
    "start_time": "2025-07-23T07:41:01.192Z"
   },
   {
    "duration": 7,
    "start_time": "2025-07-23T07:41:01.228Z"
   },
   {
    "duration": 64,
    "start_time": "2025-07-23T07:41:01.237Z"
   },
   {
    "duration": 36,
    "start_time": "2025-07-23T07:41:01.302Z"
   },
   {
    "duration": 279,
    "start_time": "2025-07-23T07:41:01.340Z"
   },
   {
    "duration": 124,
    "start_time": "2025-07-23T07:41:01.620Z"
   },
   {
    "duration": 23,
    "start_time": "2025-07-23T07:41:01.746Z"
   },
   {
    "duration": 117,
    "start_time": "2025-07-23T07:41:01.772Z"
   },
   {
    "duration": 122,
    "start_time": "2025-07-23T07:41:01.891Z"
   },
   {
    "duration": 114,
    "start_time": "2025-07-23T07:41:02.015Z"
   },
   {
    "duration": 125,
    "start_time": "2025-07-23T07:41:02.130Z"
   },
   {
    "duration": 176,
    "start_time": "2025-07-23T07:41:02.257Z"
   },
   {
    "duration": 995,
    "start_time": "2025-07-23T07:41:02.435Z"
   },
   {
    "duration": 5,
    "start_time": "2025-07-23T07:41:03.432Z"
   },
   {
    "duration": 339,
    "start_time": "2025-07-23T07:41:03.438Z"
   },
   {
    "duration": 14,
    "start_time": "2025-07-23T07:41:03.778Z"
   },
   {
    "duration": 1021,
    "start_time": "2025-07-23T07:41:03.794Z"
   },
   {
    "duration": 5,
    "start_time": "2025-07-23T07:41:04.817Z"
   },
   {
    "duration": 873,
    "start_time": "2025-07-23T07:41:04.823Z"
   },
   {
    "duration": 5740,
    "start_time": "2025-07-23T07:41:05.698Z"
   },
   {
    "duration": 173,
    "start_time": "2025-07-23T07:41:20.820Z"
   },
   {
    "duration": 6,
    "start_time": "2025-07-23T07:41:41.016Z"
   },
   {
    "duration": 8,
    "start_time": "2025-07-23T07:41:45.256Z"
   },
   {
    "duration": 5532598,
    "start_time": "2025-07-23T07:42:25.664Z"
   },
   {
    "duration": 10,
    "start_time": "2025-07-23T09:18:48.911Z"
   },
   {
    "duration": 128,
    "start_time": "2025-07-23T09:21:48.926Z"
   },
   {
    "duration": 15,
    "start_time": "2025-07-23T09:25:35.154Z"
   },
   {
    "duration": 3,
    "start_time": "2025-07-23T09:25:42.490Z"
   },
   {
    "duration": 10,
    "start_time": "2025-07-23T09:25:45.792Z"
   },
   {
    "duration": 13700,
    "start_time": "2025-07-23T12:10:12.756Z"
   },
   {
    "duration": 1825,
    "start_time": "2025-07-23T12:10:26.459Z"
   },
   {
    "duration": 905,
    "start_time": "2025-07-23T12:10:28.286Z"
   },
   {
    "duration": 16,
    "start_time": "2025-07-23T12:10:29.192Z"
   },
   {
    "duration": 148,
    "start_time": "2025-07-23T12:10:29.210Z"
   },
   {
    "duration": 437,
    "start_time": "2025-07-23T12:10:29.360Z"
   },
   {
    "duration": 905,
    "start_time": "2025-07-23T12:10:29.799Z"
   },
   {
    "duration": 99,
    "start_time": "2025-07-23T12:10:30.706Z"
   },
   {
    "duration": 41,
    "start_time": "2025-07-23T12:10:30.807Z"
   },
   {
    "duration": 25,
    "start_time": "2025-07-23T12:10:30.850Z"
   },
   {
    "duration": 160,
    "start_time": "2025-07-23T12:10:30.876Z"
   },
   {
    "duration": 36,
    "start_time": "2025-07-23T12:10:31.037Z"
   },
   {
    "duration": 122,
    "start_time": "2025-07-23T12:10:31.075Z"
   },
   {
    "duration": 82,
    "start_time": "2025-07-23T12:10:31.199Z"
   },
   {
    "duration": 44,
    "start_time": "2025-07-23T12:10:31.282Z"
   },
   {
    "duration": 66,
    "start_time": "2025-07-23T12:10:31.327Z"
   },
   {
    "duration": 96,
    "start_time": "2025-07-23T12:10:31.395Z"
   },
   {
    "duration": 32,
    "start_time": "2025-07-23T12:10:31.492Z"
   },
   {
    "duration": 11,
    "start_time": "2025-07-23T12:10:31.526Z"
   },
   {
    "duration": 132,
    "start_time": "2025-07-23T12:10:31.538Z"
   },
   {
    "duration": 40,
    "start_time": "2025-07-23T12:10:31.672Z"
   },
   {
    "duration": 262,
    "start_time": "2025-07-23T12:10:31.714Z"
   },
   {
    "duration": 120,
    "start_time": "2025-07-23T12:10:31.977Z"
   },
   {
    "duration": 43,
    "start_time": "2025-07-23T12:10:32.099Z"
   },
   {
    "duration": 34,
    "start_time": "2025-07-23T12:10:32.144Z"
   },
   {
    "duration": 20,
    "start_time": "2025-07-23T12:10:32.179Z"
   },
   {
    "duration": 76,
    "start_time": "2025-07-23T12:10:32.201Z"
   },
   {
    "duration": 88,
    "start_time": "2025-07-23T12:10:32.279Z"
   },
   {
    "duration": 27,
    "start_time": "2025-07-23T12:10:32.369Z"
   },
   {
    "duration": 922,
    "start_time": "2025-07-23T12:10:32.398Z"
   },
   {
    "duration": 5,
    "start_time": "2025-07-23T12:10:33.322Z"
   },
   {
    "duration": 365,
    "start_time": "2025-07-23T12:10:33.334Z"
   },
   {
    "duration": 5,
    "start_time": "2025-07-23T12:10:33.701Z"
   },
   {
    "duration": 886,
    "start_time": "2025-07-23T12:10:33.707Z"
   },
   {
    "duration": 5,
    "start_time": "2025-07-23T12:10:34.595Z"
   },
   {
    "duration": 746,
    "start_time": "2025-07-23T12:10:34.601Z"
   },
   {
    "duration": 5170,
    "start_time": "2025-07-23T12:10:35.349Z"
   },
   {
    "duration": 5,
    "start_time": "2025-07-23T12:24:43.785Z"
   },
   {
    "duration": 89,
    "start_time": "2025-07-23T12:24:48.471Z"
   },
   {
    "duration": 6,
    "start_time": "2025-07-23T12:24:50.907Z"
   },
   {
    "duration": 13961,
    "start_time": "2025-07-23T12:24:54.113Z"
   },
   {
    "duration": 5,
    "start_time": "2025-07-23T12:29:34.436Z"
   },
   {
    "duration": 219290,
    "start_time": "2025-07-23T12:29:38.308Z"
   },
   {
    "duration": 5,
    "start_time": "2025-07-23T12:34:21.561Z"
   },
   {
    "duration": 9782,
    "start_time": "2025-07-23T12:34:28.806Z"
   },
   {
    "duration": 5272,
    "start_time": "2025-07-23T12:36:50.962Z"
   },
   {
    "duration": 5,
    "start_time": "2025-07-23T12:36:56.237Z"
   },
   {
    "duration": 824,
    "start_time": "2025-07-23T12:36:56.243Z"
   },
   {
    "duration": 13,
    "start_time": "2025-07-23T12:36:57.069Z"
   },
   {
    "duration": 154,
    "start_time": "2025-07-23T12:36:57.085Z"
   },
   {
    "duration": 402,
    "start_time": "2025-07-23T12:36:57.241Z"
   },
   {
    "duration": 843,
    "start_time": "2025-07-23T12:36:57.645Z"
   },
   {
    "duration": 93,
    "start_time": "2025-07-23T12:36:58.489Z"
   },
   {
    "duration": 23,
    "start_time": "2025-07-23T12:36:58.583Z"
   },
   {
    "duration": 4,
    "start_time": "2025-07-23T12:36:58.608Z"
   },
   {
    "duration": 105,
    "start_time": "2025-07-23T12:36:58.613Z"
   },
   {
    "duration": 39,
    "start_time": "2025-07-23T12:36:58.719Z"
   },
   {
    "duration": 39,
    "start_time": "2025-07-23T12:36:58.760Z"
   },
   {
    "duration": 50,
    "start_time": "2025-07-23T12:36:58.802Z"
   },
   {
    "duration": 36,
    "start_time": "2025-07-23T12:36:58.853Z"
   },
   {
    "duration": 58,
    "start_time": "2025-07-23T12:36:58.891Z"
   },
   {
    "duration": 102,
    "start_time": "2025-07-23T12:36:58.950Z"
   },
   {
    "duration": 28,
    "start_time": "2025-07-23T12:36:59.054Z"
   },
   {
    "duration": 7,
    "start_time": "2025-07-23T12:36:59.084Z"
   },
   {
    "duration": 45,
    "start_time": "2025-07-23T12:36:59.092Z"
   },
   {
    "duration": 32,
    "start_time": "2025-07-23T12:36:59.139Z"
   },
   {
    "duration": 251,
    "start_time": "2025-07-23T12:36:59.172Z"
   },
   {
    "duration": 113,
    "start_time": "2025-07-23T12:36:59.425Z"
   },
   {
    "duration": 19,
    "start_time": "2025-07-23T12:36:59.539Z"
   },
   {
    "duration": 21,
    "start_time": "2025-07-23T12:36:59.560Z"
   },
   {
    "duration": 8,
    "start_time": "2025-07-23T12:36:59.582Z"
   },
   {
    "duration": 106,
    "start_time": "2025-07-23T12:36:59.591Z"
   },
   {
    "duration": 117,
    "start_time": "2025-07-23T12:36:59.698Z"
   },
   {
    "duration": 7,
    "start_time": "2025-07-23T12:36:59.817Z"
   },
   {
    "duration": 985,
    "start_time": "2025-07-23T12:36:59.825Z"
   },
   {
    "duration": 5,
    "start_time": "2025-07-23T12:37:00.812Z"
   },
   {
    "duration": 374,
    "start_time": "2025-07-23T12:37:00.818Z"
   },
   {
    "duration": 5,
    "start_time": "2025-07-23T12:37:01.193Z"
   },
   {
    "duration": 845,
    "start_time": "2025-07-23T12:37:01.199Z"
   },
   {
    "duration": 7,
    "start_time": "2025-07-23T12:37:02.046Z"
   },
   {
    "duration": 729,
    "start_time": "2025-07-23T12:37:02.054Z"
   },
   {
    "duration": 5140,
    "start_time": "2025-07-23T12:37:02.785Z"
   },
   {
    "duration": 5386,
    "start_time": "2025-07-23T12:40:55.967Z"
   },
   {
    "duration": 1659,
    "start_time": "2025-07-23T12:41:01.355Z"
   },
   {
    "duration": 823,
    "start_time": "2025-07-23T12:41:03.016Z"
   },
   {
    "duration": 16,
    "start_time": "2025-07-23T12:41:03.840Z"
   },
   {
    "duration": 167,
    "start_time": "2025-07-23T12:41:03.857Z"
   },
   {
    "duration": 447,
    "start_time": "2025-07-23T12:41:04.025Z"
   },
   {
    "duration": 976,
    "start_time": "2025-07-23T12:41:04.474Z"
   },
   {
    "duration": 102,
    "start_time": "2025-07-23T12:41:05.452Z"
   },
   {
    "duration": 34,
    "start_time": "2025-07-23T12:41:05.556Z"
   },
   {
    "duration": 4,
    "start_time": "2025-07-23T12:41:05.592Z"
   },
   {
    "duration": 220,
    "start_time": "2025-07-23T12:41:05.598Z"
   },
   {
    "duration": 40,
    "start_time": "2025-07-23T12:41:05.820Z"
   },
   {
    "duration": 60,
    "start_time": "2025-07-23T12:41:05.861Z"
   },
   {
    "duration": 67,
    "start_time": "2025-07-23T12:41:05.925Z"
   },
   {
    "duration": 37,
    "start_time": "2025-07-23T12:41:05.994Z"
   },
   {
    "duration": 61,
    "start_time": "2025-07-23T12:41:06.033Z"
   },
   {
    "duration": 114,
    "start_time": "2025-07-23T12:41:06.096Z"
   },
   {
    "duration": 133,
    "start_time": "2025-07-23T12:41:06.212Z"
   },
   {
    "duration": 6,
    "start_time": "2025-07-23T12:41:06.347Z"
   },
   {
    "duration": 37,
    "start_time": "2025-07-23T12:41:06.354Z"
   },
   {
    "duration": 44,
    "start_time": "2025-07-23T12:41:06.393Z"
   },
   {
    "duration": 257,
    "start_time": "2025-07-23T12:41:06.439Z"
   },
   {
    "duration": 121,
    "start_time": "2025-07-23T12:41:06.698Z"
   },
   {
    "duration": 27,
    "start_time": "2025-07-23T12:41:06.821Z"
   },
   {
    "duration": 22,
    "start_time": "2025-07-23T12:41:06.850Z"
   },
   {
    "duration": 6,
    "start_time": "2025-07-23T12:41:06.874Z"
   },
   {
    "duration": 97,
    "start_time": "2025-07-23T12:41:06.882Z"
   },
   {
    "duration": 104,
    "start_time": "2025-07-23T12:41:06.981Z"
   },
   {
    "duration": 21,
    "start_time": "2025-07-23T12:41:07.086Z"
   },
   {
    "duration": 754,
    "start_time": "2025-07-23T12:41:07.108Z"
   },
   {
    "duration": 5,
    "start_time": "2025-07-23T12:41:07.863Z"
   },
   {
    "duration": 330,
    "start_time": "2025-07-23T12:41:07.870Z"
   },
   {
    "duration": 5,
    "start_time": "2025-07-23T12:41:08.201Z"
   },
   {
    "duration": 908,
    "start_time": "2025-07-23T12:41:08.207Z"
   },
   {
    "duration": 5,
    "start_time": "2025-07-23T12:41:09.116Z"
   },
   {
    "duration": 695,
    "start_time": "2025-07-23T12:41:09.123Z"
   },
   {
    "duration": 5263,
    "start_time": "2025-07-23T12:41:09.820Z"
   },
   {
    "duration": 5,
    "start_time": "2025-07-23T12:41:56.464Z"
   },
   {
    "duration": 109,
    "start_time": "2025-07-23T12:42:00.064Z"
   },
   {
    "duration": 5,
    "start_time": "2025-07-23T12:42:02.672Z"
   },
   {
    "duration": 46517,
    "start_time": "2025-07-23T12:42:15.600Z"
   },
   {
    "duration": 4970765,
    "start_time": "2025-07-23T12:43:32.647Z"
   },
   {
    "duration": 4,
    "start_time": "2025-07-23T14:09:52.391Z"
   },
   {
    "duration": 5149,
    "start_time": "2025-07-23T14:10:35.796Z"
   },
   {
    "duration": 23,
    "start_time": "2025-07-23T14:13:04.207Z"
   },
   {
    "duration": 5183,
    "start_time": "2025-07-23T14:13:15.956Z"
   },
   {
    "duration": 1299,
    "start_time": "2025-07-23T14:13:53.268Z"
   },
   {
    "duration": 3,
    "start_time": "2025-07-23T14:16:42.617Z"
   },
   {
    "duration": 88,
    "start_time": "2025-07-23T14:18:02.586Z"
   },
   {
    "duration": 5,
    "start_time": "2025-07-23T14:18:15.320Z"
   },
   {
    "duration": 89,
    "start_time": "2025-07-23T14:20:22.651Z"
   },
   {
    "duration": 77,
    "start_time": "2025-07-23T14:21:06.855Z"
   },
   {
    "duration": 52,
    "start_time": "2025-07-23T14:23:15.784Z"
   },
   {
    "duration": 3920,
    "start_time": "2025-07-23T14:23:56.831Z"
   },
   {
    "duration": 5,
    "start_time": "2025-07-23T14:24:13.466Z"
   },
   {
    "duration": 22,
    "start_time": "2025-07-23T14:27:05.252Z"
   },
   {
    "duration": 15,
    "start_time": "2025-07-23T14:27:32.362Z"
   },
   {
    "duration": 181,
    "start_time": "2025-07-23T14:27:50.172Z"
   },
   {
    "duration": 10,
    "start_time": "2025-07-23T14:28:21.430Z"
   },
   {
    "duration": 12,
    "start_time": "2025-07-23T14:29:58.863Z"
   },
   {
    "duration": 12,
    "start_time": "2025-07-23T14:31:52.521Z"
   },
   {
    "duration": 5,
    "start_time": "2025-07-23T14:35:47.352Z"
   },
   {
    "duration": 1616,
    "start_time": "2025-07-23T14:39:49.411Z"
   },
   {
    "duration": 1607,
    "start_time": "2025-07-23T14:40:09.110Z"
   },
   {
    "duration": 144,
    "start_time": "2025-07-23T14:48:12.844Z"
   },
   {
    "duration": 132,
    "start_time": "2025-07-23T14:49:19.452Z"
   },
   {
    "duration": 5428,
    "start_time": "2025-07-23T19:08:37.416Z"
   },
   {
    "duration": 1686,
    "start_time": "2025-07-23T19:08:42.846Z"
   },
   {
    "duration": 915,
    "start_time": "2025-07-23T19:08:44.533Z"
   },
   {
    "duration": 16,
    "start_time": "2025-07-23T19:08:45.450Z"
   },
   {
    "duration": 166,
    "start_time": "2025-07-23T19:08:45.468Z"
   },
   {
    "duration": 514,
    "start_time": "2025-07-23T19:08:45.636Z"
   },
   {
    "duration": 1062,
    "start_time": "2025-07-23T19:08:46.152Z"
   },
   {
    "duration": 103,
    "start_time": "2025-07-23T19:08:47.215Z"
   },
   {
    "duration": 46,
    "start_time": "2025-07-23T19:08:47.320Z"
   },
   {
    "duration": 4,
    "start_time": "2025-07-23T19:08:47.368Z"
   },
   {
    "duration": 253,
    "start_time": "2025-07-23T19:08:47.374Z"
   },
   {
    "duration": 50,
    "start_time": "2025-07-23T19:08:47.629Z"
   },
   {
    "duration": 54,
    "start_time": "2025-07-23T19:08:47.681Z"
   },
   {
    "duration": 38,
    "start_time": "2025-07-23T19:08:47.738Z"
   },
   {
    "duration": 65,
    "start_time": "2025-07-23T19:08:47.778Z"
   },
   {
    "duration": 36,
    "start_time": "2025-07-23T19:08:47.845Z"
   },
   {
    "duration": 115,
    "start_time": "2025-07-23T19:08:47.883Z"
   },
   {
    "duration": 41,
    "start_time": "2025-07-23T19:08:47.999Z"
   },
   {
    "duration": 7,
    "start_time": "2025-07-23T19:08:48.041Z"
   },
   {
    "duration": 39,
    "start_time": "2025-07-23T19:08:48.049Z"
   },
   {
    "duration": 54,
    "start_time": "2025-07-23T19:08:48.089Z"
   },
   {
    "duration": 273,
    "start_time": "2025-07-23T19:08:48.144Z"
   },
   {
    "duration": 133,
    "start_time": "2025-07-23T19:08:48.419Z"
   },
   {
    "duration": 20,
    "start_time": "2025-07-23T19:08:48.554Z"
   },
   {
    "duration": 22,
    "start_time": "2025-07-23T19:08:48.576Z"
   },
   {
    "duration": 7,
    "start_time": "2025-07-23T19:08:48.600Z"
   },
   {
    "duration": 176,
    "start_time": "2025-07-23T19:08:48.608Z"
   },
   {
    "duration": 100,
    "start_time": "2025-07-23T19:08:48.785Z"
   },
   {
    "duration": 16,
    "start_time": "2025-07-23T19:08:48.887Z"
   },
   {
    "duration": 784,
    "start_time": "2025-07-23T19:08:48.904Z"
   },
   {
    "duration": 5,
    "start_time": "2025-07-23T19:08:49.690Z"
   },
   {
    "duration": 352,
    "start_time": "2025-07-23T19:08:49.697Z"
   },
   {
    "duration": 4,
    "start_time": "2025-07-23T19:08:50.051Z"
   },
   {
    "duration": 877,
    "start_time": "2025-07-23T19:08:50.057Z"
   },
   {
    "duration": 5,
    "start_time": "2025-07-23T19:08:50.936Z"
   },
   {
    "duration": 759,
    "start_time": "2025-07-23T19:08:50.942Z"
   },
   {
    "duration": 5420,
    "start_time": "2025-07-23T19:08:51.703Z"
   },
   {
    "duration": 5,
    "start_time": "2025-07-23T19:08:57.125Z"
   },
   {
    "duration": 117,
    "start_time": "2025-07-23T19:08:57.132Z"
   },
   {
    "duration": 6,
    "start_time": "2025-07-23T19:08:57.251Z"
   },
   {
    "duration": 148,
    "start_time": "2025-07-23T19:10:15.263Z"
   },
   {
    "duration": 5496,
    "start_time": "2025-07-23T19:10:26.453Z"
   },
   {
    "duration": 3027,
    "start_time": "2025-07-23T19:10:31.951Z"
   },
   {
    "duration": 947,
    "start_time": "2025-07-23T19:10:34.980Z"
   },
   {
    "duration": 21,
    "start_time": "2025-07-23T19:10:35.928Z"
   },
   {
    "duration": 176,
    "start_time": "2025-07-23T19:10:35.951Z"
   },
   {
    "duration": 536,
    "start_time": "2025-07-23T19:10:36.128Z"
   },
   {
    "duration": 1029,
    "start_time": "2025-07-23T19:10:36.665Z"
   },
   {
    "duration": 100,
    "start_time": "2025-07-23T19:10:37.696Z"
   },
   {
    "duration": 41,
    "start_time": "2025-07-23T19:10:37.798Z"
   },
   {
    "duration": 6,
    "start_time": "2025-07-23T19:10:37.840Z"
   },
   {
    "duration": 215,
    "start_time": "2025-07-23T19:10:37.847Z"
   },
   {
    "duration": 37,
    "start_time": "2025-07-23T19:10:38.064Z"
   },
   {
    "duration": 50,
    "start_time": "2025-07-23T19:10:38.103Z"
   },
   {
    "duration": 39,
    "start_time": "2025-07-23T19:10:38.155Z"
   },
   {
    "duration": 49,
    "start_time": "2025-07-23T19:10:38.196Z"
   },
   {
    "duration": 39,
    "start_time": "2025-07-23T19:10:38.247Z"
   },
   {
    "duration": 102,
    "start_time": "2025-07-23T19:10:38.288Z"
   },
   {
    "duration": 31,
    "start_time": "2025-07-23T19:10:38.392Z"
   },
   {
    "duration": 16,
    "start_time": "2025-07-23T19:10:38.424Z"
   },
   {
    "duration": 36,
    "start_time": "2025-07-23T19:10:38.442Z"
   },
   {
    "duration": 33,
    "start_time": "2025-07-23T19:10:38.480Z"
   },
   {
    "duration": 280,
    "start_time": "2025-07-23T19:10:38.515Z"
   },
   {
    "duration": 118,
    "start_time": "2025-07-23T19:10:38.797Z"
   },
   {
    "duration": 29,
    "start_time": "2025-07-23T19:10:38.916Z"
   },
   {
    "duration": 23,
    "start_time": "2025-07-23T19:10:38.946Z"
   },
   {
    "duration": 8,
    "start_time": "2025-07-23T19:10:38.970Z"
   },
   {
    "duration": 99,
    "start_time": "2025-07-23T19:10:38.979Z"
   },
   {
    "duration": 219,
    "start_time": "2025-07-23T19:10:39.079Z"
   },
   {
    "duration": 5,
    "start_time": "2025-07-23T19:10:39.299Z"
   },
   {
    "duration": 787,
    "start_time": "2025-07-23T19:10:39.306Z"
   },
   {
    "duration": 5,
    "start_time": "2025-07-23T19:10:40.095Z"
   },
   {
    "duration": 350,
    "start_time": "2025-07-23T19:10:40.101Z"
   },
   {
    "duration": 7,
    "start_time": "2025-07-23T19:10:40.453Z"
   },
   {
    "duration": 860,
    "start_time": "2025-07-23T19:10:40.462Z"
   },
   {
    "duration": 13,
    "start_time": "2025-07-23T19:10:41.324Z"
   },
   {
    "duration": 705,
    "start_time": "2025-07-23T19:10:41.339Z"
   },
   {
    "duration": 5378,
    "start_time": "2025-07-23T19:10:42.045Z"
   },
   {
    "duration": 5,
    "start_time": "2025-07-23T19:10:47.424Z"
   },
   {
    "duration": 123,
    "start_time": "2025-07-23T19:10:47.431Z"
   },
   {
    "duration": 9,
    "start_time": "2025-07-23T19:10:47.556Z"
   },
   {
    "duration": 5562,
    "start_time": "2025-07-23T19:14:38.149Z"
   },
   {
    "duration": 2996,
    "start_time": "2025-07-23T19:14:43.713Z"
   },
   {
    "duration": 877,
    "start_time": "2025-07-23T19:14:46.711Z"
   },
   {
    "duration": 23,
    "start_time": "2025-07-23T19:14:47.590Z"
   },
   {
    "duration": 234,
    "start_time": "2025-07-23T19:14:47.615Z"
   },
   {
    "duration": 476,
    "start_time": "2025-07-23T19:14:47.851Z"
   },
   {
    "duration": 993,
    "start_time": "2025-07-23T19:14:48.333Z"
   },
   {
    "duration": 94,
    "start_time": "2025-07-23T19:14:49.328Z"
   },
   {
    "duration": 39,
    "start_time": "2025-07-23T19:14:49.423Z"
   },
   {
    "duration": 4,
    "start_time": "2025-07-23T19:14:49.465Z"
   },
   {
    "duration": 221,
    "start_time": "2025-07-23T19:14:49.470Z"
   },
   {
    "duration": 42,
    "start_time": "2025-07-23T19:14:49.693Z"
   },
   {
    "duration": 38,
    "start_time": "2025-07-23T19:14:49.737Z"
   },
   {
    "duration": 39,
    "start_time": "2025-07-23T19:14:49.777Z"
   },
   {
    "duration": 51,
    "start_time": "2025-07-23T19:14:49.818Z"
   },
   {
    "duration": 34,
    "start_time": "2025-07-23T19:14:49.870Z"
   },
   {
    "duration": 110,
    "start_time": "2025-07-23T19:14:49.905Z"
   },
   {
    "duration": 37,
    "start_time": "2025-07-23T19:14:50.017Z"
   },
   {
    "duration": 7,
    "start_time": "2025-07-23T19:14:50.055Z"
   },
   {
    "duration": 43,
    "start_time": "2025-07-23T19:14:50.063Z"
   },
   {
    "duration": 44,
    "start_time": "2025-07-23T19:14:50.108Z"
   },
   {
    "duration": 259,
    "start_time": "2025-07-23T19:14:50.154Z"
   },
   {
    "duration": 113,
    "start_time": "2025-07-23T19:14:50.414Z"
   },
   {
    "duration": 21,
    "start_time": "2025-07-23T19:14:50.533Z"
   },
   {
    "duration": 29,
    "start_time": "2025-07-23T19:14:50.555Z"
   },
   {
    "duration": 7,
    "start_time": "2025-07-23T19:14:50.586Z"
   },
   {
    "duration": 95,
    "start_time": "2025-07-23T19:14:50.594Z"
   },
   {
    "duration": 159,
    "start_time": "2025-07-23T19:14:50.692Z"
   },
   {
    "duration": 67,
    "start_time": "2025-07-23T19:14:50.853Z"
   },
   {
    "duration": 782,
    "start_time": "2025-07-23T19:14:50.922Z"
   },
   {
    "duration": 5,
    "start_time": "2025-07-23T19:14:51.705Z"
   },
   {
    "duration": 390,
    "start_time": "2025-07-23T19:14:51.712Z"
   },
   {
    "duration": 4,
    "start_time": "2025-07-23T19:14:52.104Z"
   },
   {
    "duration": 932,
    "start_time": "2025-07-23T19:14:52.110Z"
   },
   {
    "duration": 5,
    "start_time": "2025-07-23T19:14:53.044Z"
   },
   {
    "duration": 859,
    "start_time": "2025-07-23T19:14:53.051Z"
   },
   {
    "duration": 5383,
    "start_time": "2025-07-23T19:14:53.912Z"
   },
   {
    "duration": 6,
    "start_time": "2025-07-23T19:14:59.298Z"
   },
   {
    "duration": 108,
    "start_time": "2025-07-23T19:14:59.306Z"
   },
   {
    "duration": 99,
    "start_time": "2025-07-23T19:15:09.294Z"
   },
   {
    "duration": 7,
    "start_time": "2025-07-23T19:15:29.958Z"
   },
   {
    "duration": 3377240,
    "start_time": "2025-07-23T19:15:32.778Z"
   },
   {
    "duration": 4,
    "start_time": "2025-07-23T20:21:33.478Z"
   },
   {
    "duration": 57,
    "start_time": "2025-07-23T20:21:44.527Z"
   },
   {
    "duration": 12,
    "start_time": "2025-07-23T20:21:48.874Z"
   },
   {
    "duration": 3805,
    "start_time": "2025-07-23T20:24:10.942Z"
   },
   {
    "duration": 4,
    "start_time": "2025-07-23T20:24:17.262Z"
   },
   {
    "duration": 10,
    "start_time": "2025-07-23T20:24:20.781Z"
   },
   {
    "duration": 12098,
    "start_time": "2025-07-24T06:18:17.257Z"
   },
   {
    "duration": 2063,
    "start_time": "2025-07-24T06:18:29.358Z"
   },
   {
    "duration": 1053,
    "start_time": "2025-07-24T06:18:31.424Z"
   },
   {
    "duration": 32,
    "start_time": "2025-07-24T06:18:32.479Z"
   },
   {
    "duration": 175,
    "start_time": "2025-07-24T06:18:32.525Z"
   },
   {
    "duration": 551,
    "start_time": "2025-07-24T06:18:32.706Z"
   },
   {
    "duration": 1161,
    "start_time": "2025-07-24T06:18:33.259Z"
   },
   {
    "duration": 112,
    "start_time": "2025-07-24T06:18:34.425Z"
   },
   {
    "duration": 36,
    "start_time": "2025-07-24T06:18:34.539Z"
   },
   {
    "duration": 21,
    "start_time": "2025-07-24T06:18:34.578Z"
   },
   {
    "duration": 294,
    "start_time": "2025-07-24T06:18:34.613Z"
   },
   {
    "duration": 47,
    "start_time": "2025-07-24T06:18:34.909Z"
   },
   {
    "duration": 78,
    "start_time": "2025-07-24T06:18:34.958Z"
   },
   {
    "duration": 53,
    "start_time": "2025-07-24T06:18:35.038Z"
   },
   {
    "duration": 78,
    "start_time": "2025-07-24T06:18:35.102Z"
   },
   {
    "duration": 138,
    "start_time": "2025-07-24T06:18:35.182Z"
   },
   {
    "duration": 199,
    "start_time": "2025-07-24T06:18:35.322Z"
   },
   {
    "duration": 32,
    "start_time": "2025-07-24T06:18:35.524Z"
   },
   {
    "duration": 90,
    "start_time": "2025-07-24T06:18:35.558Z"
   },
   {
    "duration": 54,
    "start_time": "2025-07-24T06:18:35.650Z"
   },
   {
    "duration": 41,
    "start_time": "2025-07-24T06:18:35.710Z"
   },
   {
    "duration": 395,
    "start_time": "2025-07-24T06:18:35.752Z"
   },
   {
    "duration": 149,
    "start_time": "2025-07-24T06:18:36.148Z"
   },
   {
    "duration": 24,
    "start_time": "2025-07-24T06:18:36.306Z"
   },
   {
    "duration": 56,
    "start_time": "2025-07-24T06:18:36.332Z"
   },
   {
    "duration": 13,
    "start_time": "2025-07-24T06:18:36.394Z"
   },
   {
    "duration": 121,
    "start_time": "2025-07-24T06:18:36.410Z"
   },
   {
    "duration": 133,
    "start_time": "2025-07-24T06:18:36.535Z"
   },
   {
    "duration": 35,
    "start_time": "2025-07-24T06:18:36.670Z"
   },
   {
    "duration": 989,
    "start_time": "2025-07-24T06:18:36.713Z"
   },
   {
    "duration": 8,
    "start_time": "2025-07-24T06:18:37.704Z"
   },
   {
    "duration": 490,
    "start_time": "2025-07-24T06:18:37.714Z"
   },
   {
    "duration": 17,
    "start_time": "2025-07-24T06:18:38.206Z"
   },
   {
    "duration": 1022,
    "start_time": "2025-07-24T06:18:38.225Z"
   },
   {
    "duration": 5,
    "start_time": "2025-07-24T06:18:39.249Z"
   },
   {
    "duration": 903,
    "start_time": "2025-07-24T06:18:39.255Z"
   },
   {
    "duration": 6750,
    "start_time": "2025-07-24T06:18:40.160Z"
   },
   {
    "duration": 8,
    "start_time": "2025-07-24T06:18:46.913Z"
   },
   {
    "duration": 165,
    "start_time": "2025-07-24T06:18:46.922Z"
   },
   {
    "duration": 6,
    "start_time": "2025-07-24T06:19:01.166Z"
   },
   {
    "duration": 5763928,
    "start_time": "2025-07-24T06:19:08.602Z"
   },
   {
    "duration": 13,
    "start_time": "2025-07-24T07:56:16.922Z"
   },
   {
    "duration": 3,
    "start_time": "2025-07-24T07:59:11.124Z"
   },
   {
    "duration": 12165,
    "start_time": "2025-07-24T07:59:23.599Z"
   },
   {
    "duration": 145,
    "start_time": "2025-07-24T07:59:48.711Z"
   },
   {
    "duration": 9,
    "start_time": "2025-07-24T08:00:00.325Z"
   },
   {
    "duration": 7,
    "start_time": "2025-07-24T11:55:33.272Z"
   },
   {
    "duration": 38,
    "start_time": "2025-07-24T11:55:46.068Z"
   },
   {
    "duration": 10,
    "start_time": "2025-07-24T11:56:36.680Z"
   },
   {
    "duration": 33,
    "start_time": "2025-07-24T11:58:33.105Z"
   },
   {
    "duration": 6094,
    "start_time": "2025-07-24T11:58:39.742Z"
   },
   {
    "duration": 6,
    "start_time": "2025-07-24T11:58:45.839Z"
   },
   {
    "duration": 978,
    "start_time": "2025-07-24T11:58:45.847Z"
   },
   {
    "duration": 14,
    "start_time": "2025-07-24T11:58:46.827Z"
   },
   {
    "duration": 264,
    "start_time": "2025-07-24T11:58:46.843Z"
   },
   {
    "duration": 448,
    "start_time": "2025-07-24T11:58:47.109Z"
   },
   {
    "duration": 944,
    "start_time": "2025-07-24T11:58:47.559Z"
   },
   {
    "duration": 102,
    "start_time": "2025-07-24T11:58:48.505Z"
   },
   {
    "duration": 26,
    "start_time": "2025-07-24T11:58:48.608Z"
   },
   {
    "duration": 4,
    "start_time": "2025-07-24T11:58:48.636Z"
   },
   {
    "duration": 128,
    "start_time": "2025-07-24T11:58:48.641Z"
   },
   {
    "duration": 79,
    "start_time": "2025-07-24T11:58:48.771Z"
   },
   {
    "duration": 134,
    "start_time": "2025-07-24T11:58:48.851Z"
   },
   {
    "duration": 54,
    "start_time": "2025-07-24T11:58:48.988Z"
   },
   {
    "duration": 46,
    "start_time": "2025-07-24T11:58:49.043Z"
   },
   {
    "duration": 40,
    "start_time": "2025-07-24T11:58:49.096Z"
   },
   {
    "duration": 127,
    "start_time": "2025-07-24T11:58:49.138Z"
   },
   {
    "duration": 39,
    "start_time": "2025-07-24T11:58:49.267Z"
   },
   {
    "duration": 7,
    "start_time": "2025-07-24T11:58:49.307Z"
   },
   {
    "duration": 24,
    "start_time": "2025-07-24T11:58:49.316Z"
   },
   {
    "duration": 54,
    "start_time": "2025-07-24T11:58:49.341Z"
   },
   {
    "duration": 271,
    "start_time": "2025-07-24T11:58:49.402Z"
   },
   {
    "duration": 132,
    "start_time": "2025-07-24T11:58:49.675Z"
   },
   {
    "duration": 19,
    "start_time": "2025-07-24T11:58:49.808Z"
   },
   {
    "duration": 22,
    "start_time": "2025-07-24T11:58:49.829Z"
   },
   {
    "duration": 8,
    "start_time": "2025-07-24T11:58:49.852Z"
   },
   {
    "duration": 9,
    "start_time": "2025-07-24T12:02:02.125Z"
   },
   {
    "duration": 16,
    "start_time": "2025-07-24T12:02:36.760Z"
   },
   {
    "duration": 37,
    "start_time": "2025-07-24T12:02:40.800Z"
   },
   {
    "duration": 10,
    "start_time": "2025-07-24T12:02:51.550Z"
   },
   {
    "duration": 37,
    "start_time": "2025-07-24T12:03:02.507Z"
   },
   {
    "duration": 6,
    "start_time": "2025-07-24T12:03:19.634Z"
   },
   {
    "duration": 9,
    "start_time": "2025-07-24T12:03:28.758Z"
   },
   {
    "duration": 40,
    "start_time": "2025-07-24T12:03:30.762Z"
   },
   {
    "duration": 34,
    "start_time": "2025-07-24T12:03:48.408Z"
   },
   {
    "duration": 33,
    "start_time": "2025-07-24T12:03:54.122Z"
   },
   {
    "duration": 5,
    "start_time": "2025-07-24T12:04:43.802Z"
   },
   {
    "duration": 29,
    "start_time": "2025-07-24T12:04:46.810Z"
   },
   {
    "duration": 4,
    "start_time": "2025-07-24T12:04:56.069Z"
   },
   {
    "duration": 9,
    "start_time": "2025-07-24T12:05:01.132Z"
   },
   {
    "duration": 99,
    "start_time": "2025-07-24T12:05:42.402Z"
   },
   {
    "duration": 35,
    "start_time": "2025-07-24T12:05:57.498Z"
   },
   {
    "duration": 8,
    "start_time": "2025-07-24T12:06:26.351Z"
   },
   {
    "duration": 5871,
    "start_time": "2025-07-24T12:06:43.972Z"
   },
   {
    "duration": 1686,
    "start_time": "2025-07-24T12:06:49.845Z"
   },
   {
    "duration": 942,
    "start_time": "2025-07-24T12:06:51.533Z"
   },
   {
    "duration": 30,
    "start_time": "2025-07-24T12:06:52.478Z"
   },
   {
    "duration": 175,
    "start_time": "2025-07-24T12:06:52.510Z"
   },
   {
    "duration": 543,
    "start_time": "2025-07-24T12:06:52.689Z"
   },
   {
    "duration": 1043,
    "start_time": "2025-07-24T12:06:53.235Z"
   },
   {
    "duration": 90,
    "start_time": "2025-07-24T12:06:54.280Z"
   },
   {
    "duration": 44,
    "start_time": "2025-07-24T12:06:54.372Z"
   },
   {
    "duration": 4,
    "start_time": "2025-07-24T12:06:54.419Z"
   },
   {
    "duration": 228,
    "start_time": "2025-07-24T12:06:54.424Z"
   },
   {
    "duration": 53,
    "start_time": "2025-07-24T12:06:54.653Z"
   },
   {
    "duration": 174,
    "start_time": "2025-07-24T12:06:54.709Z"
   },
   {
    "duration": 157,
    "start_time": "2025-07-24T12:06:54.885Z"
   },
   {
    "duration": 86,
    "start_time": "2025-07-24T12:06:55.044Z"
   },
   {
    "duration": 56,
    "start_time": "2025-07-24T12:06:55.132Z"
   },
   {
    "duration": 149,
    "start_time": "2025-07-24T12:06:55.189Z"
   },
   {
    "duration": 31,
    "start_time": "2025-07-24T12:06:55.340Z"
   },
   {
    "duration": 28,
    "start_time": "2025-07-24T12:06:55.373Z"
   },
   {
    "duration": 35,
    "start_time": "2025-07-24T12:06:55.403Z"
   },
   {
    "duration": 34,
    "start_time": "2025-07-24T12:06:55.440Z"
   },
   {
    "duration": 296,
    "start_time": "2025-07-24T12:06:55.475Z"
   },
   {
    "duration": 126,
    "start_time": "2025-07-24T12:06:55.773Z"
   },
   {
    "duration": 26,
    "start_time": "2025-07-24T12:06:55.901Z"
   },
   {
    "duration": 110,
    "start_time": "2025-07-24T12:06:55.928Z"
   },
   {
    "duration": 14,
    "start_time": "2025-07-24T12:06:56.040Z"
   },
   {
    "duration": 13,
    "start_time": "2025-07-24T12:06:56.056Z"
   },
   {
    "duration": 45,
    "start_time": "2025-07-24T12:06:56.072Z"
   },
   {
    "duration": 22,
    "start_time": "2025-07-24T12:35:27.164Z"
   },
   {
    "duration": 6155,
    "start_time": "2025-07-24T12:46:25.631Z"
   },
   {
    "duration": 1763,
    "start_time": "2025-07-24T12:46:31.789Z"
   },
   {
    "duration": 991,
    "start_time": "2025-07-24T12:46:33.554Z"
   },
   {
    "duration": 18,
    "start_time": "2025-07-24T12:46:34.547Z"
   },
   {
    "duration": 218,
    "start_time": "2025-07-24T12:46:34.566Z"
   },
   {
    "duration": 684,
    "start_time": "2025-07-24T12:46:34.786Z"
   },
   {
    "duration": 1156,
    "start_time": "2025-07-24T12:46:35.472Z"
   },
   {
    "duration": 747,
    "start_time": "2025-07-24T12:46:50.205Z"
   },
   {
    "duration": 397,
    "start_time": "2025-07-24T12:47:25.925Z"
   },
   {
    "duration": 722,
    "start_time": "2025-07-24T12:50:34.763Z"
   },
   {
    "duration": 348,
    "start_time": "2025-07-24T12:51:22.073Z"
   },
   {
    "duration": 5987,
    "start_time": "2025-07-24T12:54:13.228Z"
   },
   {
    "duration": 5,
    "start_time": "2025-07-24T12:54:19.219Z"
   },
   {
    "duration": 956,
    "start_time": "2025-07-24T12:54:19.226Z"
   },
   {
    "duration": 21,
    "start_time": "2025-07-24T12:54:20.184Z"
   },
   {
    "duration": 175,
    "start_time": "2025-07-24T12:54:20.207Z"
   },
   {
    "duration": 485,
    "start_time": "2025-07-24T12:54:20.384Z"
   },
   {
    "duration": 1008,
    "start_time": "2025-07-24T12:54:20.871Z"
   },
   {
    "duration": 614,
    "start_time": "2025-07-24T12:54:21.881Z"
   },
   {
    "duration": 350,
    "start_time": "2025-07-24T12:54:22.497Z"
   },
   {
    "duration": 102,
    "start_time": "2025-07-24T12:54:22.849Z"
   },
   {
    "duration": 39,
    "start_time": "2025-07-24T12:54:22.952Z"
   },
   {
    "duration": 9,
    "start_time": "2025-07-24T12:54:22.993Z"
   },
   {
    "duration": 250,
    "start_time": "2025-07-24T12:54:23.007Z"
   },
   {
    "duration": 50,
    "start_time": "2025-07-24T12:54:23.259Z"
   },
   {
    "duration": 124,
    "start_time": "2025-07-24T12:54:23.311Z"
   },
   {
    "duration": 73,
    "start_time": "2025-07-24T12:54:23.436Z"
   },
   {
    "duration": 47,
    "start_time": "2025-07-24T12:54:23.511Z"
   },
   {
    "duration": 59,
    "start_time": "2025-07-24T12:54:23.559Z"
   },
   {
    "duration": 106,
    "start_time": "2025-07-24T12:54:23.619Z"
   },
   {
    "duration": 29,
    "start_time": "2025-07-24T12:54:23.727Z"
   },
   {
    "duration": 17,
    "start_time": "2025-07-24T12:54:34.380Z"
   },
   {
    "duration": 24,
    "start_time": "2025-07-24T12:56:28.754Z"
   },
   {
    "duration": 39,
    "start_time": "2025-07-24T12:58:40.664Z"
   },
   {
    "duration": 296,
    "start_time": "2025-07-24T12:58:45.876Z"
   },
   {
    "duration": 132,
    "start_time": "2025-07-24T12:58:47.674Z"
   },
   {
    "duration": 22,
    "start_time": "2025-07-24T13:02:33.780Z"
   },
   {
    "duration": 14,
    "start_time": "2025-07-24T13:03:18.195Z"
   },
   {
    "duration": 142,
    "start_time": "2025-07-24T13:04:20.342Z"
   },
   {
    "duration": 16,
    "start_time": "2025-07-24T13:04:48.622Z"
   },
   {
    "duration": 23,
    "start_time": "2025-07-24T13:05:02.719Z"
   },
   {
    "duration": 16,
    "start_time": "2025-07-24T13:05:11.394Z"
   },
   {
    "duration": 15,
    "start_time": "2025-07-24T13:05:34.303Z"
   },
   {
    "duration": 27,
    "start_time": "2025-07-24T13:06:56.847Z"
   },
   {
    "duration": 26,
    "start_time": "2025-07-24T13:12:23.410Z"
   },
   {
    "duration": 8,
    "start_time": "2025-07-24T13:12:28.321Z"
   },
   {
    "duration": 9,
    "start_time": "2025-07-24T13:12:34.027Z"
   },
   {
    "duration": 43,
    "start_time": "2025-07-24T13:12:36.073Z"
   },
   {
    "duration": 7,
    "start_time": "2025-07-24T13:12:44.041Z"
   },
   {
    "duration": 32,
    "start_time": "2025-07-24T13:12:53.076Z"
   },
   {
    "duration": 81,
    "start_time": "2025-07-24T13:12:57.207Z"
   },
   {
    "duration": 94,
    "start_time": "2025-07-24T13:12:58.380Z"
   },
   {
    "duration": 6,
    "start_time": "2025-07-24T13:14:16.625Z"
   },
   {
    "duration": 928,
    "start_time": "2025-07-24T13:14:17.914Z"
   },
   {
    "duration": 6,
    "start_time": "2025-07-24T13:14:24.039Z"
   },
   {
    "duration": 376,
    "start_time": "2025-07-24T13:14:26.329Z"
   },
   {
    "duration": 5,
    "start_time": "2025-07-24T13:14:34.242Z"
   },
   {
    "duration": 978,
    "start_time": "2025-07-24T13:14:35.383Z"
   },
   {
    "duration": 7,
    "start_time": "2025-07-24T13:14:45.131Z"
   },
   {
    "duration": 831,
    "start_time": "2025-07-24T13:14:47.906Z"
   },
   {
    "duration": 5929,
    "start_time": "2025-07-24T13:15:17.245Z"
   },
   {
    "duration": 737,
    "start_time": "2025-07-24T13:35:42.940Z"
   },
   {
    "duration": 839,
    "start_time": "2025-07-24T13:36:09.951Z"
   },
   {
    "duration": 823,
    "start_time": "2025-07-24T13:36:54.607Z"
   },
   {
    "duration": 1015,
    "start_time": "2025-07-24T13:37:55.650Z"
   },
   {
    "duration": 13,
    "start_time": "2025-07-24T14:40:02.764Z"
   },
   {
    "duration": 9,
    "start_time": "2025-07-24T14:41:28.610Z"
   },
   {
    "duration": 5,
    "start_time": "2025-07-24T14:49:17.815Z"
   },
   {
    "duration": 6664,
    "start_time": "2025-07-24T15:05:01.340Z"
   },
   {
    "duration": 1919,
    "start_time": "2025-07-24T15:05:08.006Z"
   },
   {
    "duration": 1314,
    "start_time": "2025-07-24T15:05:09.927Z"
   },
   {
    "duration": 16,
    "start_time": "2025-07-24T15:05:11.243Z"
   },
   {
    "duration": 259,
    "start_time": "2025-07-24T15:05:11.261Z"
   },
   {
    "duration": 565,
    "start_time": "2025-07-24T15:05:11.521Z"
   },
   {
    "duration": 1131,
    "start_time": "2025-07-24T15:05:12.087Z"
   },
   {
    "duration": 711,
    "start_time": "2025-07-24T15:05:13.220Z"
   },
   {
    "duration": 372,
    "start_time": "2025-07-24T15:05:13.933Z"
   },
   {
    "duration": 108,
    "start_time": "2025-07-24T15:05:14.307Z"
   },
   {
    "duration": 38,
    "start_time": "2025-07-24T15:05:14.418Z"
   },
   {
    "duration": 7,
    "start_time": "2025-07-24T15:05:14.458Z"
   },
   {
    "duration": 283,
    "start_time": "2025-07-24T15:05:14.467Z"
   },
   {
    "duration": 71,
    "start_time": "2025-07-24T15:05:14.756Z"
   },
   {
    "duration": 105,
    "start_time": "2025-07-24T15:05:14.829Z"
   },
   {
    "duration": 91,
    "start_time": "2025-07-24T15:05:14.936Z"
   },
   {
    "duration": 87,
    "start_time": "2025-07-24T15:05:15.028Z"
   },
   {
    "duration": 64,
    "start_time": "2025-07-24T15:05:15.122Z"
   },
   {
    "duration": 157,
    "start_time": "2025-07-24T15:05:15.188Z"
   },
   {
    "duration": 82,
    "start_time": "2025-07-24T15:05:15.346Z"
   },
   {
    "duration": 37,
    "start_time": "2025-07-24T15:05:15.430Z"
   },
   {
    "duration": 106,
    "start_time": "2025-07-24T15:05:15.468Z"
   },
   {
    "duration": 49,
    "start_time": "2025-07-24T15:05:15.576Z"
   },
   {
    "duration": 340,
    "start_time": "2025-07-24T15:05:15.626Z"
   },
   {
    "duration": 144,
    "start_time": "2025-07-24T15:05:15.968Z"
   },
   {
    "duration": 26,
    "start_time": "2025-07-24T15:05:16.115Z"
   },
   {
    "duration": 27,
    "start_time": "2025-07-24T15:05:16.142Z"
   },
   {
    "duration": 46,
    "start_time": "2025-07-24T15:05:16.171Z"
   },
   {
    "duration": 7,
    "start_time": "2025-07-24T15:05:16.221Z"
   },
   {
    "duration": 8,
    "start_time": "2025-07-24T15:05:16.230Z"
   },
   {
    "duration": 35,
    "start_time": "2025-07-24T15:05:16.240Z"
   },
   {
    "duration": 38,
    "start_time": "2025-07-24T15:05:16.277Z"
   },
   {
    "duration": 35,
    "start_time": "2025-07-24T15:05:16.317Z"
   },
   {
    "duration": 104,
    "start_time": "2025-07-24T15:05:16.354Z"
   },
   {
    "duration": 105,
    "start_time": "2025-07-24T15:05:16.460Z"
   },
   {
    "duration": 39,
    "start_time": "2025-07-24T15:05:16.568Z"
   },
   {
    "duration": 933,
    "start_time": "2025-07-24T15:05:16.614Z"
   },
   {
    "duration": 5,
    "start_time": "2025-07-24T15:05:17.549Z"
   },
   {
    "duration": 422,
    "start_time": "2025-07-24T15:05:17.556Z"
   },
   {
    "duration": 14,
    "start_time": "2025-07-24T15:05:17.980Z"
   },
   {
    "duration": 1017,
    "start_time": "2025-07-24T15:05:18.000Z"
   },
   {
    "duration": 5,
    "start_time": "2025-07-24T15:05:19.019Z"
   },
   {
    "duration": 837,
    "start_time": "2025-07-24T15:05:19.026Z"
   },
   {
    "duration": 6254,
    "start_time": "2025-07-24T15:05:19.865Z"
   },
   {
    "duration": 5,
    "start_time": "2025-07-24T15:05:26.122Z"
   },
   {
    "duration": 210,
    "start_time": "2025-07-24T15:05:26.129Z"
   },
   {
    "duration": 4,
    "start_time": "2025-07-24T15:06:21.127Z"
   },
   {
    "duration": 55,
    "start_time": "2025-07-24T15:06:23.963Z"
   },
   {
    "duration": 10,
    "start_time": "2025-07-24T15:06:52.575Z"
   },
   {
    "duration": 5,
    "start_time": "2025-07-24T15:08:33.738Z"
   },
   {
    "duration": 10,
    "start_time": "2025-07-24T15:08:35.370Z"
   },
   {
    "duration": 109,
    "start_time": "2025-07-24T15:08:40.014Z"
   },
   {
    "duration": 5,
    "start_time": "2025-07-24T15:10:35.235Z"
   },
   {
    "duration": 6378,
    "start_time": "2025-07-24T15:10:51.347Z"
   },
   {
    "duration": 1804,
    "start_time": "2025-07-24T15:10:57.727Z"
   },
   {
    "duration": 1020,
    "start_time": "2025-07-24T15:10:59.533Z"
   },
   {
    "duration": 17,
    "start_time": "2025-07-24T15:11:00.555Z"
   },
   {
    "duration": 199,
    "start_time": "2025-07-24T15:11:00.574Z"
   },
   {
    "duration": 563,
    "start_time": "2025-07-24T15:11:00.774Z"
   },
   {
    "duration": 1196,
    "start_time": "2025-07-24T15:11:01.339Z"
   },
   {
    "duration": 711,
    "start_time": "2025-07-24T15:11:02.536Z"
   },
   {
    "duration": 393,
    "start_time": "2025-07-24T15:11:03.249Z"
   },
   {
    "duration": 108,
    "start_time": "2025-07-24T15:11:03.644Z"
   },
   {
    "duration": 55,
    "start_time": "2025-07-24T15:11:03.754Z"
   },
   {
    "duration": 67,
    "start_time": "2025-07-24T15:11:03.811Z"
   },
   {
    "duration": 273,
    "start_time": "2025-07-24T15:11:03.880Z"
   },
   {
    "duration": 48,
    "start_time": "2025-07-24T15:11:04.156Z"
   },
   {
    "duration": 43,
    "start_time": "2025-07-24T15:11:04.207Z"
   },
   {
    "duration": 65,
    "start_time": "2025-07-24T15:11:04.252Z"
   },
   {
    "duration": 38,
    "start_time": "2025-07-24T15:11:04.321Z"
   },
   {
    "duration": 59,
    "start_time": "2025-07-24T15:11:04.361Z"
   },
   {
    "duration": 157,
    "start_time": "2025-07-24T15:11:04.422Z"
   },
   {
    "duration": 43,
    "start_time": "2025-07-24T15:11:04.580Z"
   },
   {
    "duration": 11,
    "start_time": "2025-07-24T15:11:04.625Z"
   },
   {
    "duration": 76,
    "start_time": "2025-07-24T15:11:04.638Z"
   },
   {
    "duration": 49,
    "start_time": "2025-07-24T15:11:04.717Z"
   },
   {
    "duration": 295,
    "start_time": "2025-07-24T15:11:04.769Z"
   },
   {
    "duration": 159,
    "start_time": "2025-07-24T15:11:05.067Z"
   },
   {
    "duration": 19,
    "start_time": "2025-07-24T15:11:05.227Z"
   },
   {
    "duration": 57,
    "start_time": "2025-07-24T15:11:05.247Z"
   },
   {
    "duration": 32,
    "start_time": "2025-07-24T15:11:05.307Z"
   },
   {
    "duration": 167,
    "start_time": "2025-07-24T15:11:05.341Z"
   },
   {
    "duration": 28,
    "start_time": "2025-07-24T15:11:05.510Z"
   },
   {
    "duration": 63,
    "start_time": "2025-07-24T15:11:05.540Z"
   },
   {
    "duration": 12,
    "start_time": "2025-07-24T15:11:05.604Z"
   },
   {
    "duration": 23,
    "start_time": "2025-07-24T15:11:05.620Z"
   },
   {
    "duration": 108,
    "start_time": "2025-07-24T15:11:05.645Z"
   },
   {
    "duration": 246,
    "start_time": "2025-07-24T15:11:05.755Z"
   },
   {
    "duration": 93,
    "start_time": "2025-07-24T15:11:06.003Z"
   },
   {
    "duration": 1034,
    "start_time": "2025-07-24T15:11:06.100Z"
   },
   {
    "duration": 6,
    "start_time": "2025-07-24T15:11:07.136Z"
   },
   {
    "duration": 470,
    "start_time": "2025-07-24T15:11:07.143Z"
   },
   {
    "duration": 6,
    "start_time": "2025-07-24T15:11:07.616Z"
   },
   {
    "duration": 1209,
    "start_time": "2025-07-24T15:11:07.625Z"
   },
   {
    "duration": 5,
    "start_time": "2025-07-24T15:11:08.835Z"
   },
   {
    "duration": 926,
    "start_time": "2025-07-24T15:11:08.842Z"
   },
   {
    "duration": 6248,
    "start_time": "2025-07-24T15:11:09.770Z"
   },
   {
    "duration": 6,
    "start_time": "2025-07-24T15:11:16.021Z"
   },
   {
    "duration": 188,
    "start_time": "2025-07-24T15:11:16.029Z"
   },
   {
    "duration": 9,
    "start_time": "2025-07-24T15:11:20.497Z"
   },
   {
    "duration": 8,
    "start_time": "2025-07-24T15:12:40.303Z"
   },
   {
    "duration": 140,
    "start_time": "2025-07-24T15:12:52.527Z"
   },
   {
    "duration": 10,
    "start_time": "2025-07-24T15:13:04.837Z"
   },
   {
    "duration": 16,
    "start_time": "2025-07-24T15:13:35.524Z"
   },
   {
    "duration": 19,
    "start_time": "2025-07-24T15:13:59.432Z"
   },
   {
    "duration": 8,
    "start_time": "2025-07-24T15:14:50.192Z"
   },
   {
    "duration": 19,
    "start_time": "2025-07-24T15:14:50.710Z"
   },
   {
    "duration": 16,
    "start_time": "2025-07-24T15:14:58.442Z"
   },
   {
    "duration": 15,
    "start_time": "2025-07-24T15:15:22.133Z"
   },
   {
    "duration": 20,
    "start_time": "2025-07-24T15:16:38.421Z"
   },
   {
    "duration": 5,
    "start_time": "2025-07-24T15:24:23.351Z"
   },
   {
    "duration": 16,
    "start_time": "2025-07-24T15:24:24.340Z"
   },
   {
    "duration": 2593672,
    "start_time": "2025-07-24T15:25:03.402Z"
   },
   {
    "duration": 100,
    "start_time": "2025-07-24T16:11:36.085Z"
   },
   {
    "duration": 6,
    "start_time": "2025-07-24T16:15:25.170Z"
   },
   {
    "duration": 54,
    "start_time": "2025-07-24T16:16:12.057Z"
   },
   {
    "duration": 13,
    "start_time": "2025-07-24T16:17:08.898Z"
   },
   {
    "duration": 20,
    "start_time": "2025-07-24T16:18:08.876Z"
   },
   {
    "duration": 34,
    "start_time": "2025-07-24T16:18:31.905Z"
   },
   {
    "duration": 13,
    "start_time": "2025-07-24T16:19:47.341Z"
   },
   {
    "duration": 21,
    "start_time": "2025-07-24T16:20:20.814Z"
   },
   {
    "duration": 21,
    "start_time": "2025-07-24T16:21:49.760Z"
   },
   {
    "duration": 21,
    "start_time": "2025-07-24T16:21:53.433Z"
   },
   {
    "duration": 30,
    "start_time": "2025-07-24T16:23:04.881Z"
   },
   {
    "duration": 36,
    "start_time": "2025-07-24T16:23:09.685Z"
   },
   {
    "duration": 23,
    "start_time": "2025-07-24T16:23:45.216Z"
   },
   {
    "duration": 3,
    "start_time": "2025-07-24T16:27:34.066Z"
   },
   {
    "duration": 4,
    "start_time": "2025-07-24T16:28:01.041Z"
   },
   {
    "duration": 4,
    "start_time": "2025-07-24T16:28:27.358Z"
   },
   {
    "duration": 10,
    "start_time": "2025-07-24T16:30:34.577Z"
   },
   {
    "duration": 5,
    "start_time": "2025-07-24T16:32:00.763Z"
   },
   {
    "duration": 538,
    "start_time": "2025-07-24T16:32:19.764Z"
   },
   {
    "duration": 539,
    "start_time": "2025-07-24T16:32:37.216Z"
   },
   {
    "duration": 13,
    "start_time": "2025-07-24T16:33:57.735Z"
   },
   {
    "duration": 8,
    "start_time": "2025-07-24T16:34:22.842Z"
   },
   {
    "duration": 340109,
    "start_time": "2025-07-24T16:34:30.921Z"
   },
   {
    "duration": 26,
    "start_time": "2025-07-24T16:40:23.382Z"
   },
   {
    "duration": 28,
    "start_time": "2025-07-24T16:42:05.779Z"
   },
   {
    "duration": 9,
    "start_time": "2025-07-24T16:43:48.069Z"
   },
   {
    "duration": 16,
    "start_time": "2025-07-24T16:45:04.280Z"
   },
   {
    "duration": 9,
    "start_time": "2025-07-24T16:45:21.973Z"
   },
   {
    "duration": 30928,
    "start_time": "2025-07-24T16:47:31.897Z"
   },
   {
    "duration": 4733,
    "start_time": "2025-07-24T16:50:45.488Z"
   },
   {
    "duration": 4515,
    "start_time": "2025-07-24T16:52:04.606Z"
   },
   {
    "duration": 4605,
    "start_time": "2025-07-24T16:52:15.923Z"
   },
   {
    "duration": 4710,
    "start_time": "2025-07-24T16:53:14.643Z"
   },
   {
    "duration": 139723,
    "start_time": "2025-07-24T16:54:06.038Z"
   },
   {
    "duration": 31,
    "start_time": "2025-07-24T16:57:17.802Z"
   },
   {
    "duration": 4399,
    "start_time": "2025-07-24T16:57:30.875Z"
   },
   {
    "duration": 4380,
    "start_time": "2025-07-24T16:57:47.297Z"
   },
   {
    "duration": 7693,
    "start_time": "2025-07-24T16:58:10.032Z"
   },
   {
    "duration": 7347,
    "start_time": "2025-07-24T16:58:44.386Z"
   },
   {
    "duration": 186,
    "start_time": "2025-07-24T17:02:39.387Z"
   },
   {
    "duration": 182,
    "start_time": "2025-07-24T17:03:00.264Z"
   },
   {
    "duration": 173,
    "start_time": "2025-07-24T17:03:17.730Z"
   },
   {
    "duration": 221,
    "start_time": "2025-07-24T17:03:25.517Z"
   },
   {
    "duration": 187,
    "start_time": "2025-07-24T17:03:57.695Z"
   },
   {
    "duration": 184,
    "start_time": "2025-07-24T17:04:33.829Z"
   },
   {
    "duration": 337,
    "start_time": "2025-07-24T17:27:25.933Z"
   },
   {
    "duration": 312,
    "start_time": "2025-07-24T17:28:30.672Z"
   },
   {
    "duration": 348,
    "start_time": "2025-07-24T17:28:48.778Z"
   },
   {
    "duration": 190,
    "start_time": "2025-07-24T17:29:02.717Z"
   },
   {
    "duration": 181,
    "start_time": "2025-07-24T17:29:09.734Z"
   },
   {
    "duration": 317,
    "start_time": "2025-07-24T17:29:23.152Z"
   },
   {
    "duration": 191,
    "start_time": "2025-07-24T17:30:10.919Z"
   },
   {
    "duration": 198,
    "start_time": "2025-07-24T17:30:34.040Z"
   },
   {
    "duration": 201,
    "start_time": "2025-07-24T17:30:38.703Z"
   },
   {
    "duration": 186,
    "start_time": "2025-07-24T17:30:43.387Z"
   },
   {
    "duration": 189,
    "start_time": "2025-07-24T17:30:59.219Z"
   },
   {
    "duration": 174,
    "start_time": "2025-07-24T17:31:09.622Z"
   },
   {
    "duration": 11210,
    "start_time": "2025-07-25T06:51:03.551Z"
   },
   {
    "duration": 2159,
    "start_time": "2025-07-25T06:51:14.765Z"
   },
   {
    "duration": 959,
    "start_time": "2025-07-25T06:51:16.926Z"
   },
   {
    "duration": 29,
    "start_time": "2025-07-25T06:51:17.887Z"
   },
   {
    "duration": 188,
    "start_time": "2025-07-25T06:51:17.918Z"
   },
   {
    "duration": 598,
    "start_time": "2025-07-25T06:51:18.107Z"
   },
   {
    "duration": 1133,
    "start_time": "2025-07-25T06:51:18.708Z"
   },
   {
    "duration": 702,
    "start_time": "2025-07-25T06:51:19.843Z"
   },
   {
    "duration": 379,
    "start_time": "2025-07-25T06:51:20.547Z"
   },
   {
    "duration": 116,
    "start_time": "2025-07-25T06:51:20.929Z"
   },
   {
    "duration": 48,
    "start_time": "2025-07-25T06:51:21.047Z"
   },
   {
    "duration": 6,
    "start_time": "2025-07-25T06:51:21.106Z"
   },
   {
    "duration": 295,
    "start_time": "2025-07-25T06:51:21.113Z"
   },
   {
    "duration": 53,
    "start_time": "2025-07-25T06:51:21.411Z"
   },
   {
    "duration": 51,
    "start_time": "2025-07-25T06:51:21.466Z"
   },
   {
    "duration": 120,
    "start_time": "2025-07-25T06:51:21.519Z"
   },
   {
    "duration": 56,
    "start_time": "2025-07-25T06:51:21.641Z"
   },
   {
    "duration": 51,
    "start_time": "2025-07-25T06:51:21.698Z"
   },
   {
    "duration": 120,
    "start_time": "2025-07-25T06:51:21.751Z"
   },
   {
    "duration": 53,
    "start_time": "2025-07-25T06:51:21.873Z"
   },
   {
    "duration": 12,
    "start_time": "2025-07-25T06:51:21.927Z"
   },
   {
    "duration": 45,
    "start_time": "2025-07-25T06:51:21.940Z"
   },
   {
    "duration": 39,
    "start_time": "2025-07-25T06:51:21.987Z"
   },
   {
    "duration": 296,
    "start_time": "2025-07-25T06:51:22.027Z"
   },
   {
    "duration": 130,
    "start_time": "2025-07-25T06:51:22.325Z"
   },
   {
    "duration": 19,
    "start_time": "2025-07-25T06:51:22.457Z"
   },
   {
    "duration": 35,
    "start_time": "2025-07-25T06:51:22.493Z"
   },
   {
    "duration": 22,
    "start_time": "2025-07-25T06:51:22.532Z"
   },
   {
    "duration": 8,
    "start_time": "2025-07-25T06:51:22.556Z"
   },
   {
    "duration": 45,
    "start_time": "2025-07-25T06:51:22.565Z"
   },
   {
    "duration": 57,
    "start_time": "2025-07-25T06:51:22.612Z"
   },
   {
    "duration": 9,
    "start_time": "2025-07-25T06:51:22.670Z"
   },
   {
    "duration": 29,
    "start_time": "2025-07-25T06:51:22.681Z"
   },
   {
    "duration": 98,
    "start_time": "2025-07-25T06:51:22.713Z"
   },
   {
    "duration": 108,
    "start_time": "2025-07-25T06:51:22.812Z"
   },
   {
    "duration": 5,
    "start_time": "2025-07-25T06:51:22.921Z"
   },
   {
    "duration": 895,
    "start_time": "2025-07-25T06:51:22.928Z"
   },
   {
    "duration": 5,
    "start_time": "2025-07-25T06:51:23.824Z"
   },
   {
    "duration": 394,
    "start_time": "2025-07-25T06:51:23.831Z"
   },
   {
    "duration": 5,
    "start_time": "2025-07-25T06:51:24.227Z"
   },
   {
    "duration": 1094,
    "start_time": "2025-07-25T06:51:24.233Z"
   },
   {
    "duration": 6,
    "start_time": "2025-07-25T06:51:25.329Z"
   },
   {
    "duration": 902,
    "start_time": "2025-07-25T06:51:25.337Z"
   },
   {
    "duration": 6061,
    "start_time": "2025-07-25T06:51:26.241Z"
   },
   {
    "duration": 6,
    "start_time": "2025-07-25T06:51:32.305Z"
   },
   {
    "duration": 193,
    "start_time": "2025-07-25T06:51:32.312Z"
   },
   {
    "duration": 5,
    "start_time": "2025-07-25T06:51:32.507Z"
   },
   {
    "duration": 3911356,
    "start_time": "2025-07-25T06:51:32.514Z"
   },
   {
    "duration": 6,
    "start_time": "2025-07-25T07:56:43.872Z"
   },
   {
    "duration": 45,
    "start_time": "2025-07-25T07:56:43.879Z"
   },
   {
    "duration": 14,
    "start_time": "2025-07-25T07:56:43.926Z"
   },
   {
    "duration": 430,
    "start_time": "2025-07-25T07:56:43.942Z"
   },
   {
    "duration": 23,
    "start_time": "2025-07-25T07:56:44.374Z"
   },
   {
    "duration": 170,
    "start_time": "2025-07-25T07:56:44.403Z"
   },
   {
    "duration": 49,
    "start_time": "2025-07-25T17:02:10.477Z"
   },
   {
    "duration": 10504,
    "start_time": "2025-07-25T17:04:54.095Z"
   },
   {
    "duration": 1908,
    "start_time": "2025-07-25T17:05:04.602Z"
   },
   {
    "duration": 909,
    "start_time": "2025-07-25T17:05:06.512Z"
   },
   {
    "duration": 16,
    "start_time": "2025-07-25T17:05:07.423Z"
   },
   {
    "duration": 243,
    "start_time": "2025-07-25T17:05:07.440Z"
   },
   {
    "duration": 499,
    "start_time": "2025-07-25T17:05:07.685Z"
   },
   {
    "duration": 1040,
    "start_time": "2025-07-25T17:05:08.186Z"
   },
   {
    "duration": 606,
    "start_time": "2025-07-25T17:05:09.227Z"
   },
   {
    "duration": 315,
    "start_time": "2025-07-25T17:05:09.835Z"
   },
   {
    "duration": 102,
    "start_time": "2025-07-25T17:05:10.153Z"
   },
   {
    "duration": 44,
    "start_time": "2025-07-25T17:05:10.257Z"
   },
   {
    "duration": 44,
    "start_time": "2025-07-25T17:05:10.303Z"
   },
   {
    "duration": 304,
    "start_time": "2025-07-25T17:05:10.348Z"
   },
   {
    "duration": 37,
    "start_time": "2025-07-25T17:05:10.654Z"
   },
   {
    "duration": 38,
    "start_time": "2025-07-25T17:05:10.692Z"
   },
   {
    "duration": 58,
    "start_time": "2025-07-25T17:05:10.732Z"
   },
   {
    "duration": 45,
    "start_time": "2025-07-25T17:05:10.792Z"
   },
   {
    "duration": 48,
    "start_time": "2025-07-25T17:05:10.840Z"
   },
   {
    "duration": 132,
    "start_time": "2025-07-25T17:05:10.890Z"
   },
   {
    "duration": 37,
    "start_time": "2025-07-25T17:05:11.024Z"
   },
   {
    "duration": 22,
    "start_time": "2025-07-25T17:05:11.063Z"
   },
   {
    "duration": 34,
    "start_time": "2025-07-25T17:05:11.086Z"
   },
   {
    "duration": 56,
    "start_time": "2025-07-25T17:05:11.121Z"
   },
   {
    "duration": 281,
    "start_time": "2025-07-25T17:05:11.180Z"
   },
   {
    "duration": 135,
    "start_time": "2025-07-25T17:05:11.463Z"
   },
   {
    "duration": 22,
    "start_time": "2025-07-25T17:05:11.600Z"
   },
   {
    "duration": 28,
    "start_time": "2025-07-25T17:05:11.624Z"
   },
   {
    "duration": 22,
    "start_time": "2025-07-25T17:05:11.680Z"
   },
   {
    "duration": 48,
    "start_time": "2025-07-25T17:05:11.704Z"
   },
   {
    "duration": 10,
    "start_time": "2025-07-25T17:05:11.754Z"
   },
   {
    "duration": 37,
    "start_time": "2025-07-25T17:05:11.766Z"
   },
   {
    "duration": 8,
    "start_time": "2025-07-25T17:05:11.805Z"
   },
   {
    "duration": 21,
    "start_time": "2025-07-25T17:05:11.815Z"
   },
   {
    "duration": 102,
    "start_time": "2025-07-25T17:05:11.838Z"
   },
   {
    "duration": 177,
    "start_time": "2025-07-25T17:05:11.942Z"
   },
   {
    "duration": 98,
    "start_time": "2025-07-25T17:05:12.121Z"
   },
   {
    "duration": 865,
    "start_time": "2025-07-25T17:05:12.221Z"
   },
   {
    "duration": 5,
    "start_time": "2025-07-25T17:05:13.088Z"
   },
   {
    "duration": 356,
    "start_time": "2025-07-25T17:05:13.094Z"
   },
   {
    "duration": 5,
    "start_time": "2025-07-25T17:05:13.452Z"
   },
   {
    "duration": 891,
    "start_time": "2025-07-25T17:05:13.458Z"
   },
   {
    "duration": 5,
    "start_time": "2025-07-25T17:05:14.351Z"
   },
   {
    "duration": 825,
    "start_time": "2025-07-25T17:05:14.357Z"
   },
   {
    "duration": 5305,
    "start_time": "2025-07-25T17:05:15.184Z"
   },
   {
    "duration": 5,
    "start_time": "2025-07-25T17:05:20.491Z"
   },
   {
    "duration": 99,
    "start_time": "2025-07-25T17:05:20.498Z"
   },
   {
    "duration": 5,
    "start_time": "2025-07-25T17:05:20.599Z"
   },
   {
    "duration": 13593,
    "start_time": "2025-07-25T17:05:20.606Z"
   },
   {
    "duration": 0,
    "start_time": "2025-07-25T17:05:34.201Z"
   },
   {
    "duration": 5422,
    "start_time": "2025-07-25T17:08:23.516Z"
   },
   {
    "duration": 1684,
    "start_time": "2025-07-25T17:08:28.941Z"
   },
   {
    "duration": 966,
    "start_time": "2025-07-25T17:08:30.627Z"
   },
   {
    "duration": 17,
    "start_time": "2025-07-25T17:08:31.595Z"
   },
   {
    "duration": 172,
    "start_time": "2025-07-25T17:08:31.614Z"
   },
   {
    "duration": 559,
    "start_time": "2025-07-25T17:08:31.788Z"
   },
   {
    "duration": 1072,
    "start_time": "2025-07-25T17:08:32.349Z"
   },
   {
    "duration": 621,
    "start_time": "2025-07-25T17:08:33.422Z"
   },
   {
    "duration": 310,
    "start_time": "2025-07-25T17:08:34.044Z"
   },
   {
    "duration": 105,
    "start_time": "2025-07-25T17:08:34.356Z"
   },
   {
    "duration": 39,
    "start_time": "2025-07-25T17:08:34.476Z"
   },
   {
    "duration": 27,
    "start_time": "2025-07-25T17:08:34.517Z"
   },
   {
    "duration": 221,
    "start_time": "2025-07-25T17:08:34.546Z"
   },
   {
    "duration": 37,
    "start_time": "2025-07-25T17:08:34.769Z"
   },
   {
    "duration": 43,
    "start_time": "2025-07-25T17:08:34.807Z"
   },
   {
    "duration": 48,
    "start_time": "2025-07-25T17:08:34.852Z"
   },
   {
    "duration": 53,
    "start_time": "2025-07-25T17:08:34.902Z"
   },
   {
    "duration": 40,
    "start_time": "2025-07-25T17:08:34.957Z"
   },
   {
    "duration": 122,
    "start_time": "2025-07-25T17:08:34.999Z"
   },
   {
    "duration": 34,
    "start_time": "2025-07-25T17:08:35.122Z"
   },
   {
    "duration": 25,
    "start_time": "2025-07-25T17:08:35.157Z"
   },
   {
    "duration": 33,
    "start_time": "2025-07-25T17:08:35.184Z"
   },
   {
    "duration": 35,
    "start_time": "2025-07-25T17:08:35.219Z"
   },
   {
    "duration": 283,
    "start_time": "2025-07-25T17:08:35.255Z"
   },
   {
    "duration": 125,
    "start_time": "2025-07-25T17:08:35.539Z"
   },
   {
    "duration": 24,
    "start_time": "2025-07-25T17:08:35.665Z"
   },
   {
    "duration": 118,
    "start_time": "2025-07-25T17:08:35.691Z"
   },
   {
    "duration": 26,
    "start_time": "2025-07-25T17:08:35.813Z"
   },
   {
    "duration": 7,
    "start_time": "2025-07-25T17:08:35.842Z"
   },
   {
    "duration": 48,
    "start_time": "2025-07-25T17:08:35.851Z"
   },
   {
    "duration": 34,
    "start_time": "2025-07-25T17:08:35.902Z"
   },
   {
    "duration": 10,
    "start_time": "2025-07-25T17:08:35.938Z"
   },
   {
    "duration": 122,
    "start_time": "2025-07-25T17:08:35.950Z"
   },
   {
    "duration": 81,
    "start_time": "2025-07-25T17:08:36.074Z"
   },
   {
    "duration": 165,
    "start_time": "2025-07-25T17:08:36.156Z"
   },
   {
    "duration": 34,
    "start_time": "2025-07-25T17:08:36.322Z"
   },
   {
    "duration": 892,
    "start_time": "2025-07-25T17:08:36.358Z"
   },
   {
    "duration": 5,
    "start_time": "2025-07-25T17:08:37.252Z"
   },
   {
    "duration": 380,
    "start_time": "2025-07-25T17:08:37.259Z"
   },
   {
    "duration": 5,
    "start_time": "2025-07-25T17:08:37.641Z"
   },
   {
    "duration": 889,
    "start_time": "2025-07-25T17:08:37.647Z"
   },
   {
    "duration": 5,
    "start_time": "2025-07-25T17:08:38.538Z"
   },
   {
    "duration": 736,
    "start_time": "2025-07-25T17:08:38.545Z"
   },
   {
    "duration": 5315,
    "start_time": "2025-07-25T17:08:39.282Z"
   },
   {
    "duration": 6,
    "start_time": "2025-07-25T17:08:44.599Z"
   },
   {
    "duration": 119,
    "start_time": "2025-07-25T17:08:44.607Z"
   },
   {
    "duration": 5,
    "start_time": "2025-07-25T17:08:44.729Z"
   },
   {
    "duration": 1804574,
    "start_time": "2025-07-25T17:08:44.736Z"
   },
   {
    "duration": 5,
    "start_time": "2025-07-25T17:38:49.312Z"
   },
   {
    "duration": 34,
    "start_time": "2025-07-25T17:44:34.854Z"
   },
   {
    "duration": 21,
    "start_time": "2025-07-25T17:49:21.638Z"
   },
   {
    "duration": 3,
    "start_time": "2025-07-25T18:02:05.371Z"
   },
   {
    "duration": 399,
    "start_time": "2025-07-25T18:02:11.954Z"
   },
   {
    "duration": 9,
    "start_time": "2025-07-25T18:02:15.903Z"
   },
   {
    "duration": 145,
    "start_time": "2025-07-25T18:02:20.118Z"
   },
   {
    "duration": 5380,
    "start_time": "2025-07-25T18:17:09.851Z"
   },
   {
    "duration": 1697,
    "start_time": "2025-07-25T18:17:15.234Z"
   },
   {
    "duration": 862,
    "start_time": "2025-07-25T18:17:16.933Z"
   },
   {
    "duration": 16,
    "start_time": "2025-07-25T18:17:17.797Z"
   },
   {
    "duration": 166,
    "start_time": "2025-07-25T18:17:17.814Z"
   },
   {
    "duration": 501,
    "start_time": "2025-07-25T18:17:17.981Z"
   },
   {
    "duration": 1006,
    "start_time": "2025-07-25T18:17:18.484Z"
   },
   {
    "duration": 588,
    "start_time": "2025-07-25T18:17:19.492Z"
   },
   {
    "duration": 299,
    "start_time": "2025-07-25T18:17:20.082Z"
   },
   {
    "duration": 111,
    "start_time": "2025-07-25T18:17:20.384Z"
   },
   {
    "duration": 38,
    "start_time": "2025-07-25T18:17:20.496Z"
   },
   {
    "duration": 33,
    "start_time": "2025-07-25T18:17:20.536Z"
   },
   {
    "duration": 232,
    "start_time": "2025-07-25T18:17:20.571Z"
   },
   {
    "duration": 37,
    "start_time": "2025-07-25T18:17:20.804Z"
   },
   {
    "duration": 70,
    "start_time": "2025-07-25T18:17:20.842Z"
   },
   {
    "duration": 67,
    "start_time": "2025-07-25T18:17:20.914Z"
   },
   {
    "duration": 75,
    "start_time": "2025-07-25T18:17:20.983Z"
   },
   {
    "duration": 38,
    "start_time": "2025-07-25T18:17:21.060Z"
   },
   {
    "duration": 125,
    "start_time": "2025-07-25T18:17:21.100Z"
   },
   {
    "duration": 33,
    "start_time": "2025-07-25T18:17:21.226Z"
   },
   {
    "duration": 39,
    "start_time": "2025-07-25T18:17:21.260Z"
   },
   {
    "duration": 32,
    "start_time": "2025-07-25T18:17:21.300Z"
   },
   {
    "duration": 31,
    "start_time": "2025-07-25T18:17:21.334Z"
   },
   {
    "duration": 257,
    "start_time": "2025-07-25T18:17:21.367Z"
   },
   {
    "duration": 119,
    "start_time": "2025-07-25T18:17:21.625Z"
   },
   {
    "duration": 20,
    "start_time": "2025-07-25T18:17:21.746Z"
   },
   {
    "duration": 49,
    "start_time": "2025-07-25T18:17:21.775Z"
   },
   {
    "duration": 25,
    "start_time": "2025-07-25T18:17:21.828Z"
   },
   {
    "duration": 29,
    "start_time": "2025-07-25T18:17:21.854Z"
   },
   {
    "duration": 95,
    "start_time": "2025-07-25T18:17:21.885Z"
   },
   {
    "duration": 58,
    "start_time": "2025-07-25T18:17:21.982Z"
   },
   {
    "duration": 9,
    "start_time": "2025-07-25T18:17:22.042Z"
   },
   {
    "duration": 29,
    "start_time": "2025-07-25T18:17:22.052Z"
   },
   {
    "duration": 79,
    "start_time": "2025-07-25T18:17:22.083Z"
   },
   {
    "duration": 85,
    "start_time": "2025-07-25T18:17:22.163Z"
   },
   {
    "duration": 170,
    "start_time": "2025-07-25T18:17:22.250Z"
   },
   {
    "duration": 784,
    "start_time": "2025-07-25T18:17:22.421Z"
   },
   {
    "duration": 5,
    "start_time": "2025-07-25T18:17:23.207Z"
   },
   {
    "duration": 341,
    "start_time": "2025-07-25T18:17:23.213Z"
   },
   {
    "duration": 4,
    "start_time": "2025-07-25T18:17:23.556Z"
   },
   {
    "duration": 872,
    "start_time": "2025-07-25T18:17:23.561Z"
   },
   {
    "duration": 5,
    "start_time": "2025-07-25T18:17:24.435Z"
   },
   {
    "duration": 734,
    "start_time": "2025-07-25T18:17:24.441Z"
   },
   {
    "duration": 5148,
    "start_time": "2025-07-25T18:17:25.177Z"
   },
   {
    "duration": 5,
    "start_time": "2025-07-25T18:17:30.326Z"
   },
   {
    "duration": 224,
    "start_time": "2025-07-25T18:17:30.333Z"
   },
   {
    "duration": 5,
    "start_time": "2025-07-25T18:17:30.559Z"
   },
   {
    "duration": 490779,
    "start_time": "2025-07-25T18:17:30.566Z"
   },
   {
    "duration": 4,
    "start_time": "2025-07-25T18:25:41.347Z"
   },
   {
    "duration": 25,
    "start_time": "2025-07-25T18:25:41.353Z"
   },
   {
    "duration": 24,
    "start_time": "2025-07-25T18:25:41.380Z"
   },
   {
    "duration": 343,
    "start_time": "2025-07-25T18:25:41.406Z"
   },
   {
    "duration": 8,
    "start_time": "2025-07-25T18:25:41.750Z"
   },
   {
    "duration": 215,
    "start_time": "2025-07-25T18:25:41.759Z"
   }
  ],
  "kernelspec": {
   "display_name": "my_first_env",
   "language": "python",
   "name": "python3"
  },
  "language_info": {
   "codemirror_mode": {
    "name": "ipython",
    "version": 3
   },
   "file_extension": ".py",
   "mimetype": "text/x-python",
   "name": "python",
   "nbconvert_exporter": "python",
   "pygments_lexer": "ipython3",
   "version": "3.9.23"
  },
  "toc": {
   "base_numbering": 1,
   "nav_menu": {},
   "number_sections": true,
   "sideBar": true,
   "skip_h1_title": true,
   "title_cell": "Table of Contents",
   "title_sidebar": "Contents",
   "toc_cell": false,
   "toc_position": {
    "height": "calc(100% - 180px)",
    "left": "10px",
    "top": "150px",
    "width": "250px"
   },
   "toc_section_display": true,
   "toc_window_display": true
  }
 },
 "nbformat": 4,
 "nbformat_minor": 4
}
